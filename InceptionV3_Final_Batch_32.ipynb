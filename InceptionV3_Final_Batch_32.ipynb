{
  "cells": [
    {
      "cell_type": "markdown",
      "metadata": {
        "id": "view-in-github",
        "colab_type": "text"
      },
      "source": [
        "<a href=\"https://colab.research.google.com/github/odunola25/MSC-project/blob/work/InceptionV3_Final_Batch_32.ipynb\" target=\"_parent\"><img src=\"https://colab.research.google.com/assets/colab-badge.svg\" alt=\"Open In Colab\"/></a>"
      ]
    },
    {
      "cell_type": "code",
      "execution_count": null,
      "metadata": {
        "colab": {
          "base_uri": "https://localhost:8080/"
        },
        "id": "C_jTvv2xBtWc",
        "outputId": "797df5a8-7afd-4f14-d47d-16ce91e9b895"
      },
      "outputs": [
        {
          "output_type": "stream",
          "name": "stdout",
          "text": [
            "Mounted at /content/drive\n"
          ]
        }
      ],
      "source": [
        "from google.colab import drive\n",
        "drive.mount('/content/drive')"
      ]
    },
    {
      "cell_type": "code",
      "execution_count": null,
      "metadata": {
        "colab": {
          "base_uri": "https://localhost:8080/"
        },
        "id": "eOeeVEZXBx6W",
        "outputId": "f6a23d2a-24fc-433b-c3d3-ce2b888a0689"
      },
      "outputs": [
        {
          "output_type": "stream",
          "name": "stdout",
          "text": [
            "Found 5712 images belonging to 4 classes.\n",
            "Found 1311 images belonging to 4 classes.\n"
          ]
        }
      ],
      "source": [
        "import tensorflow as tf\n",
        "from tensorflow.keras.preprocessing.image import ImageDataGenerator\n",
        "from tensorflow.keras.applications import InceptionV3\n",
        "from tensorflow.keras.models import Sequential\n",
        "from tensorflow.keras.layers import Dense, GlobalAveragePooling2D, Dropout, BatchNormalization\n",
        "from tensorflow.keras.optimizers import Adam\n",
        "from tensorflow.keras.callbacks import ReduceLROnPlateau, EarlyStopping, ModelCheckpoint\n",
        "from sklearn.metrics import accuracy_score, recall_score, roc_auc_score, log_loss, confusion_matrix\n",
        "import matplotlib.pyplot as plt\n",
        "import seaborn as sns\n",
        "import numpy as np\n",
        "\n",
        "train_dir = '/content/drive/MyDrive/MSC Project/Brain Tumor MRI Dataset/Training_project'\n",
        "test_dir = '/content/drive/MyDrive/MSC Project/Brain Tumor MRI Dataset/Testing_project'\n",
        "\n",
        "image_size = (224, 224)\n",
        "batch_size = 32\n",
        "\n",
        "train_datagen = ImageDataGenerator(\n",
        "    rescale=1./255,\n",
        "    rotation_range=20,\n",
        "    width_shift_range=0.2,\n",
        "    height_shift_range=0.2,\n",
        "    shear_range=0.2,\n",
        "    zoom_range=0.2,\n",
        "    horizontal_flip=True\n",
        ")\n",
        "\n",
        "test_datagen = ImageDataGenerator(rescale=1./255)\n",
        "\n",
        "train_generator = train_datagen.flow_from_directory(\n",
        "    train_dir,\n",
        "    target_size=image_size,\n",
        "    batch_size=batch_size,\n",
        "    class_mode='categorical'\n",
        ")\n",
        "\n",
        "test_generator = test_datagen.flow_from_directory(\n",
        "    test_dir,\n",
        "    shuffle = False,\n",
        "    target_size=image_size,\n",
        "    batch_size=batch_size,\n",
        "    class_mode='categorical'\n",
        ")"
      ]
    },
    {
      "cell_type": "code",
      "execution_count": null,
      "metadata": {
        "colab": {
          "base_uri": "https://localhost:8080/",
          "height": 458
        },
        "id": "oGay0EhGHgZS",
        "outputId": "d5782d24-83cf-450d-a853-cd7b5df92a15"
      },
      "outputs": [
        {
          "output_type": "stream",
          "name": "stdout",
          "text": [
            "Downloading data from https://storage.googleapis.com/tensorflow/keras-applications/inception_v3/inception_v3_weights_tf_dim_ordering_tf_kernels_notop.h5\n",
            "\u001b[1m87910968/87910968\u001b[0m \u001b[32m━━━━━━━━━━━━━━━━━━━━\u001b[0m\u001b[37m\u001b[0m \u001b[1m1s\u001b[0m 0us/step\n"
          ]
        },
        {
          "output_type": "display_data",
          "data": {
            "text/plain": [
              "\u001b[1mModel: \"functional\"\u001b[0m\n"
            ],
            "text/html": [
              "<pre style=\"white-space:pre;overflow-x:auto;line-height:normal;font-family:Menlo,'DejaVu Sans Mono',consolas,'Courier New',monospace\"><span style=\"font-weight: bold\">Model: \"functional\"</span>\n",
              "</pre>\n"
            ]
          },
          "metadata": {}
        },
        {
          "output_type": "display_data",
          "data": {
            "text/plain": [
              "┏━━━━━━━━━━━━━━━━━━━━━━━━━━━━━━━━━━━━━━┳━━━━━━━━━━━━━━━━━━━━━━━━━━━━━┳━━━━━━━━━━━━━━━━━┓\n",
              "┃\u001b[1m \u001b[0m\u001b[1mLayer (type)                        \u001b[0m\u001b[1m \u001b[0m┃\u001b[1m \u001b[0m\u001b[1mOutput Shape               \u001b[0m\u001b[1m \u001b[0m┃\u001b[1m \u001b[0m\u001b[1m        Param #\u001b[0m\u001b[1m \u001b[0m┃\n",
              "┡━━━━━━━━━━━━━━━━━━━━━━━━━━━━━━━━━━━━━━╇━━━━━━━━━━━━━━━━━━━━━━━━━━━━━╇━━━━━━━━━━━━━━━━━┩\n",
              "│ input_layer_1 (\u001b[38;5;33mInputLayer\u001b[0m)           │ (\u001b[38;5;45mNone\u001b[0m, \u001b[38;5;34m224\u001b[0m, \u001b[38;5;34m224\u001b[0m, \u001b[38;5;34m3\u001b[0m)         │               \u001b[38;5;34m0\u001b[0m │\n",
              "├──────────────────────────────────────┼─────────────────────────────┼─────────────────┤\n",
              "│ inception_v3 (\u001b[38;5;33mFunctional\u001b[0m)            │ (\u001b[38;5;45mNone\u001b[0m, \u001b[38;5;34m5\u001b[0m, \u001b[38;5;34m5\u001b[0m, \u001b[38;5;34m2048\u001b[0m)          │      \u001b[38;5;34m21,802,784\u001b[0m │\n",
              "├──────────────────────────────────────┼─────────────────────────────┼─────────────────┤\n",
              "│ global_average_pooling2d             │ (\u001b[38;5;45mNone\u001b[0m, \u001b[38;5;34m2048\u001b[0m)                │               \u001b[38;5;34m0\u001b[0m │\n",
              "│ (\u001b[38;5;33mGlobalAveragePooling2D\u001b[0m)             │                             │                 │\n",
              "├──────────────────────────────────────┼─────────────────────────────┼─────────────────┤\n",
              "│ batch_normalization_94               │ (\u001b[38;5;45mNone\u001b[0m, \u001b[38;5;34m2048\u001b[0m)                │           \u001b[38;5;34m8,192\u001b[0m │\n",
              "│ (\u001b[38;5;33mBatchNormalization\u001b[0m)                 │                             │                 │\n",
              "├──────────────────────────────────────┼─────────────────────────────┼─────────────────┤\n",
              "│ dense (\u001b[38;5;33mDense\u001b[0m)                        │ (\u001b[38;5;45mNone\u001b[0m, \u001b[38;5;34m1024\u001b[0m)                │       \u001b[38;5;34m2,098,176\u001b[0m │\n",
              "├──────────────────────────────────────┼─────────────────────────────┼─────────────────┤\n",
              "│ dropout (\u001b[38;5;33mDropout\u001b[0m)                    │ (\u001b[38;5;45mNone\u001b[0m, \u001b[38;5;34m1024\u001b[0m)                │               \u001b[38;5;34m0\u001b[0m │\n",
              "├──────────────────────────────────────┼─────────────────────────────┼─────────────────┤\n",
              "│ dense_1 (\u001b[38;5;33mDense\u001b[0m)                      │ (\u001b[38;5;45mNone\u001b[0m, \u001b[38;5;34m4\u001b[0m)                   │           \u001b[38;5;34m4,100\u001b[0m │\n",
              "└──────────────────────────────────────┴─────────────────────────────┴─────────────────┘\n"
            ],
            "text/html": [
              "<pre style=\"white-space:pre;overflow-x:auto;line-height:normal;font-family:Menlo,'DejaVu Sans Mono',consolas,'Courier New',monospace\">┏━━━━━━━━━━━━━━━━━━━━━━━━━━━━━━━━━━━━━━┳━━━━━━━━━━━━━━━━━━━━━━━━━━━━━┳━━━━━━━━━━━━━━━━━┓\n",
              "┃<span style=\"font-weight: bold\"> Layer (type)                         </span>┃<span style=\"font-weight: bold\"> Output Shape                </span>┃<span style=\"font-weight: bold\">         Param # </span>┃\n",
              "┡━━━━━━━━━━━━━━━━━━━━━━━━━━━━━━━━━━━━━━╇━━━━━━━━━━━━━━━━━━━━━━━━━━━━━╇━━━━━━━━━━━━━━━━━┩\n",
              "│ input_layer_1 (<span style=\"color: #0087ff; text-decoration-color: #0087ff\">InputLayer</span>)           │ (<span style=\"color: #00d7ff; text-decoration-color: #00d7ff\">None</span>, <span style=\"color: #00af00; text-decoration-color: #00af00\">224</span>, <span style=\"color: #00af00; text-decoration-color: #00af00\">224</span>, <span style=\"color: #00af00; text-decoration-color: #00af00\">3</span>)         │               <span style=\"color: #00af00; text-decoration-color: #00af00\">0</span> │\n",
              "├──────────────────────────────────────┼─────────────────────────────┼─────────────────┤\n",
              "│ inception_v3 (<span style=\"color: #0087ff; text-decoration-color: #0087ff\">Functional</span>)            │ (<span style=\"color: #00d7ff; text-decoration-color: #00d7ff\">None</span>, <span style=\"color: #00af00; text-decoration-color: #00af00\">5</span>, <span style=\"color: #00af00; text-decoration-color: #00af00\">5</span>, <span style=\"color: #00af00; text-decoration-color: #00af00\">2048</span>)          │      <span style=\"color: #00af00; text-decoration-color: #00af00\">21,802,784</span> │\n",
              "├──────────────────────────────────────┼─────────────────────────────┼─────────────────┤\n",
              "│ global_average_pooling2d             │ (<span style=\"color: #00d7ff; text-decoration-color: #00d7ff\">None</span>, <span style=\"color: #00af00; text-decoration-color: #00af00\">2048</span>)                │               <span style=\"color: #00af00; text-decoration-color: #00af00\">0</span> │\n",
              "│ (<span style=\"color: #0087ff; text-decoration-color: #0087ff\">GlobalAveragePooling2D</span>)             │                             │                 │\n",
              "├──────────────────────────────────────┼─────────────────────────────┼─────────────────┤\n",
              "│ batch_normalization_94               │ (<span style=\"color: #00d7ff; text-decoration-color: #00d7ff\">None</span>, <span style=\"color: #00af00; text-decoration-color: #00af00\">2048</span>)                │           <span style=\"color: #00af00; text-decoration-color: #00af00\">8,192</span> │\n",
              "│ (<span style=\"color: #0087ff; text-decoration-color: #0087ff\">BatchNormalization</span>)                 │                             │                 │\n",
              "├──────────────────────────────────────┼─────────────────────────────┼─────────────────┤\n",
              "│ dense (<span style=\"color: #0087ff; text-decoration-color: #0087ff\">Dense</span>)                        │ (<span style=\"color: #00d7ff; text-decoration-color: #00d7ff\">None</span>, <span style=\"color: #00af00; text-decoration-color: #00af00\">1024</span>)                │       <span style=\"color: #00af00; text-decoration-color: #00af00\">2,098,176</span> │\n",
              "├──────────────────────────────────────┼─────────────────────────────┼─────────────────┤\n",
              "│ dropout (<span style=\"color: #0087ff; text-decoration-color: #0087ff\">Dropout</span>)                    │ (<span style=\"color: #00d7ff; text-decoration-color: #00d7ff\">None</span>, <span style=\"color: #00af00; text-decoration-color: #00af00\">1024</span>)                │               <span style=\"color: #00af00; text-decoration-color: #00af00\">0</span> │\n",
              "├──────────────────────────────────────┼─────────────────────────────┼─────────────────┤\n",
              "│ dense_1 (<span style=\"color: #0087ff; text-decoration-color: #0087ff\">Dense</span>)                      │ (<span style=\"color: #00d7ff; text-decoration-color: #00d7ff\">None</span>, <span style=\"color: #00af00; text-decoration-color: #00af00\">4</span>)                   │           <span style=\"color: #00af00; text-decoration-color: #00af00\">4,100</span> │\n",
              "└──────────────────────────────────────┴─────────────────────────────┴─────────────────┘\n",
              "</pre>\n"
            ]
          },
          "metadata": {}
        },
        {
          "output_type": "display_data",
          "data": {
            "text/plain": [
              "\u001b[1m Total params: \u001b[0m\u001b[38;5;34m23,913,252\u001b[0m (91.22 MB)\n"
            ],
            "text/html": [
              "<pre style=\"white-space:pre;overflow-x:auto;line-height:normal;font-family:Menlo,'DejaVu Sans Mono',consolas,'Courier New',monospace\"><span style=\"font-weight: bold\"> Total params: </span><span style=\"color: #00af00; text-decoration-color: #00af00\">23,913,252</span> (91.22 MB)\n",
              "</pre>\n"
            ]
          },
          "metadata": {}
        },
        {
          "output_type": "display_data",
          "data": {
            "text/plain": [
              "\u001b[1m Trainable params: \u001b[0m\u001b[38;5;34m23,874,724\u001b[0m (91.07 MB)\n"
            ],
            "text/html": [
              "<pre style=\"white-space:pre;overflow-x:auto;line-height:normal;font-family:Menlo,'DejaVu Sans Mono',consolas,'Courier New',monospace\"><span style=\"font-weight: bold\"> Trainable params: </span><span style=\"color: #00af00; text-decoration-color: #00af00\">23,874,724</span> (91.07 MB)\n",
              "</pre>\n"
            ]
          },
          "metadata": {}
        },
        {
          "output_type": "display_data",
          "data": {
            "text/plain": [
              "\u001b[1m Non-trainable params: \u001b[0m\u001b[38;5;34m38,528\u001b[0m (150.50 KB)\n"
            ],
            "text/html": [
              "<pre style=\"white-space:pre;overflow-x:auto;line-height:normal;font-family:Menlo,'DejaVu Sans Mono',consolas,'Courier New',monospace\"><span style=\"font-weight: bold\"> Non-trainable params: </span><span style=\"color: #00af00; text-decoration-color: #00af00\">38,528</span> (150.50 KB)\n",
              "</pre>\n"
            ]
          },
          "metadata": {}
        }
      ],
      "source": [
        "# Load the pre-trained MobileNet model\n",
        "inception_base = InceptionV3(weights='imagenet', include_top=False, input_shape=(224, 224, 3))\n",
        "\n",
        "from tensorflow.keras import Model, Input\n",
        "\n",
        "# Define the model\n",
        "inputs = Input(shape=(224, 224, 3))\n",
        "x = inception_base(inputs, training=False)  # Use 'training=False' to keep batch norm and dropout layers in inference mode\n",
        "x = GlobalAveragePooling2D()(x) # Apply global average pooling to convert feature maps to a single vector\n",
        "x = BatchNormalization()(x) # Normalize the output to improve training speed and stability\n",
        "x = Dense(1024, activation='relu', kernel_regularizer=tf.keras.regularizers.l2(0.001))(x) # Add a dense layer with L2 regularization to avoid overfitting\n",
        "x = Dropout(0.5)(x)\n",
        "outputs = Dense(4, activation='softmax')(x)\n",
        "\n",
        "inception_model = Model(inputs, outputs)\n",
        "\n",
        "# Print model summary\n",
        "inception_model.summary()\n",
        "\n",
        "# Fine-tune the MobileNet model\n",
        "fine_tune_at_inception = 100\n",
        "inception_base.trainable = True  # Make all layers trainable\n",
        "for layer in inception_base.layers[:fine_tune_at_inception]:\n",
        "    layer.trainable = False  # Freeze the layers up to fine_tune_at_mobilenet\n",
        "\n",
        "# Compile the model\n",
        "inception_model.compile(\n",
        "    optimizer=Adam(learning_rate=1e-5),\n",
        "    loss='categorical_crossentropy',\n",
        "    metrics=['accuracy']\n",
        ")\n",
        "\n",
        "# Print the summary of the model after compiling\n",
        "#inception_model.summary()"
      ]
    },
    {
      "cell_type": "code",
      "execution_count": null,
      "metadata": {
        "colab": {
          "base_uri": "https://localhost:8080/"
        },
        "id": "FkL35MFXHpFN",
        "outputId": "5a14dbfb-08d7-4f04-90bd-d57c57ac28e0"
      },
      "outputs": [
        {
          "metadata": {
            "tags": null
          },
          "name": "stdout",
          "output_type": "stream",
          "text": [
            "Epoch 1/100\n"
          ]
        },
        {
          "metadata": {
            "tags": null
          },
          "name": "stderr",
          "output_type": "stream",
          "text": [
            "/usr/local/lib/python3.10/dist-packages/keras/src/trainers/data_adapters/py_dataset_adapter.py:121: UserWarning: Your `PyDataset` class should call `super().__init__(**kwargs)` in its constructor. `**kwargs` can include `workers`, `use_multiprocessing`, `max_queue_size`. Do not pass these arguments to `fit()`, as they will be ignored.\n",
            "  self._warn_if_super_not_called()\n"
          ]
        },
        {
          "output_type": "stream",
          "name": "stdout",
          "text": [
            "\u001b[1m179/179\u001b[0m \u001b[32m━━━━━━━━━━━━━━━━━━━━\u001b[0m\u001b[37m\u001b[0m \u001b[1m0s\u001b[0m 8s/step - accuracy: 0.4456 - loss: 2.8696\n",
            "Epoch 1: val_loss improved from inf to 1.98581, saving model to /content/drive/MyDrive/Colab Notebooks/Odunola Thesis/32_inception_fine_tuned_model.keras\n",
            "\u001b[1m179/179\u001b[0m \u001b[32m━━━━━━━━━━━━━━━━━━━━\u001b[0m\u001b[37m\u001b[0m \u001b[1m1919s\u001b[0m 10s/step - accuracy: 0.4463 - loss: 2.8676 - val_accuracy: 0.7712 - val_loss: 1.9858 - learning_rate: 1.0000e-05\n",
            "Epoch 2/100\n",
            "\u001b[1m179/179\u001b[0m \u001b[32m━━━━━━━━━━━━━━━━━━━━\u001b[0m\u001b[37m\u001b[0m \u001b[1m0s\u001b[0m 508ms/step - accuracy: 0.7506 - loss: 2.0515\n",
            "Epoch 2: val_loss improved from 1.98581 to 1.82857, saving model to /content/drive/MyDrive/Colab Notebooks/Odunola Thesis/32_inception_fine_tuned_model.keras\n",
            "\u001b[1m179/179\u001b[0m \u001b[32m━━━━━━━━━━━━━━━━━━━━\u001b[0m\u001b[37m\u001b[0m \u001b[1m160s\u001b[0m 585ms/step - accuracy: 0.7507 - loss: 2.0512 - val_accuracy: 0.8261 - val_loss: 1.8286 - learning_rate: 1.0000e-05\n",
            "Epoch 3/100\n",
            "\u001b[1m179/179\u001b[0m \u001b[32m━━━━━━━━━━━━━━━━━━━━\u001b[0m\u001b[37m\u001b[0m \u001b[1m0s\u001b[0m 509ms/step - accuracy: 0.8059 - loss: 1.9132\n",
            "Epoch 3: val_loss improved from 1.82857 to 1.76191, saving model to /content/drive/MyDrive/Colab Notebooks/Odunola Thesis/32_inception_fine_tuned_model.keras\n",
            "\u001b[1m179/179\u001b[0m \u001b[32m━━━━━━━━━━━━━━━━━━━━\u001b[0m\u001b[37m\u001b[0m \u001b[1m137s\u001b[0m 563ms/step - accuracy: 0.8060 - loss: 1.9128 - val_accuracy: 0.8581 - val_loss: 1.7619 - learning_rate: 1.0000e-05\n",
            "Epoch 4/100\n",
            "\u001b[1m179/179\u001b[0m \u001b[32m━━━━━━━━━━━━━━━━━━━━\u001b[0m\u001b[37m\u001b[0m \u001b[1m0s\u001b[0m 505ms/step - accuracy: 0.8588 - loss: 1.7560\n",
            "Epoch 4: val_loss improved from 1.76191 to 1.69916, saving model to /content/drive/MyDrive/Colab Notebooks/Odunola Thesis/32_inception_fine_tuned_model.keras\n",
            "\u001b[1m179/179\u001b[0m \u001b[32m━━━━━━━━━━━━━━━━━━━━\u001b[0m\u001b[37m\u001b[0m \u001b[1m147s\u001b[0m 583ms/step - accuracy: 0.8588 - loss: 1.7559 - val_accuracy: 0.8757 - val_loss: 1.6992 - learning_rate: 1.0000e-05\n",
            "Epoch 5/100\n",
            "\u001b[1m179/179\u001b[0m \u001b[32m━━━━━━━━━━━━━━━━━━━━\u001b[0m\u001b[37m\u001b[0m \u001b[1m0s\u001b[0m 510ms/step - accuracy: 0.8640 - loss: 1.7255\n",
            "Epoch 5: val_loss improved from 1.69916 to 1.63271, saving model to /content/drive/MyDrive/Colab Notebooks/Odunola Thesis/32_inception_fine_tuned_model.keras\n",
            "\u001b[1m179/179\u001b[0m \u001b[32m━━━━━━━━━━━━━━━━━━━━\u001b[0m\u001b[37m\u001b[0m \u001b[1m137s\u001b[0m 565ms/step - accuracy: 0.8640 - loss: 1.7255 - val_accuracy: 0.8947 - val_loss: 1.6327 - learning_rate: 1.0000e-05\n",
            "Epoch 6/100\n",
            "\u001b[1m179/179\u001b[0m \u001b[32m━━━━━━━━━━━━━━━━━━━━\u001b[0m\u001b[37m\u001b[0m \u001b[1m0s\u001b[0m 508ms/step - accuracy: 0.8900 - loss: 1.6687\n",
            "Epoch 6: val_loss improved from 1.63271 to 1.58694, saving model to /content/drive/MyDrive/Colab Notebooks/Odunola Thesis/32_inception_fine_tuned_model.keras\n",
            "\u001b[1m179/179\u001b[0m \u001b[32m━━━━━━━━━━━━━━━━━━━━\u001b[0m\u001b[37m\u001b[0m \u001b[1m111s\u001b[0m 593ms/step - accuracy: 0.8900 - loss: 1.6686 - val_accuracy: 0.9130 - val_loss: 1.5869 - learning_rate: 1.0000e-05\n",
            "Epoch 7/100\n",
            "\u001b[1m179/179\u001b[0m \u001b[32m━━━━━━━━━━━━━━━━━━━━\u001b[0m\u001b[37m\u001b[0m \u001b[1m0s\u001b[0m 507ms/step - accuracy: 0.8970 - loss: 1.6338\n",
            "Epoch 7: val_loss improved from 1.58694 to 1.56209, saving model to /content/drive/MyDrive/Colab Notebooks/Odunola Thesis/32_inception_fine_tuned_model.keras\n",
            "\u001b[1m179/179\u001b[0m \u001b[32m━━━━━━━━━━━━━━━━━━━━\u001b[0m\u001b[37m\u001b[0m \u001b[1m138s\u001b[0m 578ms/step - accuracy: 0.8970 - loss: 1.6337 - val_accuracy: 0.9222 - val_loss: 1.5621 - learning_rate: 1.0000e-05\n",
            "Epoch 8/100\n",
            "\u001b[1m179/179\u001b[0m \u001b[32m━━━━━━━━━━━━━━━━━━━━\u001b[0m\u001b[37m\u001b[0m \u001b[1m0s\u001b[0m 512ms/step - accuracy: 0.9176 - loss: 1.5676\n",
            "Epoch 8: val_loss improved from 1.56209 to 1.52207, saving model to /content/drive/MyDrive/Colab Notebooks/Odunola Thesis/32_inception_fine_tuned_model.keras\n",
            "\u001b[1m179/179\u001b[0m \u001b[32m━━━━━━━━━━━━━━━━━━━━\u001b[0m\u001b[37m\u001b[0m \u001b[1m108s\u001b[0m 585ms/step - accuracy: 0.9176 - loss: 1.5676 - val_accuracy: 0.9359 - val_loss: 1.5221 - learning_rate: 1.0000e-05\n",
            "Epoch 9/100\n",
            "\u001b[1m179/179\u001b[0m \u001b[32m━━━━━━━━━━━━━━━━━━━━\u001b[0m\u001b[37m\u001b[0m \u001b[1m0s\u001b[0m 511ms/step - accuracy: 0.9217 - loss: 1.5645\n",
            "Epoch 9: val_loss improved from 1.52207 to 1.49612, saving model to /content/drive/MyDrive/Colab Notebooks/Odunola Thesis/32_inception_fine_tuned_model.keras\n",
            "\u001b[1m179/179\u001b[0m \u001b[32m━━━━━━━━━━━━━━━━━━━━\u001b[0m\u001b[37m\u001b[0m \u001b[1m141s\u001b[0m 586ms/step - accuracy: 0.9217 - loss: 1.5645 - val_accuracy: 0.9397 - val_loss: 1.4961 - learning_rate: 1.0000e-05\n",
            "Epoch 10/100\n",
            "\u001b[1m179/179\u001b[0m \u001b[32m━━━━━━━━━━━━━━━━━━━━\u001b[0m\u001b[37m\u001b[0m \u001b[1m0s\u001b[0m 518ms/step - accuracy: 0.9191 - loss: 1.5627\n",
            "Epoch 10: val_loss improved from 1.49612 to 1.47754, saving model to /content/drive/MyDrive/Colab Notebooks/Odunola Thesis/32_inception_fine_tuned_model.keras\n",
            "\u001b[1m179/179\u001b[0m \u001b[32m━━━━━━━━━━━━━━━━━━━━\u001b[0m\u001b[37m\u001b[0m \u001b[1m105s\u001b[0m 572ms/step - accuracy: 0.9191 - loss: 1.5626 - val_accuracy: 0.9458 - val_loss: 1.4775 - learning_rate: 1.0000e-05\n",
            "Epoch 11/100\n",
            "\u001b[1m179/179\u001b[0m \u001b[32m━━━━━━━━━━━━━━━━━━━━\u001b[0m\u001b[37m\u001b[0m \u001b[1m0s\u001b[0m 509ms/step - accuracy: 0.9284 - loss: 1.5359\n",
            "Epoch 11: val_loss improved from 1.47754 to 1.45848, saving model to /content/drive/MyDrive/Colab Notebooks/Odunola Thesis/32_inception_fine_tuned_model.keras\n",
            "\u001b[1m179/179\u001b[0m \u001b[32m━━━━━━━━━━━━━━━━━━━━\u001b[0m\u001b[37m\u001b[0m \u001b[1m112s\u001b[0m 600ms/step - accuracy: 0.9284 - loss: 1.5358 - val_accuracy: 0.9542 - val_loss: 1.4585 - learning_rate: 1.0000e-05\n",
            "Epoch 12/100\n",
            "\u001b[1m179/179\u001b[0m \u001b[32m━━━━━━━━━━━━━━━━━━━━\u001b[0m\u001b[37m\u001b[0m \u001b[1m0s\u001b[0m 505ms/step - accuracy: 0.9439 - loss: 1.4905\n",
            "Epoch 12: val_loss improved from 1.45848 to 1.43732, saving model to /content/drive/MyDrive/Colab Notebooks/Odunola Thesis/32_inception_fine_tuned_model.keras\n",
            "\u001b[1m179/179\u001b[0m \u001b[32m━━━━━━━━━━━━━━━━━━━━\u001b[0m\u001b[37m\u001b[0m \u001b[1m138s\u001b[0m 583ms/step - accuracy: 0.9439 - loss: 1.4905 - val_accuracy: 0.9504 - val_loss: 1.4373 - learning_rate: 1.0000e-05\n",
            "Epoch 13/100\n",
            "\u001b[1m179/179\u001b[0m \u001b[32m━━━━━━━━━━━━━━━━━━━━\u001b[0m\u001b[37m\u001b[0m \u001b[1m0s\u001b[0m 509ms/step - accuracy: 0.9425 - loss: 1.4903\n",
            "Epoch 13: val_loss improved from 1.43732 to 1.42846, saving model to /content/drive/MyDrive/Colab Notebooks/Odunola Thesis/32_inception_fine_tuned_model.keras\n",
            "\u001b[1m179/179\u001b[0m \u001b[32m━━━━━━━━━━━━━━━━━━━━\u001b[0m\u001b[37m\u001b[0m \u001b[1m110s\u001b[0m 587ms/step - accuracy: 0.9425 - loss: 1.4902 - val_accuracy: 0.9580 - val_loss: 1.4285 - learning_rate: 1.0000e-05\n",
            "Epoch 14/100\n",
            "\u001b[1m179/179\u001b[0m \u001b[32m━━━━━━━━━━━━━━━━━━━━\u001b[0m\u001b[37m\u001b[0m \u001b[1m0s\u001b[0m 504ms/step - accuracy: 0.9544 - loss: 1.4493\n",
            "Epoch 14: val_loss improved from 1.42846 to 1.40795, saving model to /content/drive/MyDrive/Colab Notebooks/Odunola Thesis/32_inception_fine_tuned_model.keras\n",
            "\u001b[1m179/179\u001b[0m \u001b[32m━━━━━━━━━━━━━━━━━━━━\u001b[0m\u001b[37m\u001b[0m \u001b[1m140s\u001b[0m 583ms/step - accuracy: 0.9543 - loss: 1.4494 - val_accuracy: 0.9634 - val_loss: 1.4080 - learning_rate: 1.0000e-05\n",
            "Epoch 15/100\n",
            "\u001b[1m179/179\u001b[0m \u001b[32m━━━━━━━━━━━━━━━━━━━━\u001b[0m\u001b[37m\u001b[0m \u001b[1m0s\u001b[0m 501ms/step - accuracy: 0.9581 - loss: 1.4294\n",
            "Epoch 15: val_loss improved from 1.40795 to 1.38874, saving model to /content/drive/MyDrive/Colab Notebooks/Odunola Thesis/32_inception_fine_tuned_model.keras\n",
            "\u001b[1m179/179\u001b[0m \u001b[32m━━━━━━━━━━━━━━━━━━━━\u001b[0m\u001b[37m\u001b[0m \u001b[1m147s\u001b[0m 608ms/step - accuracy: 0.9581 - loss: 1.4294 - val_accuracy: 0.9703 - val_loss: 1.3887 - learning_rate: 1.0000e-05\n",
            "Epoch 16/100\n",
            "\u001b[1m179/179\u001b[0m \u001b[32m━━━━━━━━━━━━━━━━━━━━\u001b[0m\u001b[37m\u001b[0m \u001b[1m0s\u001b[0m 509ms/step - accuracy: 0.9541 - loss: 1.4290\n",
            "Epoch 16: val_loss improved from 1.38874 to 1.38192, saving model to /content/drive/MyDrive/Colab Notebooks/Odunola Thesis/32_inception_fine_tuned_model.keras\n",
            "\u001b[1m179/179\u001b[0m \u001b[32m━━━━━━━━━━━━━━━━━━━━\u001b[0m\u001b[37m\u001b[0m \u001b[1m134s\u001b[0m 572ms/step - accuracy: 0.9541 - loss: 1.4290 - val_accuracy: 0.9710 - val_loss: 1.3819 - learning_rate: 1.0000e-05\n",
            "Epoch 17/100\n",
            "\u001b[1m179/179\u001b[0m \u001b[32m━━━━━━━━━━━━━━━━━━━━\u001b[0m\u001b[37m\u001b[0m \u001b[1m0s\u001b[0m 508ms/step - accuracy: 0.9574 - loss: 1.4252\n",
            "Epoch 17: val_loss improved from 1.38192 to 1.37215, saving model to /content/drive/MyDrive/Colab Notebooks/Odunola Thesis/32_inception_fine_tuned_model.keras\n",
            "\u001b[1m179/179\u001b[0m \u001b[32m━━━━━━━━━━━━━━━━━━━━\u001b[0m\u001b[37m\u001b[0m \u001b[1m106s\u001b[0m 566ms/step - accuracy: 0.9574 - loss: 1.4252 - val_accuracy: 0.9672 - val_loss: 1.3722 - learning_rate: 1.0000e-05\n",
            "Epoch 18/100\n",
            "\u001b[1m179/179\u001b[0m \u001b[32m━━━━━━━━━━━━━━━━━━━━\u001b[0m\u001b[37m\u001b[0m \u001b[1m0s\u001b[0m 506ms/step - accuracy: 0.9638 - loss: 1.4037\n",
            "Epoch 18: val_loss improved from 1.37215 to 1.35300, saving model to /content/drive/MyDrive/Colab Notebooks/Odunola Thesis/32_inception_fine_tuned_model.keras\n",
            "\u001b[1m179/179\u001b[0m \u001b[32m━━━━━━━━━━━━━━━━━━━━\u001b[0m\u001b[37m\u001b[0m \u001b[1m117s\u001b[0m 609ms/step - accuracy: 0.9638 - loss: 1.4037 - val_accuracy: 0.9779 - val_loss: 1.3530 - learning_rate: 1.0000e-05\n",
            "Epoch 19/100\n",
            "\u001b[1m179/179\u001b[0m \u001b[32m━━━━━━━━━━━━━━━━━━━━\u001b[0m\u001b[37m\u001b[0m \u001b[1m0s\u001b[0m 509ms/step - accuracy: 0.9613 - loss: 1.4044\n",
            "Epoch 19: val_loss improved from 1.35300 to 1.34231, saving model to /content/drive/MyDrive/Colab Notebooks/Odunola Thesis/32_inception_fine_tuned_model.keras\n",
            "\u001b[1m179/179\u001b[0m \u001b[32m━━━━━━━━━━━━━━━━━━━━\u001b[0m\u001b[37m\u001b[0m \u001b[1m106s\u001b[0m 570ms/step - accuracy: 0.9613 - loss: 1.4044 - val_accuracy: 0.9817 - val_loss: 1.3423 - learning_rate: 1.0000e-05\n",
            "Epoch 20/100\n",
            "\u001b[1m179/179\u001b[0m \u001b[32m━━━━━━━━━━━━━━━━━━━━\u001b[0m\u001b[37m\u001b[0m \u001b[1m0s\u001b[0m 512ms/step - accuracy: 0.9665 - loss: 1.3782\n",
            "Epoch 20: val_loss improved from 1.34231 to 1.33171, saving model to /content/drive/MyDrive/Colab Notebooks/Odunola Thesis/32_inception_fine_tuned_model.keras\n",
            "\u001b[1m179/179\u001b[0m \u001b[32m━━━━━━━━━━━━━━━━━━━━\u001b[0m\u001b[37m\u001b[0m \u001b[1m106s\u001b[0m 570ms/step - accuracy: 0.9665 - loss: 1.3782 - val_accuracy: 0.9802 - val_loss: 1.3317 - learning_rate: 1.0000e-05\n",
            "Epoch 21/100\n",
            "\u001b[1m179/179\u001b[0m \u001b[32m━━━━━━━━━━━━━━━━━━━━\u001b[0m\u001b[37m\u001b[0m \u001b[1m0s\u001b[0m 516ms/step - accuracy: 0.9679 - loss: 1.3770\n",
            "Epoch 21: val_loss improved from 1.33171 to 1.32184, saving model to /content/drive/MyDrive/Colab Notebooks/Odunola Thesis/32_inception_fine_tuned_model.keras\n",
            "\u001b[1m179/179\u001b[0m \u001b[32m━━━━━━━━━━━━━━━━━━━━\u001b[0m\u001b[37m\u001b[0m \u001b[1m110s\u001b[0m 595ms/step - accuracy: 0.9679 - loss: 1.3769 - val_accuracy: 0.9832 - val_loss: 1.3218 - learning_rate: 1.0000e-05\n",
            "Epoch 22/100\n",
            "\u001b[1m179/179\u001b[0m \u001b[32m━━━━━━━━━━━━━━━━━━━━\u001b[0m\u001b[37m\u001b[0m \u001b[1m0s\u001b[0m 514ms/step - accuracy: 0.9744 - loss: 1.3434\n",
            "Epoch 22: val_loss improved from 1.32184 to 1.31053, saving model to /content/drive/MyDrive/Colab Notebooks/Odunola Thesis/32_inception_fine_tuned_model.keras\n",
            "\u001b[1m179/179\u001b[0m \u001b[32m━━━━━━━━━━━━━━━━━━━━\u001b[0m\u001b[37m\u001b[0m \u001b[1m111s\u001b[0m 594ms/step - accuracy: 0.9744 - loss: 1.3434 - val_accuracy: 0.9855 - val_loss: 1.3105 - learning_rate: 1.0000e-05\n",
            "Epoch 23/100\n",
            "\u001b[1m179/179\u001b[0m \u001b[32m━━━━━━━━━━━━━━━━━━━━\u001b[0m\u001b[37m\u001b[0m \u001b[1m0s\u001b[0m 516ms/step - accuracy: 0.9695 - loss: 1.3457\n",
            "Epoch 23: val_loss improved from 1.31053 to 1.30193, saving model to /content/drive/MyDrive/Colab Notebooks/Odunola Thesis/32_inception_fine_tuned_model.keras\n",
            "\u001b[1m179/179\u001b[0m \u001b[32m━━━━━━━━━━━━━━━━━━━━\u001b[0m\u001b[37m\u001b[0m \u001b[1m111s\u001b[0m 601ms/step - accuracy: 0.9695 - loss: 1.3457 - val_accuracy: 0.9870 - val_loss: 1.3019 - learning_rate: 1.0000e-05\n",
            "Epoch 24/100\n",
            "\u001b[1m179/179\u001b[0m \u001b[32m━━━━━━━━━━━━━━━━━━━━\u001b[0m\u001b[37m\u001b[0m \u001b[1m0s\u001b[0m 502ms/step - accuracy: 0.9800 - loss: 1.3239\n",
            "Epoch 24: val_loss improved from 1.30193 to 1.29165, saving model to /content/drive/MyDrive/Colab Notebooks/Odunola Thesis/32_inception_fine_tuned_model.keras\n",
            "\u001b[1m179/179\u001b[0m \u001b[32m━━━━━━━━━━━━━━━━━━━━\u001b[0m\u001b[37m\u001b[0m \u001b[1m141s\u001b[0m 600ms/step - accuracy: 0.9800 - loss: 1.3239 - val_accuracy: 0.9878 - val_loss: 1.2917 - learning_rate: 1.0000e-05\n",
            "Epoch 25/100\n",
            "\u001b[1m179/179\u001b[0m \u001b[32m━━━━━━━━━━━━━━━━━━━━\u001b[0m\u001b[37m\u001b[0m \u001b[1m0s\u001b[0m 513ms/step - accuracy: 0.9841 - loss: 1.3053\n",
            "Epoch 25: val_loss improved from 1.29165 to 1.27942, saving model to /content/drive/MyDrive/Colab Notebooks/Odunola Thesis/32_inception_fine_tuned_model.keras\n",
            "\u001b[1m179/179\u001b[0m \u001b[32m━━━━━━━━━━━━━━━━━━━━\u001b[0m\u001b[37m\u001b[0m \u001b[1m109s\u001b[0m 587ms/step - accuracy: 0.9841 - loss: 1.3053 - val_accuracy: 0.9901 - val_loss: 1.2794 - learning_rate: 1.0000e-05\n",
            "Epoch 26/100\n",
            "\u001b[1m179/179\u001b[0m \u001b[32m━━━━━━━━━━━━━━━━━━━━\u001b[0m\u001b[37m\u001b[0m \u001b[1m0s\u001b[0m 515ms/step - accuracy: 0.9807 - loss: 1.3030\n",
            "Epoch 26: val_loss improved from 1.27942 to 1.26955, saving model to /content/drive/MyDrive/Colab Notebooks/Odunola Thesis/32_inception_fine_tuned_model.keras\n",
            "\u001b[1m179/179\u001b[0m \u001b[32m━━━━━━━━━━━━━━━━━━━━\u001b[0m\u001b[37m\u001b[0m \u001b[1m105s\u001b[0m 571ms/step - accuracy: 0.9807 - loss: 1.3030 - val_accuracy: 0.9916 - val_loss: 1.2695 - learning_rate: 1.0000e-05\n",
            "Epoch 27/100\n",
            "\u001b[1m179/179\u001b[0m \u001b[32m━━━━━━━━━━━━━━━━━━━━\u001b[0m\u001b[37m\u001b[0m \u001b[1m0s\u001b[0m 519ms/step - accuracy: 0.9795 - loss: 1.2970\n",
            "Epoch 27: val_loss improved from 1.26955 to 1.26313, saving model to /content/drive/MyDrive/Colab Notebooks/Odunola Thesis/32_inception_fine_tuned_model.keras\n",
            "\u001b[1m179/179\u001b[0m \u001b[32m━━━━━━━━━━━━━━━━━━━━\u001b[0m\u001b[37m\u001b[0m \u001b[1m111s\u001b[0m 603ms/step - accuracy: 0.9795 - loss: 1.2970 - val_accuracy: 0.9916 - val_loss: 1.2631 - learning_rate: 1.0000e-05\n",
            "Epoch 28/100\n",
            "\u001b[1m179/179\u001b[0m \u001b[32m━━━━━━━━━━━━━━━━━━━━\u001b[0m\u001b[37m\u001b[0m \u001b[1m0s\u001b[0m 506ms/step - accuracy: 0.9809 - loss: 1.2871\n",
            "Epoch 28: val_loss improved from 1.26313 to 1.25494, saving model to /content/drive/MyDrive/Colab Notebooks/Odunola Thesis/32_inception_fine_tuned_model.keras\n",
            "\u001b[1m179/179\u001b[0m \u001b[32m━━━━━━━━━━━━━━━━━━━━\u001b[0m\u001b[37m\u001b[0m \u001b[1m141s\u001b[0m 593ms/step - accuracy: 0.9809 - loss: 1.2871 - val_accuracy: 0.9924 - val_loss: 1.2549 - learning_rate: 1.0000e-05\n",
            "Epoch 29/100\n",
            "\u001b[1m179/179\u001b[0m \u001b[32m━━━━━━━━━━━━━━━━━━━━\u001b[0m\u001b[37m\u001b[0m \u001b[1m0s\u001b[0m 512ms/step - accuracy: 0.9862 - loss: 1.2650\n",
            "Epoch 29: val_loss improved from 1.25494 to 1.24959, saving model to /content/drive/MyDrive/Colab Notebooks/Odunola Thesis/32_inception_fine_tuned_model.keras\n",
            "\u001b[1m179/179\u001b[0m \u001b[32m━━━━━━━━━━━━━━━━━━━━\u001b[0m\u001b[37m\u001b[0m \u001b[1m114s\u001b[0m 606ms/step - accuracy: 0.9862 - loss: 1.2650 - val_accuracy: 0.9916 - val_loss: 1.2496 - learning_rate: 1.0000e-05\n",
            "Epoch 30/100\n",
            "\u001b[1m179/179\u001b[0m \u001b[32m━━━━━━━━━━━━━━━━━━━━\u001b[0m\u001b[37m\u001b[0m \u001b[1m0s\u001b[0m 514ms/step - accuracy: 0.9868 - loss: 1.2548\n",
            "Epoch 30: val_loss improved from 1.24959 to 1.24020, saving model to /content/drive/MyDrive/Colab Notebooks/Odunola Thesis/32_inception_fine_tuned_model.keras\n",
            "\u001b[1m179/179\u001b[0m \u001b[32m━━━━━━━━━━━━━━━━━━━━\u001b[0m\u001b[37m\u001b[0m \u001b[1m116s\u001b[0m 621ms/step - accuracy: 0.9868 - loss: 1.2548 - val_accuracy: 0.9901 - val_loss: 1.2402 - learning_rate: 1.0000e-05\n",
            "Epoch 31/100\n",
            "\u001b[1m179/179\u001b[0m \u001b[32m━━━━━━━━━━━━━━━━━━━━\u001b[0m\u001b[37m\u001b[0m \u001b[1m0s\u001b[0m 504ms/step - accuracy: 0.9852 - loss: 1.2568\n",
            "Epoch 31: val_loss improved from 1.24020 to 1.22937, saving model to /content/drive/MyDrive/Colab Notebooks/Odunola Thesis/32_inception_fine_tuned_model.keras\n",
            "\u001b[1m179/179\u001b[0m \u001b[32m━━━━━━━━━━━━━━━━━━━━\u001b[0m\u001b[37m\u001b[0m \u001b[1m137s\u001b[0m 605ms/step - accuracy: 0.9852 - loss: 1.2568 - val_accuracy: 0.9924 - val_loss: 1.2294 - learning_rate: 1.0000e-05\n",
            "Epoch 32/100\n",
            "\u001b[1m179/179\u001b[0m \u001b[32m━━━━━━━━━━━━━━━━━━━━\u001b[0m\u001b[37m\u001b[0m \u001b[1m0s\u001b[0m 523ms/step - accuracy: 0.9826 - loss: 1.2506\n",
            "Epoch 32: val_loss improved from 1.22937 to 1.22012, saving model to /content/drive/MyDrive/Colab Notebooks/Odunola Thesis/32_inception_fine_tuned_model.keras\n",
            "\u001b[1m179/179\u001b[0m \u001b[32m━━━━━━━━━━━━━━━━━━━━\u001b[0m\u001b[37m\u001b[0m \u001b[1m110s\u001b[0m 598ms/step - accuracy: 0.9826 - loss: 1.2506 - val_accuracy: 0.9947 - val_loss: 1.2201 - learning_rate: 1.0000e-05\n",
            "Epoch 33/100\n",
            "\u001b[1m179/179\u001b[0m \u001b[32m━━━━━━━━━━━━━━━━━━━━\u001b[0m\u001b[37m\u001b[0m \u001b[1m0s\u001b[0m 504ms/step - accuracy: 0.9850 - loss: 1.2353\n",
            "Epoch 33: val_loss did not improve from 1.22012\n",
            "\u001b[1m179/179\u001b[0m \u001b[32m━━━━━━━━━━━━━━━━━━━━\u001b[0m\u001b[37m\u001b[0m \u001b[1m132s\u001b[0m 536ms/step - accuracy: 0.9850 - loss: 1.2353 - val_accuracy: 0.9908 - val_loss: 1.2203 - learning_rate: 1.0000e-05\n",
            "Epoch 34/100\n",
            "\u001b[1m179/179\u001b[0m \u001b[32m━━━━━━━━━━━━━━━━━━━━\u001b[0m\u001b[37m\u001b[0m \u001b[1m0s\u001b[0m 504ms/step - accuracy: 0.9837 - loss: 1.2371\n",
            "Epoch 34: val_loss improved from 1.22012 to 1.20250, saving model to /content/drive/MyDrive/Colab Notebooks/Odunola Thesis/32_inception_fine_tuned_model.keras\n",
            "\u001b[1m179/179\u001b[0m \u001b[32m━━━━━━━━━━━━━━━━━━━━\u001b[0m\u001b[37m\u001b[0m \u001b[1m114s\u001b[0m 616ms/step - accuracy: 0.9837 - loss: 1.2370 - val_accuracy: 0.9939 - val_loss: 1.2025 - learning_rate: 1.0000e-05\n",
            "Epoch 35/100\n",
            "\u001b[1m179/179\u001b[0m \u001b[32m━━━━━━━━━━━━━━━━━━━━\u001b[0m\u001b[37m\u001b[0m \u001b[1m0s\u001b[0m 518ms/step - accuracy: 0.9877 - loss: 1.2104\n",
            "Epoch 35: val_loss improved from 1.20250 to 1.19574, saving model to /content/drive/MyDrive/Colab Notebooks/Odunola Thesis/32_inception_fine_tuned_model.keras\n",
            "\u001b[1m179/179\u001b[0m \u001b[32m━━━━━━━━━━━━━━━━━━━━\u001b[0m\u001b[37m\u001b[0m \u001b[1m113s\u001b[0m 615ms/step - accuracy: 0.9877 - loss: 1.2104 - val_accuracy: 0.9931 - val_loss: 1.1957 - learning_rate: 1.0000e-05\n",
            "Epoch 36/100\n",
            "\u001b[1m179/179\u001b[0m \u001b[32m━━━━━━━━━━━━━━━━━━━━\u001b[0m\u001b[37m\u001b[0m \u001b[1m0s\u001b[0m 515ms/step - accuracy: 0.9852 - loss: 1.2067\n",
            "Epoch 36: val_loss improved from 1.19574 to 1.18189, saving model to /content/drive/MyDrive/Colab Notebooks/Odunola Thesis/32_inception_fine_tuned_model.keras\n",
            "\u001b[1m179/179\u001b[0m \u001b[32m━━━━━━━━━━━━━━━━━━━━\u001b[0m\u001b[37m\u001b[0m \u001b[1m110s\u001b[0m 593ms/step - accuracy: 0.9852 - loss: 1.2067 - val_accuracy: 0.9939 - val_loss: 1.1819 - learning_rate: 1.0000e-05\n",
            "Epoch 37/100\n",
            "\u001b[1m179/179\u001b[0m \u001b[32m━━━━━━━━━━━━━━━━━━━━\u001b[0m\u001b[37m\u001b[0m \u001b[1m0s\u001b[0m 500ms/step - accuracy: 0.9888 - loss: 1.1889\n",
            "Epoch 37: val_loss improved from 1.18189 to 1.17249, saving model to /content/drive/MyDrive/Colab Notebooks/Odunola Thesis/32_inception_fine_tuned_model.keras\n",
            "\u001b[1m179/179\u001b[0m \u001b[32m━━━━━━━━━━━━━━━━━━━━\u001b[0m\u001b[37m\u001b[0m \u001b[1m144s\u001b[0m 602ms/step - accuracy: 0.9887 - loss: 1.1889 - val_accuracy: 0.9939 - val_loss: 1.1725 - learning_rate: 1.0000e-05\n",
            "Epoch 38/100\n",
            "\u001b[1m179/179\u001b[0m \u001b[32m━━━━━━━━━━━━━━━━━━━━\u001b[0m\u001b[37m\u001b[0m \u001b[1m0s\u001b[0m 512ms/step - accuracy: 0.9893 - loss: 1.1772\n",
            "Epoch 38: val_loss improved from 1.17249 to 1.16260, saving model to /content/drive/MyDrive/Colab Notebooks/Odunola Thesis/32_inception_fine_tuned_model.keras\n",
            "\u001b[1m179/179\u001b[0m \u001b[32m━━━━━━━━━━━━━━━━━━━━\u001b[0m\u001b[37m\u001b[0m \u001b[1m116s\u001b[0m 625ms/step - accuracy: 0.9893 - loss: 1.1772 - val_accuracy: 0.9962 - val_loss: 1.1626 - learning_rate: 1.0000e-05\n",
            "Epoch 39/100\n",
            "\u001b[1m179/179\u001b[0m \u001b[32m━━━━━━━━━━━━━━━━━━━━\u001b[0m\u001b[37m\u001b[0m \u001b[1m0s\u001b[0m 521ms/step - accuracy: 0.9919 - loss: 1.1703\n",
            "Epoch 39: val_loss improved from 1.16260 to 1.15283, saving model to /content/drive/MyDrive/Colab Notebooks/Odunola Thesis/32_inception_fine_tuned_model.keras\n",
            "\u001b[1m179/179\u001b[0m \u001b[32m━━━━━━━━━━━━━━━━━━━━\u001b[0m\u001b[37m\u001b[0m \u001b[1m119s\u001b[0m 646ms/step - accuracy: 0.9919 - loss: 1.1702 - val_accuracy: 0.9947 - val_loss: 1.1528 - learning_rate: 1.0000e-05\n",
            "Epoch 40/100\n",
            "\u001b[1m179/179\u001b[0m \u001b[32m━━━━━━━━━━━━━━━━━━━━\u001b[0m\u001b[37m\u001b[0m \u001b[1m0s\u001b[0m 514ms/step - accuracy: 0.9920 - loss: 1.1517\n",
            "Epoch 40: val_loss improved from 1.15283 to 1.14178, saving model to /content/drive/MyDrive/Colab Notebooks/Odunola Thesis/32_inception_fine_tuned_model.keras\n",
            "\u001b[1m179/179\u001b[0m \u001b[32m━━━━━━━━━━━━━━━━━━━━\u001b[0m\u001b[37m\u001b[0m \u001b[1m113s\u001b[0m 605ms/step - accuracy: 0.9920 - loss: 1.1517 - val_accuracy: 0.9947 - val_loss: 1.1418 - learning_rate: 1.0000e-05\n",
            "Epoch 41/100\n",
            "\u001b[1m179/179\u001b[0m \u001b[32m━━━━━━━━━━━━━━━━━━━━\u001b[0m\u001b[37m\u001b[0m \u001b[1m0s\u001b[0m 501ms/step - accuracy: 0.9906 - loss: 1.1435\n",
            "Epoch 41: val_loss improved from 1.14178 to 1.13268, saving model to /content/drive/MyDrive/Colab Notebooks/Odunola Thesis/32_inception_fine_tuned_model.keras\n",
            "\u001b[1m179/179\u001b[0m \u001b[32m━━━━━━━━━━━━━━━━━━━━\u001b[0m\u001b[37m\u001b[0m \u001b[1m136s\u001b[0m 584ms/step - accuracy: 0.9906 - loss: 1.1435 - val_accuracy: 0.9939 - val_loss: 1.1327 - learning_rate: 1.0000e-05\n",
            "Epoch 42/100\n",
            "\u001b[1m179/179\u001b[0m \u001b[32m━━━━━━━━━━━━━━━━━━━━\u001b[0m\u001b[37m\u001b[0m \u001b[1m0s\u001b[0m 511ms/step - accuracy: 0.9937 - loss: 1.1305\n",
            "Epoch 42: val_loss improved from 1.13268 to 1.12463, saving model to /content/drive/MyDrive/Colab Notebooks/Odunola Thesis/32_inception_fine_tuned_model.keras\n",
            "\u001b[1m179/179\u001b[0m \u001b[32m━━━━━━━━━━━━━━━━━━━━\u001b[0m\u001b[37m\u001b[0m \u001b[1m113s\u001b[0m 614ms/step - accuracy: 0.9937 - loss: 1.1305 - val_accuracy: 0.9931 - val_loss: 1.1246 - learning_rate: 1.0000e-05\n",
            "Epoch 43/100\n",
            "\u001b[1m179/179\u001b[0m \u001b[32m━━━━━━━━━━━━━━━━━━━━\u001b[0m\u001b[37m\u001b[0m \u001b[1m0s\u001b[0m 514ms/step - accuracy: 0.9920 - loss: 1.1188\n",
            "Epoch 43: val_loss improved from 1.12463 to 1.10765, saving model to /content/drive/MyDrive/Colab Notebooks/Odunola Thesis/32_inception_fine_tuned_model.keras\n",
            "\u001b[1m179/179\u001b[0m \u001b[32m━━━━━━━━━━━━━━━━━━━━\u001b[0m\u001b[37m\u001b[0m \u001b[1m119s\u001b[0m 642ms/step - accuracy: 0.9920 - loss: 1.1188 - val_accuracy: 0.9962 - val_loss: 1.1077 - learning_rate: 1.0000e-05\n",
            "Epoch 44/100\n",
            "\u001b[1m179/179\u001b[0m \u001b[32m━━━━━━━━━━━━━━━━━━━━\u001b[0m\u001b[37m\u001b[0m \u001b[1m0s\u001b[0m 507ms/step - accuracy: 0.9937 - loss: 1.1104\n",
            "Epoch 44: val_loss improved from 1.10765 to 1.09618, saving model to /content/drive/MyDrive/Colab Notebooks/Odunola Thesis/32_inception_fine_tuned_model.keras\n",
            "\u001b[1m179/179\u001b[0m \u001b[32m━━━━━━━━━━━━━━━━━━━━\u001b[0m\u001b[37m\u001b[0m \u001b[1m111s\u001b[0m 592ms/step - accuracy: 0.9937 - loss: 1.1104 - val_accuracy: 0.9954 - val_loss: 1.0962 - learning_rate: 1.0000e-05\n",
            "Epoch 45/100\n",
            "\u001b[1m179/179\u001b[0m \u001b[32m━━━━━━━━━━━━━━━━━━━━\u001b[0m\u001b[37m\u001b[0m \u001b[1m0s\u001b[0m 514ms/step - accuracy: 0.9920 - loss: 1.1003\n",
            "Epoch 45: val_loss improved from 1.09618 to 1.08866, saving model to /content/drive/MyDrive/Colab Notebooks/Odunola Thesis/32_inception_fine_tuned_model.keras\n",
            "\u001b[1m179/179\u001b[0m \u001b[32m━━━━━━━━━━━━━━━━━━━━\u001b[0m\u001b[37m\u001b[0m \u001b[1m117s\u001b[0m 631ms/step - accuracy: 0.9920 - loss: 1.1003 - val_accuracy: 0.9954 - val_loss: 1.0887 - learning_rate: 1.0000e-05\n",
            "Epoch 46/100\n",
            "\u001b[1m179/179\u001b[0m \u001b[32m━━━━━━━━━━━━━━━━━━━━\u001b[0m\u001b[37m\u001b[0m \u001b[1m0s\u001b[0m 504ms/step - accuracy: 0.9909 - loss: 1.0934\n",
            "Epoch 46: val_loss improved from 1.08866 to 1.07912, saving model to /content/drive/MyDrive/Colab Notebooks/Odunola Thesis/32_inception_fine_tuned_model.keras\n",
            "\u001b[1m179/179\u001b[0m \u001b[32m━━━━━━━━━━━━━━━━━━━━\u001b[0m\u001b[37m\u001b[0m \u001b[1m133s\u001b[0m 586ms/step - accuracy: 0.9909 - loss: 1.0933 - val_accuracy: 0.9939 - val_loss: 1.0791 - learning_rate: 1.0000e-05\n",
            "Epoch 47/100\n",
            "\u001b[1m179/179\u001b[0m \u001b[32m━━━━━━━━━━━━━━━━━━━━\u001b[0m\u001b[37m\u001b[0m \u001b[1m0s\u001b[0m 508ms/step - accuracy: 0.9935 - loss: 1.0753\n",
            "Epoch 47: val_loss improved from 1.07912 to 1.06443, saving model to /content/drive/MyDrive/Colab Notebooks/Odunola Thesis/32_inception_fine_tuned_model.keras\n",
            "\u001b[1m179/179\u001b[0m \u001b[32m━━━━━━━━━━━━━━━━━━━━\u001b[0m\u001b[37m\u001b[0m \u001b[1m120s\u001b[0m 623ms/step - accuracy: 0.9935 - loss: 1.0753 - val_accuracy: 0.9954 - val_loss: 1.0644 - learning_rate: 1.0000e-05\n",
            "Epoch 48/100\n",
            "\u001b[1m179/179\u001b[0m \u001b[32m━━━━━━━━━━━━━━━━━━━━\u001b[0m\u001b[37m\u001b[0m \u001b[1m0s\u001b[0m 506ms/step - accuracy: 0.9936 - loss: 1.0648\n",
            "Epoch 48: val_loss improved from 1.06443 to 1.05947, saving model to /content/drive/MyDrive/Colab Notebooks/Odunola Thesis/32_inception_fine_tuned_model.keras\n",
            "\u001b[1m179/179\u001b[0m \u001b[32m━━━━━━━━━━━━━━━━━━━━\u001b[0m\u001b[37m\u001b[0m \u001b[1m131s\u001b[0m 593ms/step - accuracy: 0.9936 - loss: 1.0648 - val_accuracy: 0.9924 - val_loss: 1.0595 - learning_rate: 1.0000e-05\n",
            "Epoch 49/100\n",
            "\u001b[1m179/179\u001b[0m \u001b[32m━━━━━━━━━━━━━━━━━━━━\u001b[0m\u001b[37m\u001b[0m \u001b[1m0s\u001b[0m 510ms/step - accuracy: 0.9907 - loss: 1.0550\n",
            "Epoch 49: val_loss improved from 1.05947 to 1.04815, saving model to /content/drive/MyDrive/Colab Notebooks/Odunola Thesis/32_inception_fine_tuned_model.keras\n",
            "\u001b[1m179/179\u001b[0m \u001b[32m━━━━━━━━━━━━━━━━━━━━\u001b[0m\u001b[37m\u001b[0m \u001b[1m108s\u001b[0m 588ms/step - accuracy: 0.9907 - loss: 1.0550 - val_accuracy: 0.9939 - val_loss: 1.0481 - learning_rate: 1.0000e-05\n",
            "Epoch 50/100\n",
            "\u001b[1m179/179\u001b[0m \u001b[32m━━━━━━━━━━━━━━━━━━━━\u001b[0m\u001b[37m\u001b[0m \u001b[1m0s\u001b[0m 514ms/step - accuracy: 0.9912 - loss: 1.0465\n",
            "Epoch 50: val_loss improved from 1.04815 to 1.03201, saving model to /content/drive/MyDrive/Colab Notebooks/Odunola Thesis/32_inception_fine_tuned_model.keras\n",
            "\u001b[1m179/179\u001b[0m \u001b[32m━━━━━━━━━━━━━━━━━━━━\u001b[0m\u001b[37m\u001b[0m \u001b[1m113s\u001b[0m 613ms/step - accuracy: 0.9912 - loss: 1.0464 - val_accuracy: 0.9939 - val_loss: 1.0320 - learning_rate: 1.0000e-05\n",
            "Epoch 51/100\n",
            "\u001b[1m179/179\u001b[0m \u001b[32m━━━━━━━━━━━━━━━━━━━━\u001b[0m\u001b[37m\u001b[0m \u001b[1m0s\u001b[0m 504ms/step - accuracy: 0.9935 - loss: 1.0275\n",
            "Epoch 51: val_loss improved from 1.03201 to 1.02867, saving model to /content/drive/MyDrive/Colab Notebooks/Odunola Thesis/32_inception_fine_tuned_model.keras\n",
            "\u001b[1m179/179\u001b[0m \u001b[32m━━━━━━━━━━━━━━━━━━━━\u001b[0m\u001b[37m\u001b[0m \u001b[1m118s\u001b[0m 635ms/step - accuracy: 0.9934 - loss: 1.0275 - val_accuracy: 0.9924 - val_loss: 1.0287 - learning_rate: 1.0000e-05\n",
            "Epoch 52/100\n",
            "\u001b[1m179/179\u001b[0m \u001b[32m━━━━━━━━━━━━━━━━━━━━\u001b[0m\u001b[37m\u001b[0m \u001b[1m0s\u001b[0m 512ms/step - accuracy: 0.9924 - loss: 1.0222\n",
            "Epoch 52: val_loss improved from 1.02867 to 1.00966, saving model to /content/drive/MyDrive/Colab Notebooks/Odunola Thesis/32_inception_fine_tuned_model.keras\n",
            "\u001b[1m179/179\u001b[0m \u001b[32m━━━━━━━━━━━━━━━━━━━━\u001b[0m\u001b[37m\u001b[0m \u001b[1m140s\u001b[0m 629ms/step - accuracy: 0.9924 - loss: 1.0222 - val_accuracy: 0.9969 - val_loss: 1.0097 - learning_rate: 1.0000e-05\n",
            "Epoch 53/100\n",
            "\u001b[1m179/179\u001b[0m \u001b[32m━━━━━━━━━━━━━━━━━━━━\u001b[0m\u001b[37m\u001b[0m \u001b[1m0s\u001b[0m 498ms/step - accuracy: 0.9953 - loss: 1.0037\n",
            "Epoch 53: val_loss improved from 1.00966 to 1.00077, saving model to /content/drive/MyDrive/Colab Notebooks/Odunola Thesis/32_inception_fine_tuned_model.keras\n",
            "\u001b[1m179/179\u001b[0m \u001b[32m━━━━━━━━━━━━━━━━━━━━\u001b[0m\u001b[37m\u001b[0m \u001b[1m137s\u001b[0m 602ms/step - accuracy: 0.9953 - loss: 1.0037 - val_accuracy: 0.9939 - val_loss: 1.0008 - learning_rate: 1.0000e-05\n",
            "Epoch 54/100\n",
            "\u001b[1m179/179\u001b[0m \u001b[32m━━━━━━━━━━━━━━━━━━━━\u001b[0m\u001b[37m\u001b[0m \u001b[1m0s\u001b[0m 508ms/step - accuracy: 0.9949 - loss: 0.9907\n",
            "Epoch 54: val_loss improved from 1.00077 to 0.99019, saving model to /content/drive/MyDrive/Colab Notebooks/Odunola Thesis/32_inception_fine_tuned_model.keras\n",
            "\u001b[1m179/179\u001b[0m \u001b[32m━━━━━━━━━━━━━━━━━━━━\u001b[0m\u001b[37m\u001b[0m \u001b[1m142s\u001b[0m 605ms/step - accuracy: 0.9949 - loss: 0.9907 - val_accuracy: 0.9924 - val_loss: 0.9902 - learning_rate: 1.0000e-05\n",
            "Epoch 55/100\n",
            "\u001b[1m179/179\u001b[0m \u001b[32m━━━━━━━━━━━━━━━━━━━━\u001b[0m\u001b[37m\u001b[0m \u001b[1m0s\u001b[0m 502ms/step - accuracy: 0.9940 - loss: 0.9807\n",
            "Epoch 55: val_loss improved from 0.99019 to 0.97104, saving model to /content/drive/MyDrive/Colab Notebooks/Odunola Thesis/32_inception_fine_tuned_model.keras\n",
            "\u001b[1m179/179\u001b[0m \u001b[32m━━━━━━━━━━━━━━━━━━━━\u001b[0m\u001b[37m\u001b[0m \u001b[1m147s\u001b[0m 635ms/step - accuracy: 0.9940 - loss: 0.9807 - val_accuracy: 0.9962 - val_loss: 0.9710 - learning_rate: 1.0000e-05\n",
            "Epoch 56/100\n",
            "\u001b[1m179/179\u001b[0m \u001b[32m━━━━━━━━━━━━━━━━━━━━\u001b[0m\u001b[37m\u001b[0m \u001b[1m0s\u001b[0m 516ms/step - accuracy: 0.9939 - loss: 0.9724\n",
            "Epoch 56: val_loss improved from 0.97104 to 0.96523, saving model to /content/drive/MyDrive/Colab Notebooks/Odunola Thesis/32_inception_fine_tuned_model.keras\n",
            "\u001b[1m179/179\u001b[0m \u001b[32m━━━━━━━━━━━━━━━━━━━━\u001b[0m\u001b[37m\u001b[0m \u001b[1m117s\u001b[0m 631ms/step - accuracy: 0.9939 - loss: 0.9724 - val_accuracy: 0.9916 - val_loss: 0.9652 - learning_rate: 1.0000e-05\n",
            "Epoch 57/100\n",
            "\u001b[1m179/179\u001b[0m \u001b[32m━━━━━━━━━━━━━━━━━━━━\u001b[0m\u001b[37m\u001b[0m \u001b[1m0s\u001b[0m 507ms/step - accuracy: 0.9942 - loss: 0.9567\n",
            "Epoch 57: val_loss improved from 0.96523 to 0.94991, saving model to /content/drive/MyDrive/Colab Notebooks/Odunola Thesis/32_inception_fine_tuned_model.keras\n",
            "\u001b[1m179/179\u001b[0m \u001b[32m━━━━━━━━━━━━━━━━━━━━\u001b[0m\u001b[37m\u001b[0m \u001b[1m117s\u001b[0m 625ms/step - accuracy: 0.9942 - loss: 0.9567 - val_accuracy: 0.9969 - val_loss: 0.9499 - learning_rate: 1.0000e-05\n",
            "Epoch 58/100\n",
            "\u001b[1m179/179\u001b[0m \u001b[32m━━━━━━━━━━━━━━━━━━━━\u001b[0m\u001b[37m\u001b[0m \u001b[1m0s\u001b[0m 503ms/step - accuracy: 0.9956 - loss: 0.9442\n",
            "Epoch 58: val_loss improved from 0.94991 to 0.93984, saving model to /content/drive/MyDrive/Colab Notebooks/Odunola Thesis/32_inception_fine_tuned_model.keras\n",
            "\u001b[1m179/179\u001b[0m \u001b[32m━━━━━━━━━━━━━━━━━━━━\u001b[0m\u001b[37m\u001b[0m \u001b[1m138s\u001b[0m 614ms/step - accuracy: 0.9956 - loss: 0.9442 - val_accuracy: 0.9962 - val_loss: 0.9398 - learning_rate: 1.0000e-05\n",
            "Epoch 59/100\n",
            "\u001b[1m179/179\u001b[0m \u001b[32m━━━━━━━━━━━━━━━━━━━━\u001b[0m\u001b[37m\u001b[0m \u001b[1m0s\u001b[0m 520ms/step - accuracy: 0.9953 - loss: 0.9343\n",
            "Epoch 59: val_loss improved from 0.93984 to 0.92678, saving model to /content/drive/MyDrive/Colab Notebooks/Odunola Thesis/32_inception_fine_tuned_model.keras\n",
            "\u001b[1m179/179\u001b[0m \u001b[32m━━━━━━━━━━━━━━━━━━━━\u001b[0m\u001b[37m\u001b[0m \u001b[1m111s\u001b[0m 601ms/step - accuracy: 0.9953 - loss: 0.9342 - val_accuracy: 0.9969 - val_loss: 0.9268 - learning_rate: 1.0000e-05\n",
            "Epoch 60/100\n",
            "\u001b[1m179/179\u001b[0m \u001b[32m━━━━━━━━━━━━━━━━━━━━\u001b[0m\u001b[37m\u001b[0m \u001b[1m0s\u001b[0m 514ms/step - accuracy: 0.9938 - loss: 0.9274\n",
            "Epoch 60: val_loss improved from 0.92678 to 0.91983, saving model to /content/drive/MyDrive/Colab Notebooks/Odunola Thesis/32_inception_fine_tuned_model.keras\n",
            "\u001b[1m179/179\u001b[0m \u001b[32m━━━━━━━━━━━━━━━━━━━━\u001b[0m\u001b[37m\u001b[0m \u001b[1m115s\u001b[0m 620ms/step - accuracy: 0.9938 - loss: 0.9274 - val_accuracy: 0.9947 - val_loss: 0.9198 - learning_rate: 1.0000e-05\n",
            "Epoch 61/100\n",
            "\u001b[1m179/179\u001b[0m \u001b[32m━━━━━━━━━━━━━━━━━━━━\u001b[0m\u001b[37m\u001b[0m \u001b[1m0s\u001b[0m 513ms/step - accuracy: 0.9966 - loss: 0.9069\n",
            "Epoch 61: val_loss improved from 0.91983 to 0.91102, saving model to /content/drive/MyDrive/Colab Notebooks/Odunola Thesis/32_inception_fine_tuned_model.keras\n",
            "\u001b[1m179/179\u001b[0m \u001b[32m━━━━━━━━━━━━━━━━━━━━\u001b[0m\u001b[37m\u001b[0m \u001b[1m120s\u001b[0m 640ms/step - accuracy: 0.9966 - loss: 0.9069 - val_accuracy: 0.9939 - val_loss: 0.9110 - learning_rate: 1.0000e-05\n",
            "Epoch 62/100\n",
            "\u001b[1m179/179\u001b[0m \u001b[32m━━━━━━━━━━━━━━━━━━━━\u001b[0m\u001b[37m\u001b[0m \u001b[1m0s\u001b[0m 505ms/step - accuracy: 0.9958 - loss: 0.8978\n",
            "Epoch 62: val_loss improved from 0.91102 to 0.89772, saving model to /content/drive/MyDrive/Colab Notebooks/Odunola Thesis/32_inception_fine_tuned_model.keras\n",
            "\u001b[1m179/179\u001b[0m \u001b[32m━━━━━━━━━━━━━━━━━━━━\u001b[0m\u001b[37m\u001b[0m \u001b[1m137s\u001b[0m 625ms/step - accuracy: 0.9958 - loss: 0.8978 - val_accuracy: 0.9947 - val_loss: 0.8977 - learning_rate: 1.0000e-05\n",
            "Epoch 63/100\n",
            "\u001b[1m179/179\u001b[0m \u001b[32m━━━━━━━━━━━━━━━━━━━━\u001b[0m\u001b[37m\u001b[0m \u001b[1m0s\u001b[0m 517ms/step - accuracy: 0.9971 - loss: 0.8834\n",
            "Epoch 63: val_loss improved from 0.89772 to 0.87970, saving model to /content/drive/MyDrive/Colab Notebooks/Odunola Thesis/32_inception_fine_tuned_model.keras\n",
            "\u001b[1m179/179\u001b[0m \u001b[32m━━━━━━━━━━━━━━━━━━━━\u001b[0m\u001b[37m\u001b[0m \u001b[1m109s\u001b[0m 588ms/step - accuracy: 0.9971 - loss: 0.8834 - val_accuracy: 0.9969 - val_loss: 0.8797 - learning_rate: 1.0000e-05\n",
            "Epoch 64/100\n",
            "\u001b[1m179/179\u001b[0m \u001b[32m━━━━━━━━━━━━━━━━━━━━\u001b[0m\u001b[37m\u001b[0m \u001b[1m0s\u001b[0m 503ms/step - accuracy: 0.9950 - loss: 0.8774\n",
            "Epoch 64: val_loss improved from 0.87970 to 0.87209, saving model to /content/drive/MyDrive/Colab Notebooks/Odunola Thesis/32_inception_fine_tuned_model.keras\n",
            "\u001b[1m179/179\u001b[0m \u001b[32m━━━━━━━━━━━━━━━━━━━━\u001b[0m\u001b[37m\u001b[0m \u001b[1m147s\u001b[0m 619ms/step - accuracy: 0.9950 - loss: 0.8774 - val_accuracy: 0.9954 - val_loss: 0.8721 - learning_rate: 1.0000e-05\n",
            "Epoch 65/100\n",
            "\u001b[1m179/179\u001b[0m \u001b[32m━━━━━━━━━━━━━━━━━━━━\u001b[0m\u001b[37m\u001b[0m \u001b[1m0s\u001b[0m 504ms/step - accuracy: 0.9946 - loss: 0.8615\n",
            "Epoch 65: val_loss improved from 0.87209 to 0.85694, saving model to /content/drive/MyDrive/Colab Notebooks/Odunola Thesis/32_inception_fine_tuned_model.keras\n",
            "\u001b[1m179/179\u001b[0m \u001b[32m━━━━━━━━━━━━━━━━━━━━\u001b[0m\u001b[37m\u001b[0m \u001b[1m144s\u001b[0m 633ms/step - accuracy: 0.9946 - loss: 0.8615 - val_accuracy: 0.9954 - val_loss: 0.8569 - learning_rate: 1.0000e-05\n",
            "Epoch 66/100\n",
            "\u001b[1m179/179\u001b[0m \u001b[32m━━━━━━━━━━━━━━━━━━━━\u001b[0m\u001b[37m\u001b[0m \u001b[1m0s\u001b[0m 497ms/step - accuracy: 0.9958 - loss: 0.8509\n",
            "Epoch 66: val_loss improved from 0.85694 to 0.84565, saving model to /content/drive/MyDrive/Colab Notebooks/Odunola Thesis/32_inception_fine_tuned_model.keras\n",
            "\u001b[1m179/179\u001b[0m \u001b[32m━━━━━━━━━━━━━━━━━━━━\u001b[0m\u001b[37m\u001b[0m \u001b[1m138s\u001b[0m 601ms/step - accuracy: 0.9958 - loss: 0.8509 - val_accuracy: 0.9939 - val_loss: 0.8456 - learning_rate: 1.0000e-05\n",
            "Epoch 67/100\n",
            "\u001b[1m179/179\u001b[0m \u001b[32m━━━━━━━━━━━━━━━━━━━━\u001b[0m\u001b[37m\u001b[0m \u001b[1m0s\u001b[0m 509ms/step - accuracy: 0.9968 - loss: 0.8349\n",
            "Epoch 67: val_loss improved from 0.84565 to 0.83407, saving model to /content/drive/MyDrive/Colab Notebooks/Odunola Thesis/32_inception_fine_tuned_model.keras\n",
            "\u001b[1m179/179\u001b[0m \u001b[32m━━━━━━━━━━━━━━━━━━━━\u001b[0m\u001b[37m\u001b[0m \u001b[1m114s\u001b[0m 617ms/step - accuracy: 0.9968 - loss: 0.8349 - val_accuracy: 0.9969 - val_loss: 0.8341 - learning_rate: 1.0000e-05\n",
            "Epoch 68/100\n",
            "\u001b[1m179/179\u001b[0m \u001b[32m━━━━━━━━━━━━━━━━━━━━\u001b[0m\u001b[37m\u001b[0m \u001b[1m0s\u001b[0m 510ms/step - accuracy: 0.9944 - loss: 0.8330\n",
            "Epoch 68: val_loss improved from 0.83407 to 0.82170, saving model to /content/drive/MyDrive/Colab Notebooks/Odunola Thesis/32_inception_fine_tuned_model.keras\n",
            "\u001b[1m179/179\u001b[0m \u001b[32m━━━━━━━━━━━━━━━━━━━━\u001b[0m\u001b[37m\u001b[0m \u001b[1m109s\u001b[0m 584ms/step - accuracy: 0.9944 - loss: 0.8329 - val_accuracy: 0.9969 - val_loss: 0.8217 - learning_rate: 1.0000e-05\n",
            "Epoch 69/100\n",
            "\u001b[1m179/179\u001b[0m \u001b[32m━━━━━━━━━━━━━━━━━━━━\u001b[0m\u001b[37m\u001b[0m \u001b[1m0s\u001b[0m 500ms/step - accuracy: 0.9976 - loss: 0.8120\n",
            "Epoch 69: val_loss improved from 0.82170 to 0.80830, saving model to /content/drive/MyDrive/Colab Notebooks/Odunola Thesis/32_inception_fine_tuned_model.keras\n",
            "\u001b[1m179/179\u001b[0m \u001b[32m━━━━━━━━━━━━━━━━━━━━\u001b[0m\u001b[37m\u001b[0m \u001b[1m148s\u001b[0m 619ms/step - accuracy: 0.9976 - loss: 0.8120 - val_accuracy: 0.9962 - val_loss: 0.8083 - learning_rate: 1.0000e-05\n",
            "Epoch 70/100\n",
            "\u001b[1m179/179\u001b[0m \u001b[32m━━━━━━━━━━━━━━━━━━━━\u001b[0m\u001b[37m\u001b[0m \u001b[1m0s\u001b[0m 504ms/step - accuracy: 0.9955 - loss: 0.8045\n",
            "Epoch 70: val_loss improved from 0.80830 to 0.80212, saving model to /content/drive/MyDrive/Colab Notebooks/Odunola Thesis/32_inception_fine_tuned_model.keras\n",
            "\u001b[1m179/179\u001b[0m \u001b[32m━━━━━━━━━━━━━━━━━━━━\u001b[0m\u001b[37m\u001b[0m \u001b[1m140s\u001b[0m 613ms/step - accuracy: 0.9955 - loss: 0.8045 - val_accuracy: 0.9947 - val_loss: 0.8021 - learning_rate: 1.0000e-05\n",
            "Epoch 71/100\n",
            "\u001b[1m179/179\u001b[0m \u001b[32m━━━━━━━━━━━━━━━━━━━━\u001b[0m\u001b[37m\u001b[0m \u001b[1m0s\u001b[0m 504ms/step - accuracy: 0.9977 - loss: 0.7904\n",
            "Epoch 71: val_loss improved from 0.80212 to 0.79038, saving model to /content/drive/MyDrive/Colab Notebooks/Odunola Thesis/32_inception_fine_tuned_model.keras\n",
            "\u001b[1m179/179\u001b[0m \u001b[32m━━━━━━━━━━━━━━━━━━━━\u001b[0m\u001b[37m\u001b[0m \u001b[1m142s\u001b[0m 607ms/step - accuracy: 0.9977 - loss: 0.7904 - val_accuracy: 0.9954 - val_loss: 0.7904 - learning_rate: 1.0000e-05\n",
            "Epoch 72/100\n",
            "\u001b[1m179/179\u001b[0m \u001b[32m━━━━━━━━━━━━━━━━━━━━\u001b[0m\u001b[37m\u001b[0m \u001b[1m0s\u001b[0m 516ms/step - accuracy: 0.9967 - loss: 0.7811\n",
            "Epoch 72: val_loss improved from 0.79038 to 0.77772, saving model to /content/drive/MyDrive/Colab Notebooks/Odunola Thesis/32_inception_fine_tuned_model.keras\n",
            "\u001b[1m179/179\u001b[0m \u001b[32m━━━━━━━━━━━━━━━━━━━━\u001b[0m\u001b[37m\u001b[0m \u001b[1m112s\u001b[0m 604ms/step - accuracy: 0.9967 - loss: 0.7811 - val_accuracy: 0.9962 - val_loss: 0.7777 - learning_rate: 1.0000e-05\n",
            "Epoch 73/100\n",
            "\u001b[1m179/179\u001b[0m \u001b[32m━━━━━━━━━━━━━━━━━━━━\u001b[0m\u001b[37m\u001b[0m \u001b[1m0s\u001b[0m 510ms/step - accuracy: 0.9977 - loss: 0.7680\n",
            "Epoch 73: val_loss improved from 0.77772 to 0.76907, saving model to /content/drive/MyDrive/Colab Notebooks/Odunola Thesis/32_inception_fine_tuned_model.keras\n",
            "\u001b[1m179/179\u001b[0m \u001b[32m━━━━━━━━━━━━━━━━━━━━\u001b[0m\u001b[37m\u001b[0m \u001b[1m114s\u001b[0m 610ms/step - accuracy: 0.9977 - loss: 0.7680 - val_accuracy: 0.9947 - val_loss: 0.7691 - learning_rate: 1.0000e-05\n",
            "Epoch 74/100\n",
            "\u001b[1m179/179\u001b[0m \u001b[32m━━━━━━━━━━━━━━━━━━━━\u001b[0m\u001b[37m\u001b[0m \u001b[1m0s\u001b[0m 506ms/step - accuracy: 0.9963 - loss: 0.7593\n",
            "Epoch 74: val_loss improved from 0.76907 to 0.76009, saving model to /content/drive/MyDrive/Colab Notebooks/Odunola Thesis/32_inception_fine_tuned_model.keras\n",
            "\u001b[1m179/179\u001b[0m \u001b[32m━━━━━━━━━━━━━━━━━━━━\u001b[0m\u001b[37m\u001b[0m \u001b[1m144s\u001b[0m 634ms/step - accuracy: 0.9963 - loss: 0.7593 - val_accuracy: 0.9939 - val_loss: 0.7601 - learning_rate: 1.0000e-05\n",
            "Epoch 75/100\n",
            "\u001b[1m179/179\u001b[0m \u001b[32m━━━━━━━━━━━━━━━━━━━━\u001b[0m\u001b[37m\u001b[0m \u001b[1m0s\u001b[0m 503ms/step - accuracy: 0.9952 - loss: 0.7542\n",
            "Epoch 75: val_loss improved from 0.76009 to 0.74743, saving model to /content/drive/MyDrive/Colab Notebooks/Odunola Thesis/32_inception_fine_tuned_model.keras\n",
            "\u001b[1m179/179\u001b[0m \u001b[32m━━━━━━━━━━━━━━━━━━━━\u001b[0m\u001b[37m\u001b[0m \u001b[1m137s\u001b[0m 602ms/step - accuracy: 0.9952 - loss: 0.7541 - val_accuracy: 0.9954 - val_loss: 0.7474 - learning_rate: 1.0000e-05\n",
            "Epoch 76/100\n",
            "\u001b[1m179/179\u001b[0m \u001b[32m━━━━━━━━━━━━━━━━━━━━\u001b[0m\u001b[37m\u001b[0m \u001b[1m0s\u001b[0m 519ms/step - accuracy: 0.9970 - loss: 0.7387\n",
            "Epoch 76: val_loss improved from 0.74743 to 0.73595, saving model to /content/drive/MyDrive/Colab Notebooks/Odunola Thesis/32_inception_fine_tuned_model.keras\n",
            "\u001b[1m179/179\u001b[0m \u001b[32m━━━━━━━━━━━━━━━━━━━━\u001b[0m\u001b[37m\u001b[0m \u001b[1m122s\u001b[0m 661ms/step - accuracy: 0.9970 - loss: 0.7386 - val_accuracy: 0.9947 - val_loss: 0.7359 - learning_rate: 1.0000e-05\n",
            "Epoch 77/100\n",
            "\u001b[1m179/179\u001b[0m \u001b[32m━━━━━━━━━━━━━━━━━━━━\u001b[0m\u001b[37m\u001b[0m \u001b[1m0s\u001b[0m 503ms/step - accuracy: 0.9985 - loss: 0.7229\n",
            "Epoch 77: val_loss improved from 0.73595 to 0.72750, saving model to /content/drive/MyDrive/Colab Notebooks/Odunola Thesis/32_inception_fine_tuned_model.keras\n",
            "\u001b[1m179/179\u001b[0m \u001b[32m━━━━━━━━━━━━━━━━━━━━\u001b[0m\u001b[37m\u001b[0m \u001b[1m133s\u001b[0m 618ms/step - accuracy: 0.9985 - loss: 0.7229 - val_accuracy: 0.9931 - val_loss: 0.7275 - learning_rate: 1.0000e-05\n",
            "Epoch 78/100\n",
            "\u001b[1m179/179\u001b[0m \u001b[32m━━━━━━━━━━━━━━━━━━━━\u001b[0m\u001b[37m\u001b[0m \u001b[1m0s\u001b[0m 508ms/step - accuracy: 0.9978 - loss: 0.7137\n",
            "Epoch 78: val_loss improved from 0.72750 to 0.70693, saving model to /content/drive/MyDrive/Colab Notebooks/Odunola Thesis/32_inception_fine_tuned_model.keras\n",
            "\u001b[1m179/179\u001b[0m \u001b[32m━━━━━━━━━━━━━━━━━━━━\u001b[0m\u001b[37m\u001b[0m \u001b[1m140s\u001b[0m 605ms/step - accuracy: 0.9978 - loss: 0.7137 - val_accuracy: 0.9985 - val_loss: 0.7069 - learning_rate: 1.0000e-05\n",
            "Epoch 79/100\n",
            "\u001b[1m179/179\u001b[0m \u001b[32m━━━━━━━━━━━━━━━━━━━━\u001b[0m\u001b[37m\u001b[0m \u001b[1m0s\u001b[0m 521ms/step - accuracy: 0.9972 - loss: 0.7007\n",
            "Epoch 79: val_loss did not improve from 0.70693\n",
            "\u001b[1m179/179\u001b[0m \u001b[32m━━━━━━━━━━━━━━━━━━━━\u001b[0m\u001b[37m\u001b[0m \u001b[1m102s\u001b[0m 554ms/step - accuracy: 0.9972 - loss: 0.7007 - val_accuracy: 0.9931 - val_loss: 0.7075 - learning_rate: 1.0000e-05\n",
            "Epoch 80/100\n",
            "\u001b[1m179/179\u001b[0m \u001b[32m━━━━━━━━━━━━━━━━━━━━\u001b[0m\u001b[37m\u001b[0m \u001b[1m0s\u001b[0m 503ms/step - accuracy: 0.9952 - loss: 0.6991\n",
            "Epoch 80: val_loss improved from 0.70693 to 0.68622, saving model to /content/drive/MyDrive/Colab Notebooks/Odunola Thesis/32_inception_fine_tuned_model.keras\n",
            "\u001b[1m179/179\u001b[0m \u001b[32m━━━━━━━━━━━━━━━━━━━━\u001b[0m\u001b[37m\u001b[0m \u001b[1m152s\u001b[0m 609ms/step - accuracy: 0.9952 - loss: 0.6990 - val_accuracy: 0.9962 - val_loss: 0.6862 - learning_rate: 1.0000e-05\n",
            "Epoch 81/100\n",
            "\u001b[1m179/179\u001b[0m \u001b[32m━━━━━━━━━━━━━━━━━━━━\u001b[0m\u001b[37m\u001b[0m \u001b[1m0s\u001b[0m 504ms/step - accuracy: 0.9969 - loss: 0.6833\n",
            "Epoch 81: val_loss improved from 0.68622 to 0.68012, saving model to /content/drive/MyDrive/Colab Notebooks/Odunola Thesis/32_inception_fine_tuned_model.keras\n",
            "\u001b[1m179/179\u001b[0m \u001b[32m━━━━━━━━━━━━━━━━━━━━\u001b[0m\u001b[37m\u001b[0m \u001b[1m137s\u001b[0m 580ms/step - accuracy: 0.9969 - loss: 0.6832 - val_accuracy: 0.9954 - val_loss: 0.6801 - learning_rate: 1.0000e-05\n",
            "Epoch 82/100\n",
            "\u001b[1m179/179\u001b[0m \u001b[32m━━━━━━━━━━━━━━━━━━━━\u001b[0m\u001b[37m\u001b[0m \u001b[1m0s\u001b[0m 524ms/step - accuracy: 0.9983 - loss: 0.6679\n",
            "Epoch 82: val_loss improved from 0.68012 to 0.66800, saving model to /content/drive/MyDrive/Colab Notebooks/Odunola Thesis/32_inception_fine_tuned_model.keras\n",
            "\u001b[1m179/179\u001b[0m \u001b[32m━━━━━━━━━━━━━━━━━━━━\u001b[0m\u001b[37m\u001b[0m \u001b[1m114s\u001b[0m 621ms/step - accuracy: 0.9983 - loss: 0.6678 - val_accuracy: 0.9969 - val_loss: 0.6680 - learning_rate: 1.0000e-05\n",
            "Epoch 83/100\n",
            "\u001b[1m179/179\u001b[0m \u001b[32m━━━━━━━━━━━━━━━━━━━━\u001b[0m\u001b[37m\u001b[0m \u001b[1m0s\u001b[0m 514ms/step - accuracy: 0.9958 - loss: 0.6621\n",
            "Epoch 83: val_loss improved from 0.66800 to 0.66217, saving model to /content/drive/MyDrive/Colab Notebooks/Odunola Thesis/32_inception_fine_tuned_model.keras\n",
            "\u001b[1m179/179\u001b[0m \u001b[32m━━━━━━━━━━━━━━━━━━━━\u001b[0m\u001b[37m\u001b[0m \u001b[1m117s\u001b[0m 635ms/step - accuracy: 0.9958 - loss: 0.6620 - val_accuracy: 0.9962 - val_loss: 0.6622 - learning_rate: 1.0000e-05\n",
            "Epoch 84/100\n",
            "\u001b[1m179/179\u001b[0m \u001b[32m━━━━━━━━━━━━━━━━━━━━\u001b[0m\u001b[37m\u001b[0m \u001b[1m0s\u001b[0m 505ms/step - accuracy: 0.9947 - loss: 0.6526\n",
            "Epoch 84: val_loss improved from 0.66217 to 0.64868, saving model to /content/drive/MyDrive/Colab Notebooks/Odunola Thesis/32_inception_fine_tuned_model.keras\n",
            "\u001b[1m179/179\u001b[0m \u001b[32m━━━━━━━━━━━━━━━━━━━━\u001b[0m\u001b[37m\u001b[0m \u001b[1m135s\u001b[0m 598ms/step - accuracy: 0.9947 - loss: 0.6526 - val_accuracy: 0.9947 - val_loss: 0.6487 - learning_rate: 1.0000e-05\n",
            "Epoch 85/100\n",
            "\u001b[1m179/179\u001b[0m \u001b[32m━━━━━━━━━━━━━━━━━━━━\u001b[0m\u001b[37m\u001b[0m \u001b[1m0s\u001b[0m 511ms/step - accuracy: 0.9967 - loss: 0.6376\n",
            "Epoch 85: val_loss improved from 0.64868 to 0.63956, saving model to /content/drive/MyDrive/Colab Notebooks/Odunola Thesis/32_inception_fine_tuned_model.keras\n",
            "\u001b[1m179/179\u001b[0m \u001b[32m━━━━━━━━━━━━━━━━━━━━\u001b[0m\u001b[37m\u001b[0m \u001b[1m119s\u001b[0m 636ms/step - accuracy: 0.9967 - loss: 0.6376 - val_accuracy: 0.9954 - val_loss: 0.6396 - learning_rate: 1.0000e-05\n",
            "Epoch 86/100\n",
            "\u001b[1m179/179\u001b[0m \u001b[32m━━━━━━━━━━━━━━━━━━━━\u001b[0m\u001b[37m\u001b[0m \u001b[1m0s\u001b[0m 519ms/step - accuracy: 0.9976 - loss: 0.6260\n",
            "Epoch 86: val_loss improved from 0.63956 to 0.63093, saving model to /content/drive/MyDrive/Colab Notebooks/Odunola Thesis/32_inception_fine_tuned_model.keras\n",
            "\u001b[1m179/179\u001b[0m \u001b[32m━━━━━━━━━━━━━━━━━━━━\u001b[0m\u001b[37m\u001b[0m \u001b[1m113s\u001b[0m 610ms/step - accuracy: 0.9976 - loss: 0.6260 - val_accuracy: 0.9947 - val_loss: 0.6309 - learning_rate: 1.0000e-05\n",
            "Epoch 87/100\n",
            "\u001b[1m179/179\u001b[0m \u001b[32m━━━━━━━━━━━━━━━━━━━━\u001b[0m\u001b[37m\u001b[0m \u001b[1m0s\u001b[0m 514ms/step - accuracy: 0.9982 - loss: 0.6139\n",
            "Epoch 87: val_loss improved from 0.63093 to 0.62189, saving model to /content/drive/MyDrive/Colab Notebooks/Odunola Thesis/32_inception_fine_tuned_model.keras\n",
            "\u001b[1m179/179\u001b[0m \u001b[32m━━━━━━━━━━━━━━━━━━━━\u001b[0m\u001b[37m\u001b[0m \u001b[1m113s\u001b[0m 607ms/step - accuracy: 0.9982 - loss: 0.6139 - val_accuracy: 0.9939 - val_loss: 0.6219 - learning_rate: 1.0000e-05\n",
            "Epoch 88/100\n",
            "\u001b[1m179/179\u001b[0m \u001b[32m━━━━━━━━━━━━━━━━━━━━\u001b[0m\u001b[37m\u001b[0m \u001b[1m0s\u001b[0m 511ms/step - accuracy: 0.9976 - loss: 0.6038\n",
            "Epoch 88: val_loss improved from 0.62189 to 0.60999, saving model to /content/drive/MyDrive/Colab Notebooks/Odunola Thesis/32_inception_fine_tuned_model.keras\n",
            "\u001b[1m179/179\u001b[0m \u001b[32m━━━━━━━━━━━━━━━━━━━━\u001b[0m\u001b[37m\u001b[0m \u001b[1m116s\u001b[0m 620ms/step - accuracy: 0.9976 - loss: 0.6039 - val_accuracy: 0.9947 - val_loss: 0.6100 - learning_rate: 1.0000e-05\n",
            "Epoch 89/100\n",
            "\u001b[1m179/179\u001b[0m \u001b[32m━━━━━━━━━━━━━━━━━━━━\u001b[0m\u001b[37m\u001b[0m \u001b[1m0s\u001b[0m 509ms/step - accuracy: 0.9981 - loss: 0.5924\n",
            "Epoch 89: val_loss improved from 0.60999 to 0.60023, saving model to /content/drive/MyDrive/Colab Notebooks/Odunola Thesis/32_inception_fine_tuned_model.keras\n",
            "\u001b[1m179/179\u001b[0m \u001b[32m━━━━━━━━━━━━━━━━━━━━\u001b[0m\u001b[37m\u001b[0m \u001b[1m119s\u001b[0m 637ms/step - accuracy: 0.9981 - loss: 0.5923 - val_accuracy: 0.9947 - val_loss: 0.6002 - learning_rate: 1.0000e-05\n",
            "Epoch 90/100\n",
            "\u001b[1m179/179\u001b[0m \u001b[32m━━━━━━━━━━━━━━━━━━━━\u001b[0m\u001b[37m\u001b[0m \u001b[1m0s\u001b[0m 511ms/step - accuracy: 0.9978 - loss: 0.5843\n",
            "Epoch 90: val_loss improved from 0.60023 to 0.58525, saving model to /content/drive/MyDrive/Colab Notebooks/Odunola Thesis/32_inception_fine_tuned_model.keras\n",
            "\u001b[1m179/179\u001b[0m \u001b[32m━━━━━━━━━━━━━━━━━━━━\u001b[0m\u001b[37m\u001b[0m \u001b[1m136s\u001b[0m 613ms/step - accuracy: 0.9978 - loss: 0.5843 - val_accuracy: 0.9947 - val_loss: 0.5853 - learning_rate: 1.0000e-05\n",
            "Epoch 91/100\n",
            "\u001b[1m179/179\u001b[0m \u001b[32m━━━━━━━━━━━━━━━━━━━━\u001b[0m\u001b[37m\u001b[0m \u001b[1m0s\u001b[0m 520ms/step - accuracy: 0.9975 - loss: 0.5736\n",
            "Epoch 91: val_loss improved from 0.58525 to 0.57506, saving model to /content/drive/MyDrive/Colab Notebooks/Odunola Thesis/32_inception_fine_tuned_model.keras\n",
            "\u001b[1m179/179\u001b[0m \u001b[32m━━━━━━━━━━━━━━━━━━━━\u001b[0m\u001b[37m\u001b[0m \u001b[1m110s\u001b[0m 599ms/step - accuracy: 0.9975 - loss: 0.5736 - val_accuracy: 0.9969 - val_loss: 0.5751 - learning_rate: 1.0000e-05\n",
            "Epoch 92/100\n",
            "\u001b[1m179/179\u001b[0m \u001b[32m━━━━━━━━━━━━━━━━━━━━\u001b[0m\u001b[37m\u001b[0m \u001b[1m0s\u001b[0m 517ms/step - accuracy: 0.9961 - loss: 0.5643\n",
            "Epoch 92: val_loss improved from 0.57506 to 0.56915, saving model to /content/drive/MyDrive/Colab Notebooks/Odunola Thesis/32_inception_fine_tuned_model.keras\n",
            "\u001b[1m179/179\u001b[0m \u001b[32m━━━━━━━━━━━━━━━━━━━━\u001b[0m\u001b[37m\u001b[0m \u001b[1m119s\u001b[0m 646ms/step - accuracy: 0.9961 - loss: 0.5642 - val_accuracy: 0.9947 - val_loss: 0.5691 - learning_rate: 1.0000e-05\n",
            "Epoch 93/100\n",
            "\u001b[1m179/179\u001b[0m \u001b[32m━━━━━━━━━━━━━━━━━━━━\u001b[0m\u001b[37m\u001b[0m \u001b[1m0s\u001b[0m 505ms/step - accuracy: 0.9952 - loss: 0.5554\n",
            "Epoch 93: val_loss improved from 0.56915 to 0.55649, saving model to /content/drive/MyDrive/Colab Notebooks/Odunola Thesis/32_inception_fine_tuned_model.keras\n",
            "\u001b[1m179/179\u001b[0m \u001b[32m━━━━━━━━━━━━━━━━━━━━\u001b[0m\u001b[37m\u001b[0m \u001b[1m114s\u001b[0m 612ms/step - accuracy: 0.9952 - loss: 0.5554 - val_accuracy: 0.9962 - val_loss: 0.5565 - learning_rate: 1.0000e-05\n",
            "Epoch 94/100\n",
            "\u001b[1m179/179\u001b[0m \u001b[32m━━━━━━━━━━━━━━━━━━━━\u001b[0m\u001b[37m\u001b[0m \u001b[1m0s\u001b[0m 507ms/step - accuracy: 0.9960 - loss: 0.5472\n",
            "Epoch 94: val_loss improved from 0.55649 to 0.55334, saving model to /content/drive/MyDrive/Colab Notebooks/Odunola Thesis/32_inception_fine_tuned_model.keras\n",
            "\u001b[1m179/179\u001b[0m \u001b[32m━━━━━━━━━━━━━━━━━━━━\u001b[0m\u001b[37m\u001b[0m \u001b[1m135s\u001b[0m 580ms/step - accuracy: 0.9960 - loss: 0.5472 - val_accuracy: 0.9931 - val_loss: 0.5533 - learning_rate: 1.0000e-05\n",
            "Epoch 95/100\n",
            "\u001b[1m179/179\u001b[0m \u001b[32m━━━━━━━━━━━━━━━━━━━━\u001b[0m\u001b[37m\u001b[0m \u001b[1m0s\u001b[0m 501ms/step - accuracy: 0.9992 - loss: 0.5311\n",
            "Epoch 95: val_loss improved from 0.55334 to 0.53666, saving model to /content/drive/MyDrive/Colab Notebooks/Odunola Thesis/32_inception_fine_tuned_model.keras\n",
            "\u001b[1m179/179\u001b[0m \u001b[32m━━━━━━━━━━━━━━━━━━━━\u001b[0m\u001b[37m\u001b[0m \u001b[1m146s\u001b[0m 599ms/step - accuracy: 0.9992 - loss: 0.5311 - val_accuracy: 0.9962 - val_loss: 0.5367 - learning_rate: 1.0000e-05\n",
            "Epoch 96/100\n",
            "\u001b[1m179/179\u001b[0m \u001b[32m━━━━━━━━━━━━━━━━━━━━\u001b[0m\u001b[37m\u001b[0m \u001b[1m0s\u001b[0m 515ms/step - accuracy: 0.9962 - loss: 0.5262\n",
            "Epoch 96: val_loss improved from 0.53666 to 0.52515, saving model to /content/drive/MyDrive/Colab Notebooks/Odunola Thesis/32_inception_fine_tuned_model.keras\n",
            "\u001b[1m179/179\u001b[0m \u001b[32m━━━━━━━━━━━━━━━━━━━━\u001b[0m\u001b[37m\u001b[0m \u001b[1m120s\u001b[0m 641ms/step - accuracy: 0.9962 - loss: 0.5262 - val_accuracy: 0.9969 - val_loss: 0.5252 - learning_rate: 1.0000e-05\n",
            "Epoch 97/100\n",
            "\u001b[1m179/179\u001b[0m \u001b[32m━━━━━━━━━━━━━━━━━━━━\u001b[0m\u001b[37m\u001b[0m \u001b[1m0s\u001b[0m 507ms/step - accuracy: 0.9994 - loss: 0.5121\n",
            "Epoch 97: val_loss improved from 0.52515 to 0.52003, saving model to /content/drive/MyDrive/Colab Notebooks/Odunola Thesis/32_inception_fine_tuned_model.keras\n",
            "\u001b[1m179/179\u001b[0m \u001b[32m━━━━━━━━━━━━━━━━━━━━\u001b[0m\u001b[37m\u001b[0m \u001b[1m139s\u001b[0m 635ms/step - accuracy: 0.9994 - loss: 0.5121 - val_accuracy: 0.9962 - val_loss: 0.5200 - learning_rate: 1.0000e-05\n",
            "Epoch 98/100\n",
            "\u001b[1m179/179\u001b[0m \u001b[32m━━━━━━━━━━━━━━━━━━━━\u001b[0m\u001b[37m\u001b[0m \u001b[1m0s\u001b[0m 503ms/step - accuracy: 0.9978 - loss: 0.5067\n",
            "Epoch 98: val_loss improved from 0.52003 to 0.50938, saving model to /content/drive/MyDrive/Colab Notebooks/Odunola Thesis/32_inception_fine_tuned_model.keras\n",
            "\u001b[1m179/179\u001b[0m \u001b[32m━━━━━━━━━━━━━━━━━━━━\u001b[0m\u001b[37m\u001b[0m \u001b[1m142s\u001b[0m 628ms/step - accuracy: 0.9978 - loss: 0.5067 - val_accuracy: 0.9962 - val_loss: 0.5094 - learning_rate: 1.0000e-05\n",
            "Epoch 99/100\n",
            "\u001b[1m179/179\u001b[0m \u001b[32m━━━━━━━━━━━━━━━━━━━━\u001b[0m\u001b[37m\u001b[0m \u001b[1m0s\u001b[0m 510ms/step - accuracy: 0.9979 - loss: 0.4968\n",
            "Epoch 99: val_loss improved from 0.50938 to 0.50147, saving model to /content/drive/MyDrive/Colab Notebooks/Odunola Thesis/32_inception_fine_tuned_model.keras\n",
            "\u001b[1m179/179\u001b[0m \u001b[32m━━━━━━━━━━━━━━━━━━━━\u001b[0m\u001b[37m\u001b[0m \u001b[1m135s\u001b[0m 599ms/step - accuracy: 0.9979 - loss: 0.4967 - val_accuracy: 0.9947 - val_loss: 0.5015 - learning_rate: 1.0000e-05\n",
            "Epoch 100/100\n",
            "\u001b[1m179/179\u001b[0m \u001b[32m━━━━━━━━━━━━━━━━━━━━\u001b[0m\u001b[37m\u001b[0m \u001b[1m0s\u001b[0m 522ms/step - accuracy: 0.9975 - loss: 0.4909\n",
            "Epoch 100: val_loss improved from 0.50147 to 0.49331, saving model to /content/drive/MyDrive/Colab Notebooks/Odunola Thesis/32_inception_fine_tuned_model.keras\n",
            "\u001b[1m179/179\u001b[0m \u001b[32m━━━━━━━━━━━━━━━━━━━━\u001b[0m\u001b[37m\u001b[0m \u001b[1m118s\u001b[0m 639ms/step - accuracy: 0.9975 - loss: 0.4909 - val_accuracy: 0.9969 - val_loss: 0.4933 - learning_rate: 1.0000e-05\n",
            "Restoring model weights from the end of the best epoch: 100.\n"
          ]
        }
      ],
      "source": [
        "# Set up callbacks for InceptionV3\n",
        "early_stopping_inception = EarlyStopping(monitor='val_loss', patience=3, verbose=1, restore_best_weights=True)\n",
        "model_checkpoint_inception = ModelCheckpoint('content/drive/MyDrive/MSC Project/32_inception_fine_tuned_model.keras', monitor='val_loss', save_best_only=True, verbose=1)\n",
        "reduce_lr_inception = ReduceLROnPlateau(monitor='val_loss', factor=0.2, patience=5, verbose=1)\n",
        "\n",
        "# Train the MobileNet model\n",
        "history_inception = inception_model.fit(\n",
        "    train_generator,\n",
        "    validation_data=test_generator,\n",
        "    epochs=100,\n",
        "    callbacks=[early_stopping_inception, model_checkpoint_inception, reduce_lr_inception],\n",
        "    verbose=1\n",
        ")"
      ]
    },
    {
      "cell_type": "code",
      "execution_count": null,
      "metadata": {
        "colab": {
          "base_uri": "https://localhost:8080/",
          "height": 400
        },
        "id": "TG5ogLf9Gvm1",
        "outputId": "c47ded75-df34-4057-f251-22d603cc0713"
      },
      "outputs": [
        {
          "output_type": "display_data",
          "data": {
            "text/plain": [
              "<Figure size 1200x600 with 2 Axes>"
            ],
            "image/png": "[encoded data removed]"
          },
          "metadata": {}
        }
      ],
      "source": [
        "# Plot the training and validation accuracy and loss curves\n",
        "acc = history_inception.history['accuracy']\n",
        "val_acc = history_inception.history['val_accuracy']\n",
        "loss = history_inception.history['loss']\n",
        "val_loss = history_inception.history['val_loss']\n",
        "\n",
        "epochs_range = range(len(acc))\n",
        "\n",
        "plt.figure(figsize=(12, 6))\n",
        "\n",
        "plt.subplot(1, 2, 1)\n",
        "plt.plot(epochs_range, acc, label='Training Accuracy')\n",
        "plt.plot(epochs_range, val_acc, label='Validation Accuracy')\n",
        "plt.legend(loc='lower right')\n",
        "plt.title('Training and Validation Accuracy')\n",
        "\n",
        "plt.subplot(1, 2, 2)\n",
        "plt.plot(epochs_range, loss, label='Training Loss')\n",
        "plt.plot(epochs_range, val_loss, label='Validation Loss')\n",
        "plt.legend(loc='upper right')\n",
        "plt.title('Training and Validation Loss')\n",
        "\n",
        "plt.show()"
      ]
    },
    {
      "cell_type": "code",
      "execution_count": null,
      "metadata": {
        "id": "lAr3qqZZMPyH"
      },
      "outputs": [],
      "source": [
        "# Load the best model\n",
        "best_model_path = '/content/drive/MyDrive/MSC Project/32_inception_fine_tuned_model.keras'\n",
        "\n",
        "inception_model_32 = tf.keras.models.load_model(best_model_path)"
      ]
    },
    {
      "cell_type": "code",
      "execution_count": null,
      "metadata": {
        "colab": {
          "base_uri": "https://localhost:8080/"
        },
        "id": "4caaUM_JMxZf",
        "outputId": "8b84402f-d1bd-4047-f494-e66645f3ceb5"
      },
      "outputs": [
        {
          "output_type": "stream",
          "name": "stdout",
          "text": [
            "\u001b[1m41/41\u001b[0m \u001b[32m━━━━━━━━━━━━━━━━━━━━\u001b[0m\u001b[37m\u001b[0m \u001b[1m16s\u001b[0m 203ms/step - accuracy: 0.9964 - loss: 0.5008\n",
            "Test Accuracy: 0.9969488978385925\n"
          ]
        }
      ],
      "source": [
        "# Evaluate the best model\n",
        "test_loss, test_accuracy = inception_model_32.evaluate(test_generator)\n",
        "print(f'Test Accuracy: {test_accuracy}')"
      ]
    },
    {
      "cell_type": "code",
      "execution_count": null,
      "metadata": {
        "id": "Yj6okZRrOCEi"
      },
      "outputs": [],
      "source": [
        "import os\n",
        "import glob\n",
        "\n",
        "def get_number(path):\n",
        "  if not os.path.exists(path):\n",
        "    return 0\n",
        "  count = 0\n",
        "\n",
        "  for current_path, dirs, files in os.walk(path):\n",
        "    for dr in dirs:\n",
        "      count += len(glob.glob(os.path.join(current_path,dr + \"/*\")))\n",
        "  return count"
      ]
    },
    {
      "cell_type": "code",
      "execution_count": null,
      "metadata": {
        "colab": {
          "base_uri": "https://localhost:8080/"
        },
        "id": "SSbhkU0LOHO6",
        "outputId": "0e97a339-af22-419a-c052-bd57a18bc506"
      },
      "outputs": [
        {
          "output_type": "stream",
          "name": "stdout",
          "text": [
            "Number of testing samples is 1311\n"
          ]
        }
      ],
      "source": [
        "testing_images = get_number(test_dir)\n",
        "\n",
        "print(\"Number of testing samples is\", testing_images)"
      ]
    },
    {
      "cell_type": "code",
      "execution_count": null,
      "metadata": {
        "id": "i7DL1qNaOcfh"
      },
      "outputs": [],
      "source": [
        "Classes = ['Glioma', 'Meningioma', 'No Tumour', 'Pituitary']"
      ]
    },
    {
      "cell_type": "code",
      "execution_count": null,
      "metadata": {
        "colab": {
          "base_uri": "https://localhost:8080/"
        },
        "id": "Z1-cLsHIOB3j",
        "outputId": "f44c3143-3d2e-4496-b4ed-e99f588c345a"
      },
      "outputs": [
        {
          "output_type": "stream",
          "name": "stdout",
          "text": [
            "\u001b[1m41/41\u001b[0m \u001b[32m━━━━━━━━━━━━━━━━━━━━\u001b[0m\u001b[37m\u001b[0m \u001b[1m16s\u001b[0m 278ms/step\n",
            "[0 0 0 ... 3 3 3]\n",
            "              precision    recall  f1-score   support\n",
            "\n",
            "      Glioma       1.00      0.99      1.00       300\n",
            "  Meningioma       0.99      1.00      1.00       306\n",
            "   No Tumour       1.00      1.00      1.00       405\n",
            "   Pituitary       1.00      1.00      1.00       300\n",
            "\n",
            "    accuracy                           1.00      1311\n",
            "   macro avg       1.00      1.00      1.00      1311\n",
            "weighted avg       1.00      1.00      1.00      1311\n",
            "\n"
          ]
        }
      ],
      "source": [
        "from sklearn.metrics import classification_report,confusion_matrix\n",
        "y_test = test_generator.classes\n",
        "\n",
        "# predicting our model with test dataset i.e. unseen dataset\n",
        "pred = inception_model_32.predict(test_generator, testing_images//batch_size+1,verbose=1,).argmax(axis=1)\n",
        "#print(y_test)\n",
        "print(pred)\n",
        "#Classification report of every label\n",
        "print(classification_report(y_test, pred, target_names = Classes))"
      ]
    },
    {
      "cell_type": "code",
      "execution_count": null,
      "metadata": {
        "colab": {
          "base_uri": "https://localhost:8080/"
        },
        "id": "DeQyFnQyOUc7",
        "outputId": "ff2054ab-df71-4df1-b4b3-b4439ed39cad"
      },
      "outputs": [
        {
          "output_type": "stream",
          "name": "stdout",
          "text": [
            "Total number of test cases 1311\n",
            "Number of correct predictions 1307\n",
            "Number of incorrect predictions 4\n"
          ]
        }
      ],
      "source": [
        "correct = 0\n",
        "incorrect = 0\n",
        "for i in range(len(y_test)):\n",
        "\n",
        "    #print(\"Test Sample is: \", y_test[i], \"while predicted sample is: \", pred[i])\n",
        "\n",
        "    if y_test[i] != pred[i]:\n",
        "        incorrect += 1\n",
        "    else:\n",
        "        correct += 1\n",
        "\n",
        "print('Total number of test cases', ((len(y_test))))\n",
        "print('Number of correct predictions', correct)\n",
        "print('Number of incorrect predictions', incorrect)"
      ]
    },
    {
      "cell_type": "code",
      "execution_count": null,
      "metadata": {
        "colab": {
          "base_uri": "https://localhost:8080/",
          "height": 573
        },
        "id": "09kCdzcmQB50",
        "outputId": "f410f428-0186-4bb8-d35c-87229e0c5526"
      },
      "outputs": [
        {
          "output_type": "display_data",
          "data": {
            "text/plain": [
              "<Figure size 1000x700 with 2 Axes>"
            ],
            "image/png": "[encoded data removed]"
          },
          "metadata": {}
        }
      ],
      "source": [
        "# Compute the confusion matrix\n",
        "cm = confusion_matrix(y_test, pred)\n",
        "\n",
        "# Plot the confusion matrix\n",
        "plt.figure(figsize=(10, 7))\n",
        "sns.heatmap(cm, annot=True, fmt='d', cmap='Blues', xticklabels=Classes, yticklabels=Classes)\n",
        "plt.title('Confusion Matrix for MobileNet_64')\n",
        "plt.xlabel('Predicted')\n",
        "plt.ylabel('True')\n",
        "plt.show()"
      ]
    },
    {
      "cell_type": "code",
      "execution_count": null,
      "metadata": {
        "id": "15Bgplj4OUN6"
      },
      "outputs": [],
      "source": []
    }
  ],
  "metadata": {
    "accelerator": "GPU",
    "colab": {
      "gpuType": "T4",
      "provenance": [],
      "include_colab_link": true
    },
    "kernelspec": {
      "display_name": "Python 3 (ipykernel)",
      "language": "python",
      "name": "python3"
    },
    "language_info": {
      "codemirror_mode": {
        "name": "ipython",
        "version": 3
      },
      "file_extension": ".py",
      "mimetype": "text/x-python",
      "name": "python",
      "nbconvert_exporter": "python",
      "pygments_lexer": "ipython3",
      "version": "3.11.7"
    }
  },
  "nbformat": 4,
  "nbformat_minor": 0
}
