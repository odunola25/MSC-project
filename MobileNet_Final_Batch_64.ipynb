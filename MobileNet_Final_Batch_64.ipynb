{
  "nbformat": 4,
  "nbformat_minor": 0,
  "metadata": {
    "colab": {
      "provenance": [],
      "gpuType": "T4",
      "include_colab_link": true
    },
    "kernelspec": {
      "name": "python3",
      "display_name": "Python 3"
    },
    "language_info": {
      "name": "python"
    },
    "accelerator": "GPU"
  },
  "cells": [
    {
      "cell_type": "markdown",
      "metadata": {
        "id": "view-in-github",
        "colab_type": "text"
      },
      "source": [
        "<a href=\"https://colab.research.google.com/github/odunola25/MSC-project/blob/work/MobileNet_Final_Batch_64.ipynb\" target=\"_parent\"><img src=\"https://colab.research.google.com/assets/colab-badge.svg\" alt=\"Open In Colab\"/></a>"
      ]
    },
    {
      "cell_type": "code",
      "execution_count": null,
      "metadata": {
        "colab": {
          "base_uri": "https://localhost:8080/"
        },
        "id": "C_jTvv2xBtWc",
        "outputId": "a1b97dca-0196-442c-8dda-ca45c88e2b2f"
      },
      "outputs": [
        {
          "output_type": "stream",
          "name": "stdout",
          "text": [
            "Drive already mounted at /content/drive; to attempt to forcibly remount, call drive.mount(\"/content/drive\", force_remount=True).\n"
          ]
        }
      ],
      "source": [
        "from google.colab import drive\n",
        "drive.mount('/content/drive')"
      ]
    },
    {
      "cell_type": "code",
      "source": [
        "import tensorflow as tf\n",
        "from tensorflow.keras.preprocessing.image import ImageDataGenerator\n",
        "from tensorflow.keras.applications import MobileNet, InceptionV3\n",
        "from tensorflow.keras.models import Sequential\n",
        "from tensorflow.keras.layers import Dense, GlobalAveragePooling2D, Dropout, BatchNormalization\n",
        "from tensorflow.keras.optimizers import Adam\n",
        "from tensorflow.keras.callbacks import ReduceLROnPlateau, EarlyStopping, ModelCheckpoint\n",
        "from sklearn.metrics import accuracy_score, recall_score, roc_auc_score, log_loss, confusion_matrix\n",
        "import matplotlib.pyplot as plt\n",
        "import seaborn as sns\n",
        "import numpy as np\n",
        "\n",
        "train_dir = '/content/drive/MyDrive/MSC Project/Brain Tumor MRI Dataset/Training_project'\n",
        "test_dir = '/content/drive/MyDrive/MSC Project/Brain Tumor MRI Dataset/Testing_project'\n",
        "\n",
        "image_size = (224, 224)\n",
        "batch_size = 64\n",
        "\n",
        "train_datagen = ImageDataGenerator(\n",
        "    rescale=1./255,\n",
        "    rotation_range=20,\n",
        "    width_shift_range=0.2,\n",
        "    height_shift_range=0.2,\n",
        "    shear_range=0.2,\n",
        "    zoom_range=0.2,\n",
        "    horizontal_flip=True\n",
        ")\n",
        "\n",
        "test_datagen = ImageDataGenerator(rescale=1./255)\n",
        "\n",
        "train_generator = train_datagen.flow_from_directory(\n",
        "    train_dir,\n",
        "    target_size=image_size,\n",
        "    batch_size=batch_size,\n",
        "    class_mode='categorical'\n",
        ")\n",
        "\n",
        "test_generator = test_datagen.flow_from_directory(\n",
        "    test_dir,\n",
        "    shuffle = False,\n",
        "    target_size=image_size,\n",
        "    batch_size=batch_size,\n",
        "    class_mode='categorical'\n",
        ")"
      ],
      "metadata": {
        "colab": {
          "base_uri": "https://localhost:8080/"
        },
        "id": "eOeeVEZXBx6W",
        "outputId": "69ea9cbe-f8be-436b-8efb-b11d58fd46b6"
      },
      "execution_count": null,
      "outputs": [
        {
          "output_type": "stream",
          "name": "stdout",
          "text": [
            "Found 5712 images belonging to 4 classes.\n",
            "Found 1311 images belonging to 4 classes.\n"
          ]
        }
      ]
    },
    {
      "cell_type": "code",
      "source": [
        "# Load the pre-trained MobileNet model\n",
        "mobilenet_base = MobileNet(weights='imagenet', include_top=False, input_shape=(224, 224, 3))\n",
        "\n",
        "from tensorflow.keras import Model, Input\n",
        "\n",
        "# Define the model\n",
        "inputs = Input(shape=(224, 224, 3))\n",
        "x = mobilenet_base(inputs, training=False)  # Use 'training=False' to keep batch norm and dropout layers in inference mode\n",
        "x = GlobalAveragePooling2D()(x)  # Apply global average pooling to convert feature maps to a single vector\n",
        "x = BatchNormalization()(x)  # Normalize the output to improve training speed and stability\n",
        "x = Dense(1024, activation='relu', kernel_regularizer=tf.keras.regularizers.l2(0.001))(x)  # Add a dense layer with L2 regularization to avoid overfitting\n",
        "x = Dropout(0.5)(x)\n",
        "outputs = Dense(4, activation='softmax')(x)\n",
        "\n",
        "mobilenet_model = Model(inputs, outputs)\n",
        "\n",
        "# Print model summary\n",
        "mobilenet_model.summary()\n",
        "\n",
        "# Fine-tune the MobileNet model\n",
        "fine_tune_at_mobilenet = 100\n",
        "mobilenet_base.trainable = True  # Make all layers trainable\n",
        "for layer in mobilenet_base.layers[:fine_tune_at_mobilenet]:\n",
        "    layer.trainable = False  # Freeze the layers up to fine_tune_at_mobilenet\n",
        "\n",
        "# Compile the model\n",
        "mobilenet_model.compile(\n",
        "    optimizer=Adam(learning_rate=1e-5),\n",
        "    loss='categorical_crossentropy',\n",
        "    metrics=['accuracy']\n",
        ")\n",
        "\n",
        "# Print the summary of the model after compiling\n",
        "mobilenet_model.summary()"
      ],
      "metadata": {
        "colab": {
          "base_uri": "https://localhost:8080/",
          "height": 788
        },
        "id": "oGay0EhGHgZS",
        "outputId": "5cc5275d-0d3e-49ff-95d5-dcfc55c6d70d"
      },
      "execution_count": null,
      "outputs": [
        {
          "output_type": "display_data",
          "data": {
            "text/plain": [
              "\u001b[1mModel: \"functional\"\u001b[0m\n"
            ],
            "text/html": [
              "<pre style=\"white-space:pre;overflow-x:auto;line-height:normal;font-family:Menlo,'DejaVu Sans Mono',consolas,'Courier New',monospace\"><span style=\"font-weight: bold\">Model: \"functional\"</span>\n",
              "</pre>\n"
            ]
          },
          "metadata": {}
        },
        {
          "output_type": "display_data",
          "data": {
            "text/plain": [
              "┏━━━━━━━━━━━━━━━━━━━━━━━━━━━━━━━━━━━━━━┳━━━━━━━━━━━━━━━━━━━━━━━━━━━━━┳━━━━━━━━━━━━━━━━━┓\n",
              "┃\u001b[1m \u001b[0m\u001b[1mLayer (type)                        \u001b[0m\u001b[1m \u001b[0m┃\u001b[1m \u001b[0m\u001b[1mOutput Shape               \u001b[0m\u001b[1m \u001b[0m┃\u001b[1m \u001b[0m\u001b[1m        Param #\u001b[0m\u001b[1m \u001b[0m┃\n",
              "┡━━━━━━━━━━━━━━━━━━━━━━━━━━━━━━━━━━━━━━╇━━━━━━━━━━━━━━━━━━━━━━━━━━━━━╇━━━━━━━━━━━━━━━━━┩\n",
              "│ input_layer_1 (\u001b[38;5;33mInputLayer\u001b[0m)           │ (\u001b[38;5;45mNone\u001b[0m, \u001b[38;5;34m224\u001b[0m, \u001b[38;5;34m224\u001b[0m, \u001b[38;5;34m3\u001b[0m)         │               \u001b[38;5;34m0\u001b[0m │\n",
              "├──────────────────────────────────────┼─────────────────────────────┼─────────────────┤\n",
              "│ mobilenet_1.00_224 (\u001b[38;5;33mFunctional\u001b[0m)      │ (\u001b[38;5;45mNone\u001b[0m, \u001b[38;5;34m7\u001b[0m, \u001b[38;5;34m7\u001b[0m, \u001b[38;5;34m1024\u001b[0m)          │       \u001b[38;5;34m3,228,864\u001b[0m │\n",
              "├──────────────────────────────────────┼─────────────────────────────┼─────────────────┤\n",
              "│ global_average_pooling2d             │ (\u001b[38;5;45mNone\u001b[0m, \u001b[38;5;34m1024\u001b[0m)                │               \u001b[38;5;34m0\u001b[0m │\n",
              "│ (\u001b[38;5;33mGlobalAveragePooling2D\u001b[0m)             │                             │                 │\n",
              "├──────────────────────────────────────┼─────────────────────────────┼─────────────────┤\n",
              "│ batch_normalization                  │ (\u001b[38;5;45mNone\u001b[0m, \u001b[38;5;34m1024\u001b[0m)                │           \u001b[38;5;34m4,096\u001b[0m │\n",
              "│ (\u001b[38;5;33mBatchNormalization\u001b[0m)                 │                             │                 │\n",
              "├──────────────────────────────────────┼─────────────────────────────┼─────────────────┤\n",
              "│ dense (\u001b[38;5;33mDense\u001b[0m)                        │ (\u001b[38;5;45mNone\u001b[0m, \u001b[38;5;34m1024\u001b[0m)                │       \u001b[38;5;34m1,049,600\u001b[0m │\n",
              "├──────────────────────────────────────┼─────────────────────────────┼─────────────────┤\n",
              "│ dropout (\u001b[38;5;33mDropout\u001b[0m)                    │ (\u001b[38;5;45mNone\u001b[0m, \u001b[38;5;34m1024\u001b[0m)                │               \u001b[38;5;34m0\u001b[0m │\n",
              "├──────────────────────────────────────┼─────────────────────────────┼─────────────────┤\n",
              "│ dense_1 (\u001b[38;5;33mDense\u001b[0m)                      │ (\u001b[38;5;45mNone\u001b[0m, \u001b[38;5;34m4\u001b[0m)                   │           \u001b[38;5;34m4,100\u001b[0m │\n",
              "└──────────────────────────────────────┴─────────────────────────────┴─────────────────┘\n"
            ],
            "text/html": [
              "<pre style=\"white-space:pre;overflow-x:auto;line-height:normal;font-family:Menlo,'DejaVu Sans Mono',consolas,'Courier New',monospace\">┏━━━━━━━━━━━━━━━━━━━━━━━━━━━━━━━━━━━━━━┳━━━━━━━━━━━━━━━━━━━━━━━━━━━━━┳━━━━━━━━━━━━━━━━━┓\n",
              "┃<span style=\"font-weight: bold\"> Layer (type)                         </span>┃<span style=\"font-weight: bold\"> Output Shape                </span>┃<span style=\"font-weight: bold\">         Param # </span>┃\n",
              "┡━━━━━━━━━━━━━━━━━━━━━━━━━━━━━━━━━━━━━━╇━━━━━━━━━━━━━━━━━━━━━━━━━━━━━╇━━━━━━━━━━━━━━━━━┩\n",
              "│ input_layer_1 (<span style=\"color: #0087ff; text-decoration-color: #0087ff\">InputLayer</span>)           │ (<span style=\"color: #00d7ff; text-decoration-color: #00d7ff\">None</span>, <span style=\"color: #00af00; text-decoration-color: #00af00\">224</span>, <span style=\"color: #00af00; text-decoration-color: #00af00\">224</span>, <span style=\"color: #00af00; text-decoration-color: #00af00\">3</span>)         │               <span style=\"color: #00af00; text-decoration-color: #00af00\">0</span> │\n",
              "├──────────────────────────────────────┼─────────────────────────────┼─────────────────┤\n",
              "│ mobilenet_1.00_224 (<span style=\"color: #0087ff; text-decoration-color: #0087ff\">Functional</span>)      │ (<span style=\"color: #00d7ff; text-decoration-color: #00d7ff\">None</span>, <span style=\"color: #00af00; text-decoration-color: #00af00\">7</span>, <span style=\"color: #00af00; text-decoration-color: #00af00\">7</span>, <span style=\"color: #00af00; text-decoration-color: #00af00\">1024</span>)          │       <span style=\"color: #00af00; text-decoration-color: #00af00\">3,228,864</span> │\n",
              "├──────────────────────────────────────┼─────────────────────────────┼─────────────────┤\n",
              "│ global_average_pooling2d             │ (<span style=\"color: #00d7ff; text-decoration-color: #00d7ff\">None</span>, <span style=\"color: #00af00; text-decoration-color: #00af00\">1024</span>)                │               <span style=\"color: #00af00; text-decoration-color: #00af00\">0</span> │\n",
              "│ (<span style=\"color: #0087ff; text-decoration-color: #0087ff\">GlobalAveragePooling2D</span>)             │                             │                 │\n",
              "├──────────────────────────────────────┼─────────────────────────────┼─────────────────┤\n",
              "│ batch_normalization                  │ (<span style=\"color: #00d7ff; text-decoration-color: #00d7ff\">None</span>, <span style=\"color: #00af00; text-decoration-color: #00af00\">1024</span>)                │           <span style=\"color: #00af00; text-decoration-color: #00af00\">4,096</span> │\n",
              "│ (<span style=\"color: #0087ff; text-decoration-color: #0087ff\">BatchNormalization</span>)                 │                             │                 │\n",
              "├──────────────────────────────────────┼─────────────────────────────┼─────────────────┤\n",
              "│ dense (<span style=\"color: #0087ff; text-decoration-color: #0087ff\">Dense</span>)                        │ (<span style=\"color: #00d7ff; text-decoration-color: #00d7ff\">None</span>, <span style=\"color: #00af00; text-decoration-color: #00af00\">1024</span>)                │       <span style=\"color: #00af00; text-decoration-color: #00af00\">1,049,600</span> │\n",
              "├──────────────────────────────────────┼─────────────────────────────┼─────────────────┤\n",
              "│ dropout (<span style=\"color: #0087ff; text-decoration-color: #0087ff\">Dropout</span>)                    │ (<span style=\"color: #00d7ff; text-decoration-color: #00d7ff\">None</span>, <span style=\"color: #00af00; text-decoration-color: #00af00\">1024</span>)                │               <span style=\"color: #00af00; text-decoration-color: #00af00\">0</span> │\n",
              "├──────────────────────────────────────┼─────────────────────────────┼─────────────────┤\n",
              "│ dense_1 (<span style=\"color: #0087ff; text-decoration-color: #0087ff\">Dense</span>)                      │ (<span style=\"color: #00d7ff; text-decoration-color: #00d7ff\">None</span>, <span style=\"color: #00af00; text-decoration-color: #00af00\">4</span>)                   │           <span style=\"color: #00af00; text-decoration-color: #00af00\">4,100</span> │\n",
              "└──────────────────────────────────────┴─────────────────────────────┴─────────────────┘\n",
              "</pre>\n"
            ]
          },
          "metadata": {}
        },
        {
          "output_type": "display_data",
          "data": {
            "text/plain": [
              "\u001b[1m Total params: \u001b[0m\u001b[38;5;34m4,286,660\u001b[0m (16.35 MB)\n"
            ],
            "text/html": [
              "<pre style=\"white-space:pre;overflow-x:auto;line-height:normal;font-family:Menlo,'DejaVu Sans Mono',consolas,'Courier New',monospace\"><span style=\"font-weight: bold\"> Total params: </span><span style=\"color: #00af00; text-decoration-color: #00af00\">4,286,660</span> (16.35 MB)\n",
              "</pre>\n"
            ]
          },
          "metadata": {}
        },
        {
          "output_type": "display_data",
          "data": {
            "text/plain": [
              "\u001b[1m Trainable params: \u001b[0m\u001b[38;5;34m4,262,724\u001b[0m (16.26 MB)\n"
            ],
            "text/html": [
              "<pre style=\"white-space:pre;overflow-x:auto;line-height:normal;font-family:Menlo,'DejaVu Sans Mono',consolas,'Courier New',monospace\"><span style=\"font-weight: bold\"> Trainable params: </span><span style=\"color: #00af00; text-decoration-color: #00af00\">4,262,724</span> (16.26 MB)\n",
              "</pre>\n"
            ]
          },
          "metadata": {}
        },
        {
          "output_type": "display_data",
          "data": {
            "text/plain": [
              "\u001b[1m Non-trainable params: \u001b[0m\u001b[38;5;34m23,936\u001b[0m (93.50 KB)\n"
            ],
            "text/html": [
              "<pre style=\"white-space:pre;overflow-x:auto;line-height:normal;font-family:Menlo,'DejaVu Sans Mono',consolas,'Courier New',monospace\"><span style=\"font-weight: bold\"> Non-trainable params: </span><span style=\"color: #00af00; text-decoration-color: #00af00\">23,936</span> (93.50 KB)\n",
              "</pre>\n"
            ]
          },
          "metadata": {}
        },
        {
          "output_type": "display_data",
          "data": {
            "text/plain": [
              "\u001b[1mModel: \"functional\"\u001b[0m\n"
            ],
            "text/html": [
              "<pre style=\"white-space:pre;overflow-x:auto;line-height:normal;font-family:Menlo,'DejaVu Sans Mono',consolas,'Courier New',monospace\"><span style=\"font-weight: bold\">Model: \"functional\"</span>\n",
              "</pre>\n"
            ]
          },
          "metadata": {}
        },
        {
          "output_type": "display_data",
          "data": {
            "text/plain": [
              "┏━━━━━━━━━━━━━━━━━━━━━━━━━━━━━━━━━━━━━━┳━━━━━━━━━━━━━━━━━━━━━━━━━━━━━┳━━━━━━━━━━━━━━━━━┓\n",
              "┃\u001b[1m \u001b[0m\u001b[1mLayer (type)                        \u001b[0m\u001b[1m \u001b[0m┃\u001b[1m \u001b[0m\u001b[1mOutput Shape               \u001b[0m\u001b[1m \u001b[0m┃\u001b[1m \u001b[0m\u001b[1m        Param #\u001b[0m\u001b[1m \u001b[0m┃\n",
              "┡━━━━━━━━━━━━━━━━━━━━━━━━━━━━━━━━━━━━━━╇━━━━━━━━━━━━━━━━━━━━━━━━━━━━━╇━━━━━━━━━━━━━━━━━┩\n",
              "│ input_layer_1 (\u001b[38;5;33mInputLayer\u001b[0m)           │ (\u001b[38;5;45mNone\u001b[0m, \u001b[38;5;34m224\u001b[0m, \u001b[38;5;34m224\u001b[0m, \u001b[38;5;34m3\u001b[0m)         │               \u001b[38;5;34m0\u001b[0m │\n",
              "├──────────────────────────────────────┼─────────────────────────────┼─────────────────┤\n",
              "│ mobilenet_1.00_224 (\u001b[38;5;33mFunctional\u001b[0m)      │ (\u001b[38;5;45mNone\u001b[0m, \u001b[38;5;34m7\u001b[0m, \u001b[38;5;34m7\u001b[0m, \u001b[38;5;34m1024\u001b[0m)          │       \u001b[38;5;34m3,228,864\u001b[0m │\n",
              "├──────────────────────────────────────┼─────────────────────────────┼─────────────────┤\n",
              "│ global_average_pooling2d             │ (\u001b[38;5;45mNone\u001b[0m, \u001b[38;5;34m1024\u001b[0m)                │               \u001b[38;5;34m0\u001b[0m │\n",
              "│ (\u001b[38;5;33mGlobalAveragePooling2D\u001b[0m)             │                             │                 │\n",
              "├──────────────────────────────────────┼─────────────────────────────┼─────────────────┤\n",
              "│ batch_normalization                  │ (\u001b[38;5;45mNone\u001b[0m, \u001b[38;5;34m1024\u001b[0m)                │           \u001b[38;5;34m4,096\u001b[0m │\n",
              "│ (\u001b[38;5;33mBatchNormalization\u001b[0m)                 │                             │                 │\n",
              "├──────────────────────────────────────┼─────────────────────────────┼─────────────────┤\n",
              "│ dense (\u001b[38;5;33mDense\u001b[0m)                        │ (\u001b[38;5;45mNone\u001b[0m, \u001b[38;5;34m1024\u001b[0m)                │       \u001b[38;5;34m1,049,600\u001b[0m │\n",
              "├──────────────────────────────────────┼─────────────────────────────┼─────────────────┤\n",
              "│ dropout (\u001b[38;5;33mDropout\u001b[0m)                    │ (\u001b[38;5;45mNone\u001b[0m, \u001b[38;5;34m1024\u001b[0m)                │               \u001b[38;5;34m0\u001b[0m │\n",
              "├──────────────────────────────────────┼─────────────────────────────┼─────────────────┤\n",
              "│ dense_1 (\u001b[38;5;33mDense\u001b[0m)                      │ (\u001b[38;5;45mNone\u001b[0m, \u001b[38;5;34m4\u001b[0m)                   │           \u001b[38;5;34m4,100\u001b[0m │\n",
              "└──────────────────────────────────────┴─────────────────────────────┴─────────────────┘\n"
            ],
            "text/html": [
              "<pre style=\"white-space:pre;overflow-x:auto;line-height:normal;font-family:Menlo,'DejaVu Sans Mono',consolas,'Courier New',monospace\">┏━━━━━━━━━━━━━━━━━━━━━━━━━━━━━━━━━━━━━━┳━━━━━━━━━━━━━━━━━━━━━━━━━━━━━┳━━━━━━━━━━━━━━━━━┓\n",
              "┃<span style=\"font-weight: bold\"> Layer (type)                         </span>┃<span style=\"font-weight: bold\"> Output Shape                </span>┃<span style=\"font-weight: bold\">         Param # </span>┃\n",
              "┡━━━━━━━━━━━━━━━━━━━━━━━━━━━━━━━━━━━━━━╇━━━━━━━━━━━━━━━━━━━━━━━━━━━━━╇━━━━━━━━━━━━━━━━━┩\n",
              "│ input_layer_1 (<span style=\"color: #0087ff; text-decoration-color: #0087ff\">InputLayer</span>)           │ (<span style=\"color: #00d7ff; text-decoration-color: #00d7ff\">None</span>, <span style=\"color: #00af00; text-decoration-color: #00af00\">224</span>, <span style=\"color: #00af00; text-decoration-color: #00af00\">224</span>, <span style=\"color: #00af00; text-decoration-color: #00af00\">3</span>)         │               <span style=\"color: #00af00; text-decoration-color: #00af00\">0</span> │\n",
              "├──────────────────────────────────────┼─────────────────────────────┼─────────────────┤\n",
              "│ mobilenet_1.00_224 (<span style=\"color: #0087ff; text-decoration-color: #0087ff\">Functional</span>)      │ (<span style=\"color: #00d7ff; text-decoration-color: #00d7ff\">None</span>, <span style=\"color: #00af00; text-decoration-color: #00af00\">7</span>, <span style=\"color: #00af00; text-decoration-color: #00af00\">7</span>, <span style=\"color: #00af00; text-decoration-color: #00af00\">1024</span>)          │       <span style=\"color: #00af00; text-decoration-color: #00af00\">3,228,864</span> │\n",
              "├──────────────────────────────────────┼─────────────────────────────┼─────────────────┤\n",
              "│ global_average_pooling2d             │ (<span style=\"color: #00d7ff; text-decoration-color: #00d7ff\">None</span>, <span style=\"color: #00af00; text-decoration-color: #00af00\">1024</span>)                │               <span style=\"color: #00af00; text-decoration-color: #00af00\">0</span> │\n",
              "│ (<span style=\"color: #0087ff; text-decoration-color: #0087ff\">GlobalAveragePooling2D</span>)             │                             │                 │\n",
              "├──────────────────────────────────────┼─────────────────────────────┼─────────────────┤\n",
              "│ batch_normalization                  │ (<span style=\"color: #00d7ff; text-decoration-color: #00d7ff\">None</span>, <span style=\"color: #00af00; text-decoration-color: #00af00\">1024</span>)                │           <span style=\"color: #00af00; text-decoration-color: #00af00\">4,096</span> │\n",
              "│ (<span style=\"color: #0087ff; text-decoration-color: #0087ff\">BatchNormalization</span>)                 │                             │                 │\n",
              "├──────────────────────────────────────┼─────────────────────────────┼─────────────────┤\n",
              "│ dense (<span style=\"color: #0087ff; text-decoration-color: #0087ff\">Dense</span>)                        │ (<span style=\"color: #00d7ff; text-decoration-color: #00d7ff\">None</span>, <span style=\"color: #00af00; text-decoration-color: #00af00\">1024</span>)                │       <span style=\"color: #00af00; text-decoration-color: #00af00\">1,049,600</span> │\n",
              "├──────────────────────────────────────┼─────────────────────────────┼─────────────────┤\n",
              "│ dropout (<span style=\"color: #0087ff; text-decoration-color: #0087ff\">Dropout</span>)                    │ (<span style=\"color: #00d7ff; text-decoration-color: #00d7ff\">None</span>, <span style=\"color: #00af00; text-decoration-color: #00af00\">1024</span>)                │               <span style=\"color: #00af00; text-decoration-color: #00af00\">0</span> │\n",
              "├──────────────────────────────────────┼─────────────────────────────┼─────────────────┤\n",
              "│ dense_1 (<span style=\"color: #0087ff; text-decoration-color: #0087ff\">Dense</span>)                      │ (<span style=\"color: #00d7ff; text-decoration-color: #00d7ff\">None</span>, <span style=\"color: #00af00; text-decoration-color: #00af00\">4</span>)                   │           <span style=\"color: #00af00; text-decoration-color: #00af00\">4,100</span> │\n",
              "└──────────────────────────────────────┴─────────────────────────────┴─────────────────┘\n",
              "</pre>\n"
            ]
          },
          "metadata": {}
        },
        {
          "output_type": "display_data",
          "data": {
            "text/plain": [
              "\u001b[1m Total params: \u001b[0m\u001b[38;5;34m4,286,660\u001b[0m (16.35 MB)\n"
            ],
            "text/html": [
              "<pre style=\"white-space:pre;overflow-x:auto;line-height:normal;font-family:Menlo,'DejaVu Sans Mono',consolas,'Courier New',monospace\"><span style=\"font-weight: bold\"> Total params: </span><span style=\"color: #00af00; text-decoration-color: #00af00\">4,286,660</span> (16.35 MB)\n",
              "</pre>\n"
            ]
          },
          "metadata": {}
        },
        {
          "output_type": "display_data",
          "data": {
            "text/plain": [
              "\u001b[1m Trainable params: \u001b[0m\u001b[38;5;34m1,055,748\u001b[0m (4.03 MB)\n"
            ],
            "text/html": [
              "<pre style=\"white-space:pre;overflow-x:auto;line-height:normal;font-family:Menlo,'DejaVu Sans Mono',consolas,'Courier New',monospace\"><span style=\"font-weight: bold\"> Trainable params: </span><span style=\"color: #00af00; text-decoration-color: #00af00\">1,055,748</span> (4.03 MB)\n",
              "</pre>\n"
            ]
          },
          "metadata": {}
        },
        {
          "output_type": "display_data",
          "data": {
            "text/plain": [
              "\u001b[1m Non-trainable params: \u001b[0m\u001b[38;5;34m3,230,912\u001b[0m (12.32 MB)\n"
            ],
            "text/html": [
              "<pre style=\"white-space:pre;overflow-x:auto;line-height:normal;font-family:Menlo,'DejaVu Sans Mono',consolas,'Courier New',monospace\"><span style=\"font-weight: bold\"> Non-trainable params: </span><span style=\"color: #00af00; text-decoration-color: #00af00\">3,230,912</span> (12.32 MB)\n",
              "</pre>\n"
            ]
          },
          "metadata": {}
        }
      ]
    },
    {
      "cell_type": "code",
      "source": [
        "# Set up callbacks for MobileNet\n",
        "early_stopping_mobilenet = EarlyStopping(monitor='val_loss', patience=5, verbose=1, restore_best_weights=True)\n",
        "model_checkpoint_mobilenet = ModelCheckpoint('/content/drive/MyDrive/MSC Project/Odunola Thesis/32_MobileNet_fine_tuned_model.keras', monitor='val_loss', save_best_only=True, verbose=1)\n",
        "reduce_lr_mobilenet = ReduceLROnPlateau(monitor='val_loss', factor=0.2, patience=5, verbose=1)\n",
        "\n",
        "# Train the MobileNet model\n",
        "history_mobilenet = mobilenet_model.fit(\n",
        "    train_generator,\n",
        "    validation_data=test_generator,\n",
        "    epochs=100,\n",
        "    callbacks=[early_stopping_mobilenet, model_checkpoint_mobilenet, reduce_lr_mobilenet],\n",
        "    verbose=1\n",
        ")\n",
        "\n",
        "# Save the final MobileNet model\n",
        "#mobilenet_model.save('/content/drive/MyDrive/MSC Project/Odunola Thesis/32_MobileNet_fine_tuned_model.keras')"
      ],
      "metadata": {
        "colab": {
          "base_uri": "https://localhost:8080/"
        },
        "id": "FkL35MFXHpFN",
        "outputId": "e727ec3f-a758-4acc-ad1b-c9afa361be8a"
      },
      "execution_count": null,
      "outputs": [
        {
          "output_type": "stream",
          "name": "stdout",
          "text": [
            "Epoch 1/100\n"
          ]
        },
        {
          "output_type": "stream",
          "name": "stderr",
          "text": [
            "/usr/local/lib/python3.10/dist-packages/keras/src/trainers/data_adapters/py_dataset_adapter.py:121: UserWarning: Your `PyDataset` class should call `super().__init__(**kwargs)` in its constructor. `**kwargs` can include `workers`, `use_multiprocessing`, `max_queue_size`. Do not pass these arguments to `fit()`, as they will be ignored.\n",
            "  self._warn_if_super_not_called()\n"
          ]
        },
        {
          "output_type": "stream",
          "name": "stdout",
          "text": [
            "\u001b[1m90/90\u001b[0m \u001b[32m━━━━━━━━━━━━━━━━━━━━\u001b[0m\u001b[37m\u001b[0m \u001b[1m0s\u001b[0m 31s/step - accuracy: 0.2877 - loss: 2.9567 \n",
            "Epoch 1: val_loss improved from inf to 2.12249, saving model to /content/drive/MyDrive/Colab Notebooks/Odunola Thesis/32_MobileNet_fine_tuned_model.keras\n",
            "\u001b[1m90/90\u001b[0m \u001b[32m━━━━━━━━━━━━━━━━━━━━\u001b[0m\u001b[37m\u001b[0m \u001b[1m4013s\u001b[0m 42s/step - accuracy: 0.2885 - loss: 2.9540 - val_accuracy: 0.5675 - val_loss: 2.1225 - learning_rate: 1.0000e-05\n",
            "Epoch 2/100\n",
            "\u001b[1m90/90\u001b[0m \u001b[32m━━━━━━━━━━━━━━━━━━━━\u001b[0m\u001b[37m\u001b[0m \u001b[1m0s\u001b[0m 1s/step - accuracy: 0.5247 - loss: 2.2231\n",
            "Epoch 2: val_loss improved from 2.12249 to 1.84436, saving model to /content/drive/MyDrive/Colab Notebooks/Odunola Thesis/32_MobileNet_fine_tuned_model.keras\n",
            "\u001b[1m90/90\u001b[0m \u001b[32m━━━━━━━━━━━━━━━━━━━━\u001b[0m\u001b[37m\u001b[0m \u001b[1m138s\u001b[0m 1s/step - accuracy: 0.5251 - loss: 2.2222 - val_accuracy: 0.6911 - val_loss: 1.8444 - learning_rate: 1.0000e-05\n",
            "Epoch 3/100\n",
            "\u001b[1m90/90\u001b[0m \u001b[32m━━━━━━━━━━━━━━━━━━━━\u001b[0m\u001b[37m\u001b[0m \u001b[1m0s\u001b[0m 985ms/step - accuracy: 0.6494 - loss: 1.9241\n",
            "Epoch 3: val_loss improved from 1.84436 to 1.71128, saving model to /content/drive/MyDrive/Colab Notebooks/Odunola Thesis/32_MobileNet_fine_tuned_model.keras\n",
            "\u001b[1m90/90\u001b[0m \u001b[32m━━━━━━━━━━━━━━━━━━━━\u001b[0m\u001b[37m\u001b[0m \u001b[1m139s\u001b[0m 1s/step - accuracy: 0.6497 - loss: 1.9234 - val_accuracy: 0.7414 - val_loss: 1.7113 - learning_rate: 1.0000e-05\n",
            "Epoch 4/100\n",
            "\u001b[1m90/90\u001b[0m \u001b[32m━━━━━━━━━━━━━━━━━━━━\u001b[0m\u001b[37m\u001b[0m \u001b[1m0s\u001b[0m 998ms/step - accuracy: 0.7104 - loss: 1.7698\n",
            "Epoch 4: val_loss improved from 1.71128 to 1.63518, saving model to /content/drive/MyDrive/Colab Notebooks/Odunola Thesis/32_MobileNet_fine_tuned_model.keras\n",
            "\u001b[1m90/90\u001b[0m \u001b[32m━━━━━━━━━━━━━━━━━━━━\u001b[0m\u001b[37m\u001b[0m \u001b[1m143s\u001b[0m 1s/step - accuracy: 0.7105 - loss: 1.7694 - val_accuracy: 0.7658 - val_loss: 1.6352 - learning_rate: 1.0000e-05\n",
            "Epoch 5/100\n",
            "\u001b[1m90/90\u001b[0m \u001b[32m━━━━━━━━━━━━━━━━━━━━\u001b[0m\u001b[37m\u001b[0m \u001b[1m0s\u001b[0m 968ms/step - accuracy: 0.7582 - loss: 1.6854\n",
            "Epoch 5: val_loss improved from 1.63518 to 1.58331, saving model to /content/drive/MyDrive/Colab Notebooks/Odunola Thesis/32_MobileNet_fine_tuned_model.keras\n",
            "\u001b[1m90/90\u001b[0m \u001b[32m━━━━━━━━━━━━━━━━━━━━\u001b[0m\u001b[37m\u001b[0m \u001b[1m139s\u001b[0m 1s/step - accuracy: 0.7583 - loss: 1.6853 - val_accuracy: 0.7788 - val_loss: 1.5833 - learning_rate: 1.0000e-05\n",
            "Epoch 6/100\n",
            "\u001b[1m90/90\u001b[0m \u001b[32m━━━━━━━━━━━━━━━━━━━━\u001b[0m\u001b[37m\u001b[0m \u001b[1m0s\u001b[0m 972ms/step - accuracy: 0.7861 - loss: 1.5886\n",
            "Epoch 6: val_loss improved from 1.58331 to 1.54431, saving model to /content/drive/MyDrive/Colab Notebooks/Odunola Thesis/32_MobileNet_fine_tuned_model.keras\n",
            "\u001b[1m90/90\u001b[0m \u001b[32m━━━━━━━━━━━━━━━━━━━━\u001b[0m\u001b[37m\u001b[0m \u001b[1m106s\u001b[0m 1s/step - accuracy: 0.7861 - loss: 1.5887 - val_accuracy: 0.7979 - val_loss: 1.5443 - learning_rate: 1.0000e-05\n",
            "Epoch 7/100\n",
            "\u001b[1m90/90\u001b[0m \u001b[32m━━━━━━━━━━━━━━━━━━━━\u001b[0m\u001b[37m\u001b[0m \u001b[1m0s\u001b[0m 980ms/step - accuracy: 0.7889 - loss: 1.5644\n",
            "Epoch 7: val_loss improved from 1.54431 to 1.51737, saving model to /content/drive/MyDrive/Colab Notebooks/Odunola Thesis/32_MobileNet_fine_tuned_model.keras\n",
            "\u001b[1m90/90\u001b[0m \u001b[32m━━━━━━━━━━━━━━━━━━━━\u001b[0m\u001b[37m\u001b[0m \u001b[1m102s\u001b[0m 1s/step - accuracy: 0.7890 - loss: 1.5642 - val_accuracy: 0.8063 - val_loss: 1.5174 - learning_rate: 1.0000e-05\n",
            "Epoch 8/100\n",
            "\u001b[1m90/90\u001b[0m \u001b[32m━━━━━━━━━━━━━━━━━━━━\u001b[0m\u001b[37m\u001b[0m \u001b[1m0s\u001b[0m 963ms/step - accuracy: 0.8082 - loss: 1.5390\n",
            "Epoch 8: val_loss improved from 1.51737 to 1.49187, saving model to /content/drive/MyDrive/Colab Notebooks/Odunola Thesis/32_MobileNet_fine_tuned_model.keras\n",
            "\u001b[1m90/90\u001b[0m \u001b[32m━━━━━━━━━━━━━━━━━━━━\u001b[0m\u001b[37m\u001b[0m \u001b[1m102s\u001b[0m 1s/step - accuracy: 0.8082 - loss: 1.5389 - val_accuracy: 0.8131 - val_loss: 1.4919 - learning_rate: 1.0000e-05\n",
            "Epoch 9/100\n",
            "\u001b[1m90/90\u001b[0m \u001b[32m━━━━━━━━━━━━━━━━━━━━\u001b[0m\u001b[37m\u001b[0m \u001b[1m0s\u001b[0m 952ms/step - accuracy: 0.8264 - loss: 1.4856\n",
            "Epoch 9: val_loss improved from 1.49187 to 1.46790, saving model to /content/drive/MyDrive/Colab Notebooks/Odunola Thesis/32_MobileNet_fine_tuned_model.keras\n",
            "\u001b[1m90/90\u001b[0m \u001b[32m━━━━━━━━━━━━━━━━━━━━\u001b[0m\u001b[37m\u001b[0m \u001b[1m101s\u001b[0m 1s/step - accuracy: 0.8264 - loss: 1.4857 - val_accuracy: 0.8230 - val_loss: 1.4679 - learning_rate: 1.0000e-05\n",
            "Epoch 10/100\n",
            "\u001b[1m90/90\u001b[0m \u001b[32m━━━━━━━━━━━━━━━━━━━━\u001b[0m\u001b[37m\u001b[0m \u001b[1m0s\u001b[0m 985ms/step - accuracy: 0.8192 - loss: 1.4939\n",
            "Epoch 10: val_loss improved from 1.46790 to 1.45129, saving model to /content/drive/MyDrive/Colab Notebooks/Odunola Thesis/32_MobileNet_fine_tuned_model.keras\n",
            "\u001b[1m90/90\u001b[0m \u001b[32m━━━━━━━━━━━━━━━━━━━━\u001b[0m\u001b[37m\u001b[0m \u001b[1m104s\u001b[0m 1s/step - accuracy: 0.8193 - loss: 1.4937 - val_accuracy: 0.8291 - val_loss: 1.4513 - learning_rate: 1.0000e-05\n",
            "Epoch 11/100\n",
            "\u001b[1m89/90\u001b[0m \u001b[32m━━━━━━━━━━━━━━━━━━━\u001b[0m\u001b[37m━\u001b[0m \u001b[1m0s\u001b[0m 971ms/step - accuracy: 0.8396 - loss: 1.4531\n",
            "Epoch 11: val_loss improved from 1.45129 to 1.43081, saving model to /content/drive/MyDrive/Colab Notebooks/Odunola Thesis/32_MobileNet_fine_tuned_model.keras\n",
            "\u001b[1m90/90\u001b[0m \u001b[32m━━━━━━━━━━━━━━━━━━━━\u001b[0m\u001b[37m\u001b[0m \u001b[1m143s\u001b[0m 1s/step - accuracy: 0.8395 - loss: 1.4531 - val_accuracy: 0.8368 - val_loss: 1.4308 - learning_rate: 1.0000e-05\n",
            "Epoch 12/100\n",
            "\u001b[1m90/90\u001b[0m \u001b[32m━━━━━━━━━━━━━━━━━━━━\u001b[0m\u001b[37m\u001b[0m \u001b[1m0s\u001b[0m 1s/step - accuracy: 0.8513 - loss: 1.4351\n",
            "Epoch 12: val_loss improved from 1.43081 to 1.41664, saving model to /content/drive/MyDrive/Colab Notebooks/Odunola Thesis/32_MobileNet_fine_tuned_model.keras\n",
            "\u001b[1m90/90\u001b[0m \u001b[32m━━━━━━━━━━━━━━━━━━━━\u001b[0m\u001b[37m\u001b[0m \u001b[1m104s\u001b[0m 1s/step - accuracy: 0.8513 - loss: 1.4350 - val_accuracy: 0.8421 - val_loss: 1.4166 - learning_rate: 1.0000e-05\n",
            "Epoch 13/100\n",
            "\u001b[1m89/90\u001b[0m \u001b[32m━━━━━━━━━━━━━━━━━━━\u001b[0m\u001b[37m━\u001b[0m \u001b[1m1s\u001b[0m 1s/step - accuracy: 0.8385 - loss: 1.4395\n",
            "Epoch 13: val_loss improved from 1.41664 to 1.40438, saving model to /content/drive/MyDrive/Colab Notebooks/Odunola Thesis/32_MobileNet_fine_tuned_model.keras\n",
            "\u001b[1m90/90\u001b[0m \u001b[32m━━━━━━━━━━━━━━━━━━━━\u001b[0m\u001b[37m\u001b[0m \u001b[1m105s\u001b[0m 1s/step - accuracy: 0.8386 - loss: 1.4393 - val_accuracy: 0.8474 - val_loss: 1.4044 - learning_rate: 1.0000e-05\n",
            "Epoch 14/100\n",
            "\u001b[1m90/90\u001b[0m \u001b[32m━━━━━━━━━━━━━━━━━━━━\u001b[0m\u001b[37m\u001b[0m \u001b[1m0s\u001b[0m 1000ms/step - accuracy: 0.8549 - loss: 1.4101\n",
            "Epoch 14: val_loss improved from 1.40438 to 1.38726, saving model to /content/drive/MyDrive/Colab Notebooks/Odunola Thesis/32_MobileNet_fine_tuned_model.keras\n",
            "\u001b[1m90/90\u001b[0m \u001b[32m━━━━━━━━━━━━━━━━━━━━\u001b[0m\u001b[37m\u001b[0m \u001b[1m105s\u001b[0m 1s/step - accuracy: 0.8549 - loss: 1.4102 - val_accuracy: 0.8543 - val_loss: 1.3873 - learning_rate: 1.0000e-05\n",
            "Epoch 15/100\n",
            "\u001b[1m90/90\u001b[0m \u001b[32m━━━━━━━━━━━━━━━━━━━━\u001b[0m\u001b[37m\u001b[0m \u001b[1m0s\u001b[0m 989ms/step - accuracy: 0.8697 - loss: 1.3856 \n",
            "Epoch 15: val_loss improved from 1.38726 to 1.37584, saving model to /content/drive/MyDrive/Colab Notebooks/Odunola Thesis/32_MobileNet_fine_tuned_model.keras\n",
            "\u001b[1m90/90\u001b[0m \u001b[32m━━━━━━━━━━━━━━━━━━━━\u001b[0m\u001b[37m\u001b[0m \u001b[1m104s\u001b[0m 1s/step - accuracy: 0.8696 - loss: 1.3856 - val_accuracy: 0.8596 - val_loss: 1.3758 - learning_rate: 1.0000e-05\n",
            "Epoch 16/100\n",
            "\u001b[1m89/90\u001b[0m \u001b[32m━━━━━━━━━━━━━━━━━━━\u001b[0m\u001b[37m━\u001b[0m \u001b[1m0s\u001b[0m 975ms/step - accuracy: 0.8597 - loss: 1.3872\n",
            "Epoch 16: val_loss improved from 1.37584 to 1.36918, saving model to /content/drive/MyDrive/Colab Notebooks/Odunola Thesis/32_MobileNet_fine_tuned_model.keras\n",
            "\u001b[1m90/90\u001b[0m \u001b[32m━━━━━━━━━━━━━━━━━━━━\u001b[0m\u001b[37m\u001b[0m \u001b[1m104s\u001b[0m 1s/step - accuracy: 0.8597 - loss: 1.3871 - val_accuracy: 0.8596 - val_loss: 1.3692 - learning_rate: 1.0000e-05\n",
            "Epoch 17/100\n",
            "\u001b[1m90/90\u001b[0m \u001b[32m━━━━━━━━━━━━━━━━━━━━\u001b[0m\u001b[37m\u001b[0m \u001b[1m0s\u001b[0m 963ms/step - accuracy: 0.8634 - loss: 1.3830\n",
            "Epoch 17: val_loss improved from 1.36918 to 1.35841, saving model to /content/drive/MyDrive/Colab Notebooks/Odunola Thesis/32_MobileNet_fine_tuned_model.keras\n",
            "\u001b[1m90/90\u001b[0m \u001b[32m━━━━━━━━━━━━━━━━━━━━\u001b[0m\u001b[37m\u001b[0m \u001b[1m102s\u001b[0m 1s/step - accuracy: 0.8635 - loss: 1.3829 - val_accuracy: 0.8642 - val_loss: 1.3584 - learning_rate: 1.0000e-05\n",
            "Epoch 18/100\n",
            "\u001b[1m90/90\u001b[0m \u001b[32m━━━━━━━━━━━━━━━━━━━━\u001b[0m\u001b[37m\u001b[0m \u001b[1m0s\u001b[0m 978ms/step - accuracy: 0.8723 - loss: 1.3456\n",
            "Epoch 18: val_loss improved from 1.35841 to 1.34787, saving model to /content/drive/MyDrive/Colab Notebooks/Odunola Thesis/32_MobileNet_fine_tuned_model.keras\n",
            "\u001b[1m90/90\u001b[0m \u001b[32m━━━━━━━━━━━━━━━━━━━━\u001b[0m\u001b[37m\u001b[0m \u001b[1m103s\u001b[0m 1s/step - accuracy: 0.8722 - loss: 1.3455 - val_accuracy: 0.8665 - val_loss: 1.3479 - learning_rate: 1.0000e-05\n",
            "Epoch 19/100\n",
            "\u001b[1m89/90\u001b[0m \u001b[32m━━━━━━━━━━━━━━━━━━━\u001b[0m\u001b[37m━\u001b[0m \u001b[1m0s\u001b[0m 979ms/step - accuracy: 0.8673 - loss: 1.3540\n",
            "Epoch 19: val_loss improved from 1.34787 to 1.33837, saving model to /content/drive/MyDrive/Colab Notebooks/Odunola Thesis/32_MobileNet_fine_tuned_model.keras\n",
            "\u001b[1m90/90\u001b[0m \u001b[32m━━━━━━━━━━━━━━━━━━━━\u001b[0m\u001b[37m\u001b[0m \u001b[1m103s\u001b[0m 1s/step - accuracy: 0.8674 - loss: 1.3539 - val_accuracy: 0.8734 - val_loss: 1.3384 - learning_rate: 1.0000e-05\n",
            "Epoch 20/100\n",
            "\u001b[1m90/90\u001b[0m \u001b[32m━━━━━━━━━━━━━━━━━━━━\u001b[0m\u001b[37m\u001b[0m \u001b[1m0s\u001b[0m 981ms/step - accuracy: 0.8775 - loss: 1.3425\n",
            "Epoch 20: val_loss improved from 1.33837 to 1.32974, saving model to /content/drive/MyDrive/Colab Notebooks/Odunola Thesis/32_MobileNet_fine_tuned_model.keras\n",
            "\u001b[1m90/90\u001b[0m \u001b[32m━━━━━━━━━━━━━━━━━━━━\u001b[0m\u001b[37m\u001b[0m \u001b[1m103s\u001b[0m 1s/step - accuracy: 0.8775 - loss: 1.3425 - val_accuracy: 0.8757 - val_loss: 1.3297 - learning_rate: 1.0000e-05\n",
            "Epoch 21/100\n",
            "\u001b[1m90/90\u001b[0m \u001b[32m━━━━━━━━━━━━━━━━━━━━\u001b[0m\u001b[37m\u001b[0m \u001b[1m0s\u001b[0m 986ms/step - accuracy: 0.8651 - loss: 1.3591\n",
            "Epoch 21: val_loss improved from 1.32974 to 1.32024, saving model to /content/drive/MyDrive/Colab Notebooks/Odunola Thesis/32_MobileNet_fine_tuned_model.keras\n",
            "\u001b[1m90/90\u001b[0m \u001b[32m━━━━━━━━━━━━━━━━━━━━\u001b[0m\u001b[37m\u001b[0m \u001b[1m143s\u001b[0m 1s/step - accuracy: 0.8651 - loss: 1.3589 - val_accuracy: 0.8802 - val_loss: 1.3202 - learning_rate: 1.0000e-05\n",
            "Epoch 22/100\n",
            "\u001b[1m90/90\u001b[0m \u001b[32m━━━━━━━━━━━━━━━━━━━━\u001b[0m\u001b[37m\u001b[0m \u001b[1m0s\u001b[0m 977ms/step - accuracy: 0.8702 - loss: 1.3480\n",
            "Epoch 22: val_loss improved from 1.32024 to 1.31307, saving model to /content/drive/MyDrive/Colab Notebooks/Odunola Thesis/32_MobileNet_fine_tuned_model.keras\n",
            "\u001b[1m90/90\u001b[0m \u001b[32m━━━━━━━━━━━━━━━━━━━━\u001b[0m\u001b[37m\u001b[0m \u001b[1m104s\u001b[0m 1s/step - accuracy: 0.8703 - loss: 1.3477 - val_accuracy: 0.8825 - val_loss: 1.3131 - learning_rate: 1.0000e-05\n",
            "Epoch 23/100\n",
            "\u001b[1m90/90\u001b[0m \u001b[32m━━━━━━━━━━━━━━━━━━━━\u001b[0m\u001b[37m\u001b[0m \u001b[1m0s\u001b[0m 962ms/step - accuracy: 0.8836 - loss: 1.3067\n",
            "Epoch 23: val_loss improved from 1.31307 to 1.30482, saving model to /content/drive/MyDrive/Colab Notebooks/Odunola Thesis/32_MobileNet_fine_tuned_model.keras\n",
            "\u001b[1m90/90\u001b[0m \u001b[32m━━━━━━━━━━━━━━━━━━━━\u001b[0m\u001b[37m\u001b[0m \u001b[1m104s\u001b[0m 1s/step - accuracy: 0.8836 - loss: 1.3067 - val_accuracy: 0.8871 - val_loss: 1.3048 - learning_rate: 1.0000e-05\n",
            "Epoch 24/100\n",
            "\u001b[1m90/90\u001b[0m \u001b[32m━━━━━━━━━━━━━━━━━━━━\u001b[0m\u001b[37m\u001b[0m \u001b[1m0s\u001b[0m 1s/step - accuracy: 0.8856 - loss: 1.3187\n",
            "Epoch 24: val_loss improved from 1.30482 to 1.29815, saving model to /content/drive/MyDrive/Colab Notebooks/Odunola Thesis/32_MobileNet_fine_tuned_model.keras\n",
            "\u001b[1m90/90\u001b[0m \u001b[32m━━━━━━━━━━━━━━━━━━━━\u001b[0m\u001b[37m\u001b[0m \u001b[1m142s\u001b[0m 1s/step - accuracy: 0.8856 - loss: 1.3186 - val_accuracy: 0.8894 - val_loss: 1.2982 - learning_rate: 1.0000e-05\n",
            "Epoch 25/100\n",
            "\u001b[1m90/90\u001b[0m \u001b[32m━━━━━━━━━━━━━━━━━━━━\u001b[0m\u001b[37m\u001b[0m \u001b[1m0s\u001b[0m 978ms/step - accuracy: 0.8864 - loss: 1.3148\n",
            "Epoch 25: val_loss improved from 1.29815 to 1.29224, saving model to /content/drive/MyDrive/Colab Notebooks/Odunola Thesis/32_MobileNet_fine_tuned_model.keras\n",
            "\u001b[1m90/90\u001b[0m \u001b[32m━━━━━━━━━━━━━━━━━━━━\u001b[0m\u001b[37m\u001b[0m \u001b[1m144s\u001b[0m 1s/step - accuracy: 0.8864 - loss: 1.3146 - val_accuracy: 0.8894 - val_loss: 1.2922 - learning_rate: 1.0000e-05\n",
            "Epoch 26/100\n",
            "\u001b[1m90/90\u001b[0m \u001b[32m━━━━━━━━━━━━━━━━━━━━\u001b[0m\u001b[37m\u001b[0m \u001b[1m0s\u001b[0m 988ms/step - accuracy: 0.8912 - loss: 1.2970\n",
            "Epoch 26: val_loss improved from 1.29224 to 1.28551, saving model to /content/drive/MyDrive/Colab Notebooks/Odunola Thesis/32_MobileNet_fine_tuned_model.keras\n",
            "\u001b[1m90/90\u001b[0m \u001b[32m━━━━━━━━━━━━━━━━━━━━\u001b[0m\u001b[37m\u001b[0m \u001b[1m138s\u001b[0m 1s/step - accuracy: 0.8911 - loss: 1.2970 - val_accuracy: 0.8894 - val_loss: 1.2855 - learning_rate: 1.0000e-05\n",
            "Epoch 27/100\n",
            "\u001b[1m90/90\u001b[0m \u001b[32m━━━━━━━━━━━━━━━━━━━━\u001b[0m\u001b[37m\u001b[0m \u001b[1m0s\u001b[0m 1s/step - accuracy: 0.8948 - loss: 1.2661\n",
            "Epoch 27: val_loss improved from 1.28551 to 1.27945, saving model to /content/drive/MyDrive/Colab Notebooks/Odunola Thesis/32_MobileNet_fine_tuned_model.keras\n",
            "\u001b[1m90/90\u001b[0m \u001b[32m━━━━━━━━━━━━━━━━━━━━\u001b[0m\u001b[37m\u001b[0m \u001b[1m143s\u001b[0m 1s/step - accuracy: 0.8947 - loss: 1.2663 - val_accuracy: 0.8886 - val_loss: 1.2794 - learning_rate: 1.0000e-05\n",
            "Epoch 28/100\n",
            "\u001b[1m90/90\u001b[0m \u001b[32m━━━━━━━━━━━━━━━━━━━━\u001b[0m\u001b[37m\u001b[0m \u001b[1m0s\u001b[0m 1s/step - accuracy: 0.8946 - loss: 1.2719\n",
            "Epoch 28: val_loss improved from 1.27945 to 1.27210, saving model to /content/drive/MyDrive/Colab Notebooks/Odunola Thesis/32_MobileNet_fine_tuned_model.keras\n",
            "\u001b[1m90/90\u001b[0m \u001b[32m━━━━━━━━━━━━━━━━━━━━\u001b[0m\u001b[37m\u001b[0m \u001b[1m109s\u001b[0m 1s/step - accuracy: 0.8946 - loss: 1.2720 - val_accuracy: 0.8924 - val_loss: 1.2721 - learning_rate: 1.0000e-05\n",
            "Epoch 29/100\n",
            "\u001b[1m90/90\u001b[0m \u001b[32m━━━━━━━━━━━━━━━━━━━━\u001b[0m\u001b[37m\u001b[0m \u001b[1m0s\u001b[0m 993ms/step - accuracy: 0.8940 - loss: 1.2649\n",
            "Epoch 29: val_loss improved from 1.27210 to 1.26678, saving model to /content/drive/MyDrive/Colab Notebooks/Odunola Thesis/32_MobileNet_fine_tuned_model.keras\n",
            "\u001b[1m90/90\u001b[0m \u001b[32m━━━━━━━━━━━━━━━━━━━━\u001b[0m\u001b[37m\u001b[0m \u001b[1m107s\u001b[0m 1s/step - accuracy: 0.8941 - loss: 1.2649 - val_accuracy: 0.8932 - val_loss: 1.2668 - learning_rate: 1.0000e-05\n",
            "Epoch 30/100\n",
            "\u001b[1m90/90\u001b[0m \u001b[32m━━━━━━━━━━━━━━━━━━━━\u001b[0m\u001b[37m\u001b[0m \u001b[1m0s\u001b[0m 957ms/step - accuracy: 0.8930 - loss: 1.2675\n",
            "Epoch 30: val_loss improved from 1.26678 to 1.26081, saving model to /content/drive/MyDrive/Colab Notebooks/Odunola Thesis/32_MobileNet_fine_tuned_model.keras\n",
            "\u001b[1m90/90\u001b[0m \u001b[32m━━━━━━━━━━━━━━━━━━━━\u001b[0m\u001b[37m\u001b[0m \u001b[1m101s\u001b[0m 1s/step - accuracy: 0.8930 - loss: 1.2676 - val_accuracy: 0.8978 - val_loss: 1.2608 - learning_rate: 1.0000e-05\n",
            "Epoch 31/100\n",
            "\u001b[1m90/90\u001b[0m \u001b[32m━━━━━━━━━━━━━━━━━━━━\u001b[0m\u001b[37m\u001b[0m \u001b[1m0s\u001b[0m 977ms/step - accuracy: 0.8863 - loss: 1.2775\n",
            "Epoch 31: val_loss improved from 1.26081 to 1.25587, saving model to /content/drive/MyDrive/Colab Notebooks/Odunola Thesis/32_MobileNet_fine_tuned_model.keras\n",
            "\u001b[1m90/90\u001b[0m \u001b[32m━━━━━━━━━━━━━━━━━━━━\u001b[0m\u001b[37m\u001b[0m \u001b[1m148s\u001b[0m 1s/step - accuracy: 0.8864 - loss: 1.2773 - val_accuracy: 0.8963 - val_loss: 1.2559 - learning_rate: 1.0000e-05\n",
            "Epoch 32/100\n",
            "\u001b[1m90/90\u001b[0m \u001b[32m━━━━━━━━━━━━━━━━━━━━\u001b[0m\u001b[37m\u001b[0m \u001b[1m0s\u001b[0m 983ms/step - accuracy: 0.9046 - loss: 1.2463\n",
            "Epoch 32: val_loss improved from 1.25587 to 1.25151, saving model to /content/drive/MyDrive/Colab Notebooks/Odunola Thesis/32_MobileNet_fine_tuned_model.keras\n",
            "\u001b[1m90/90\u001b[0m \u001b[32m━━━━━━━━━━━━━━━━━━━━\u001b[0m\u001b[37m\u001b[0m \u001b[1m103s\u001b[0m 1s/step - accuracy: 0.9046 - loss: 1.2463 - val_accuracy: 0.9001 - val_loss: 1.2515 - learning_rate: 1.0000e-05\n",
            "Epoch 33/100\n",
            "\u001b[1m90/90\u001b[0m \u001b[32m━━━━━━━━━━━━━━━━━━━━\u001b[0m\u001b[37m\u001b[0m \u001b[1m0s\u001b[0m 980ms/step - accuracy: 0.8943 - loss: 1.2538\n",
            "Epoch 33: val_loss improved from 1.25151 to 1.24465, saving model to /content/drive/MyDrive/Colab Notebooks/Odunola Thesis/32_MobileNet_fine_tuned_model.keras\n",
            "\u001b[1m90/90\u001b[0m \u001b[32m━━━━━━━━━━━━━━━━━━━━\u001b[0m\u001b[37m\u001b[0m \u001b[1m143s\u001b[0m 1s/step - accuracy: 0.8943 - loss: 1.2539 - val_accuracy: 0.9008 - val_loss: 1.2446 - learning_rate: 1.0000e-05\n",
            "Epoch 34/100\n",
            "\u001b[1m90/90\u001b[0m \u001b[32m━━━━━━━━━━━━━━━━━━━━\u001b[0m\u001b[37m\u001b[0m \u001b[1m0s\u001b[0m 978ms/step - accuracy: 0.9056 - loss: 1.2188\n",
            "Epoch 34: val_loss improved from 1.24465 to 1.23856, saving model to /content/drive/MyDrive/Colab Notebooks/Odunola Thesis/32_MobileNet_fine_tuned_model.keras\n",
            "\u001b[1m90/90\u001b[0m \u001b[32m━━━━━━━━━━━━━━━━━━━━\u001b[0m\u001b[37m\u001b[0m \u001b[1m141s\u001b[0m 1s/step - accuracy: 0.9056 - loss: 1.2189 - val_accuracy: 0.9016 - val_loss: 1.2386 - learning_rate: 1.0000e-05\n",
            "Epoch 35/100\n",
            "\u001b[1m90/90\u001b[0m \u001b[32m━━━━━━━━━━━━━━━━━━━━\u001b[0m\u001b[37m\u001b[0m \u001b[1m0s\u001b[0m 975ms/step - accuracy: 0.9087 - loss: 1.2244\n",
            "Epoch 35: val_loss improved from 1.23856 to 1.23114, saving model to /content/drive/MyDrive/Colab Notebooks/Odunola Thesis/32_MobileNet_fine_tuned_model.keras\n",
            "\u001b[1m90/90\u001b[0m \u001b[32m━━━━━━━━━━━━━━━━━━━━\u001b[0m\u001b[37m\u001b[0m \u001b[1m103s\u001b[0m 1s/step - accuracy: 0.9087 - loss: 1.2244 - val_accuracy: 0.9039 - val_loss: 1.2311 - learning_rate: 1.0000e-05\n",
            "Epoch 36/100\n",
            "\u001b[1m90/90\u001b[0m \u001b[32m━━━━━━━━━━━━━━━━━━━━\u001b[0m\u001b[37m\u001b[0m \u001b[1m0s\u001b[0m 969ms/step - accuracy: 0.9058 - loss: 1.2356\n",
            "Epoch 36: val_loss improved from 1.23114 to 1.22560, saving model to /content/drive/MyDrive/Colab Notebooks/Odunola Thesis/32_MobileNet_fine_tuned_model.keras\n",
            "\u001b[1m90/90\u001b[0m \u001b[32m━━━━━━━━━━━━━━━━━━━━\u001b[0m\u001b[37m\u001b[0m \u001b[1m103s\u001b[0m 1s/step - accuracy: 0.9058 - loss: 1.2356 - val_accuracy: 0.9047 - val_loss: 1.2256 - learning_rate: 1.0000e-05\n",
            "Epoch 37/100\n",
            "\u001b[1m90/90\u001b[0m \u001b[32m━━━━━━━━━━━━━━━━━━━━\u001b[0m\u001b[37m\u001b[0m \u001b[1m0s\u001b[0m 1s/step - accuracy: 0.9100 - loss: 1.2238\n",
            "Epoch 37: val_loss improved from 1.22560 to 1.22181, saving model to /content/drive/MyDrive/Colab Notebooks/Odunola Thesis/32_MobileNet_fine_tuned_model.keras\n",
            "\u001b[1m90/90\u001b[0m \u001b[32m━━━━━━━━━━━━━━━━━━━━\u001b[0m\u001b[37m\u001b[0m \u001b[1m104s\u001b[0m 1s/step - accuracy: 0.9100 - loss: 1.2238 - val_accuracy: 0.9069 - val_loss: 1.2218 - learning_rate: 1.0000e-05\n",
            "Epoch 38/100\n",
            "\u001b[1m89/90\u001b[0m \u001b[32m━━━━━━━━━━━━━━━━━━━\u001b[0m\u001b[37m━\u001b[0m \u001b[1m0s\u001b[0m 996ms/step - accuracy: 0.9143 - loss: 1.2115\n",
            "Epoch 38: val_loss improved from 1.22181 to 1.21504, saving model to /content/drive/MyDrive/Colab Notebooks/Odunola Thesis/32_MobileNet_fine_tuned_model.keras\n",
            "\u001b[1m90/90\u001b[0m \u001b[32m━━━━━━━━━━━━━━━━━━━━\u001b[0m\u001b[37m\u001b[0m \u001b[1m104s\u001b[0m 1s/step - accuracy: 0.9142 - loss: 1.2115 - val_accuracy: 0.9085 - val_loss: 1.2150 - learning_rate: 1.0000e-05\n",
            "Epoch 39/100\n",
            "\u001b[1m90/90\u001b[0m \u001b[32m━━━━━━━━━━━━━━━━━━━━\u001b[0m\u001b[37m\u001b[0m \u001b[1m0s\u001b[0m 984ms/step - accuracy: 0.9145 - loss: 1.2067\n",
            "Epoch 39: val_loss improved from 1.21504 to 1.21052, saving model to /content/drive/MyDrive/Colab Notebooks/Odunola Thesis/32_MobileNet_fine_tuned_model.keras\n",
            "\u001b[1m90/90\u001b[0m \u001b[32m━━━━━━━━━━━━━━━━━━━━\u001b[0m\u001b[37m\u001b[0m \u001b[1m104s\u001b[0m 1s/step - accuracy: 0.9145 - loss: 1.2067 - val_accuracy: 0.9069 - val_loss: 1.2105 - learning_rate: 1.0000e-05\n",
            "Epoch 40/100\n",
            "\u001b[1m90/90\u001b[0m \u001b[32m━━━━━━━━━━━━━━━━━━━━\u001b[0m\u001b[37m\u001b[0m \u001b[1m0s\u001b[0m 991ms/step - accuracy: 0.9017 - loss: 1.2143\n",
            "Epoch 40: val_loss improved from 1.21052 to 1.20614, saving model to /content/drive/MyDrive/Colab Notebooks/Odunola Thesis/32_MobileNet_fine_tuned_model.keras\n",
            "\u001b[1m90/90\u001b[0m \u001b[32m━━━━━━━━━━━━━━━━━━━━\u001b[0m\u001b[37m\u001b[0m \u001b[1m141s\u001b[0m 1s/step - accuracy: 0.9018 - loss: 1.2142 - val_accuracy: 0.9100 - val_loss: 1.2061 - learning_rate: 1.0000e-05\n",
            "Epoch 41/100\n",
            "\u001b[1m90/90\u001b[0m \u001b[32m━━━━━━━━━━━━━━━━━━━━\u001b[0m\u001b[37m\u001b[0m \u001b[1m0s\u001b[0m 969ms/step - accuracy: 0.9140 - loss: 1.1963\n",
            "Epoch 41: val_loss improved from 1.20614 to 1.20401, saving model to /content/drive/MyDrive/Colab Notebooks/Odunola Thesis/32_MobileNet_fine_tuned_model.keras\n",
            "\u001b[1m90/90\u001b[0m \u001b[32m━━━━━━━━━━━━━━━━━━━━\u001b[0m\u001b[37m\u001b[0m \u001b[1m140s\u001b[0m 1s/step - accuracy: 0.9139 - loss: 1.1963 - val_accuracy: 0.9123 - val_loss: 1.2040 - learning_rate: 1.0000e-05\n",
            "Epoch 42/100\n",
            "\u001b[1m90/90\u001b[0m \u001b[32m━━━━━━━━━━━━━━━━━━━━\u001b[0m\u001b[37m\u001b[0m \u001b[1m0s\u001b[0m 975ms/step - accuracy: 0.9177 - loss: 1.1861\n",
            "Epoch 42: val_loss improved from 1.20401 to 1.20035, saving model to /content/drive/MyDrive/Colab Notebooks/Odunola Thesis/32_MobileNet_fine_tuned_model.keras\n",
            "\u001b[1m90/90\u001b[0m \u001b[32m━━━━━━━━━━━━━━━━━━━━\u001b[0m\u001b[37m\u001b[0m \u001b[1m102s\u001b[0m 1s/step - accuracy: 0.9177 - loss: 1.1863 - val_accuracy: 0.9108 - val_loss: 1.2004 - learning_rate: 1.0000e-05\n",
            "Epoch 43/100\n",
            "\u001b[1m90/90\u001b[0m \u001b[32m━━━━━━━━━━━━━━━━━━━━\u001b[0m\u001b[37m\u001b[0m \u001b[1m0s\u001b[0m 1s/step - accuracy: 0.9122 - loss: 1.1846\n",
            "Epoch 43: val_loss improved from 1.20035 to 1.19587, saving model to /content/drive/MyDrive/Colab Notebooks/Odunola Thesis/32_MobileNet_fine_tuned_model.keras\n",
            "\u001b[1m90/90\u001b[0m \u001b[32m━━━━━━━━━━━━━━━━━━━━\u001b[0m\u001b[37m\u001b[0m \u001b[1m120s\u001b[0m 1s/step - accuracy: 0.9121 - loss: 1.1847 - val_accuracy: 0.9123 - val_loss: 1.1959 - learning_rate: 1.0000e-05\n",
            "Epoch 44/100\n",
            "\u001b[1m90/90\u001b[0m \u001b[32m━━━━━━━━━━━━━━━━━━━━\u001b[0m\u001b[37m\u001b[0m \u001b[1m0s\u001b[0m 978ms/step - accuracy: 0.9179 - loss: 1.1782\n",
            "Epoch 44: val_loss improved from 1.19587 to 1.19066, saving model to /content/drive/MyDrive/Colab Notebooks/Odunola Thesis/32_MobileNet_fine_tuned_model.keras\n",
            "\u001b[1m90/90\u001b[0m \u001b[32m━━━━━━━━━━━━━━━━━━━━\u001b[0m\u001b[37m\u001b[0m \u001b[1m126s\u001b[0m 1s/step - accuracy: 0.9179 - loss: 1.1783 - val_accuracy: 0.9123 - val_loss: 1.1907 - learning_rate: 1.0000e-05\n",
            "Epoch 45/100\n",
            "\u001b[1m90/90\u001b[0m \u001b[32m━━━━━━━━━━━━━━━━━━━━\u001b[0m\u001b[37m\u001b[0m \u001b[1m0s\u001b[0m 960ms/step - accuracy: 0.9135 - loss: 1.1833\n",
            "Epoch 45: val_loss improved from 1.19066 to 1.18452, saving model to /content/drive/MyDrive/Colab Notebooks/Odunola Thesis/32_MobileNet_fine_tuned_model.keras\n",
            "\u001b[1m90/90\u001b[0m \u001b[32m━━━━━━━━━━━━━━━━━━━━\u001b[0m\u001b[37m\u001b[0m \u001b[1m102s\u001b[0m 1s/step - accuracy: 0.9135 - loss: 1.1833 - val_accuracy: 0.9130 - val_loss: 1.1845 - learning_rate: 1.0000e-05\n",
            "Epoch 46/100\n",
            "\u001b[1m90/90\u001b[0m \u001b[32m━━━━━━━━━━━━━━━━━━━━\u001b[0m\u001b[37m\u001b[0m \u001b[1m0s\u001b[0m 983ms/step - accuracy: 0.9136 - loss: 1.1811\n",
            "Epoch 46: val_loss improved from 1.18452 to 1.18097, saving model to /content/drive/MyDrive/Colab Notebooks/Odunola Thesis/32_MobileNet_fine_tuned_model.keras\n",
            "\u001b[1m90/90\u001b[0m \u001b[32m━━━━━━━━━━━━━━━━━━━━\u001b[0m\u001b[37m\u001b[0m \u001b[1m103s\u001b[0m 1s/step - accuracy: 0.9136 - loss: 1.1810 - val_accuracy: 0.9153 - val_loss: 1.1810 - learning_rate: 1.0000e-05\n",
            "Epoch 47/100\n",
            "\u001b[1m90/90\u001b[0m \u001b[32m━━━━━━━━━━━━━━━━━━━━\u001b[0m\u001b[37m\u001b[0m \u001b[1m0s\u001b[0m 1s/step - accuracy: 0.9097 - loss: 1.1873\n",
            "Epoch 47: val_loss improved from 1.18097 to 1.17658, saving model to /content/drive/MyDrive/Colab Notebooks/Odunola Thesis/32_MobileNet_fine_tuned_model.keras\n",
            "\u001b[1m90/90\u001b[0m \u001b[32m━━━━━━━━━━━━━━━━━━━━\u001b[0m\u001b[37m\u001b[0m \u001b[1m104s\u001b[0m 1s/step - accuracy: 0.9098 - loss: 1.1872 - val_accuracy: 0.9161 - val_loss: 1.1766 - learning_rate: 1.0000e-05\n",
            "Epoch 48/100\n",
            "\u001b[1m90/90\u001b[0m \u001b[32m━━━━━━━━━━━━━━━━━━━━\u001b[0m\u001b[37m\u001b[0m \u001b[1m0s\u001b[0m 990ms/step - accuracy: 0.9200 - loss: 1.1663\n",
            "Epoch 48: val_loss improved from 1.17658 to 1.17155, saving model to /content/drive/MyDrive/Colab Notebooks/Odunola Thesis/32_MobileNet_fine_tuned_model.keras\n",
            "\u001b[1m90/90\u001b[0m \u001b[32m━━━━━━━━━━━━━━━━━━━━\u001b[0m\u001b[37m\u001b[0m \u001b[1m104s\u001b[0m 1s/step - accuracy: 0.9200 - loss: 1.1664 - val_accuracy: 0.9176 - val_loss: 1.1716 - learning_rate: 1.0000e-05\n",
            "Epoch 49/100\n",
            "\u001b[1m90/90\u001b[0m \u001b[32m━━━━━━━━━━━━━━━━━━━━\u001b[0m\u001b[37m\u001b[0m \u001b[1m0s\u001b[0m 985ms/step - accuracy: 0.9259 - loss: 1.1548\n",
            "Epoch 49: val_loss improved from 1.17155 to 1.16729, saving model to /content/drive/MyDrive/Colab Notebooks/Odunola Thesis/32_MobileNet_fine_tuned_model.keras\n",
            "\u001b[1m90/90\u001b[0m \u001b[32m━━━━━━━━━━━━━━━━━━━━\u001b[0m\u001b[37m\u001b[0m \u001b[1m142s\u001b[0m 1s/step - accuracy: 0.9258 - loss: 1.1549 - val_accuracy: 0.9176 - val_loss: 1.1673 - learning_rate: 1.0000e-05\n",
            "Epoch 50/100\n",
            "\u001b[1m90/90\u001b[0m \u001b[32m━━━━━━━━━━━━━━━━━━━━\u001b[0m\u001b[37m\u001b[0m \u001b[1m0s\u001b[0m 994ms/step - accuracy: 0.9125 - loss: 1.1705\n",
            "Epoch 50: val_loss improved from 1.16729 to 1.16491, saving model to /content/drive/MyDrive/Colab Notebooks/Odunola Thesis/32_MobileNet_fine_tuned_model.keras\n",
            "\u001b[1m90/90\u001b[0m \u001b[32m━━━━━━━━━━━━━━━━━━━━\u001b[0m\u001b[37m\u001b[0m \u001b[1m104s\u001b[0m 1s/step - accuracy: 0.9125 - loss: 1.1705 - val_accuracy: 0.9153 - val_loss: 1.1649 - learning_rate: 1.0000e-05\n",
            "Epoch 51/100\n",
            "\u001b[1m90/90\u001b[0m \u001b[32m━━━━━━━━━━━━━━━━━━━━\u001b[0m\u001b[37m\u001b[0m \u001b[1m0s\u001b[0m 981ms/step - accuracy: 0.9223 - loss: 1.1614\n",
            "Epoch 51: val_loss improved from 1.16491 to 1.16146, saving model to /content/drive/MyDrive/Colab Notebooks/Odunola Thesis/32_MobileNet_fine_tuned_model.keras\n",
            "\u001b[1m90/90\u001b[0m \u001b[32m━━━━━━━━━━━━━━━━━━━━\u001b[0m\u001b[37m\u001b[0m \u001b[1m103s\u001b[0m 1s/step - accuracy: 0.9223 - loss: 1.1614 - val_accuracy: 0.9184 - val_loss: 1.1615 - learning_rate: 1.0000e-05\n",
            "Epoch 52/100\n",
            "\u001b[1m90/90\u001b[0m \u001b[32m━━━━━━━━━━━━━━━━━━━━\u001b[0m\u001b[37m\u001b[0m \u001b[1m0s\u001b[0m 981ms/step - accuracy: 0.9226 - loss: 1.1565\n",
            "Epoch 52: val_loss improved from 1.16146 to 1.15544, saving model to /content/drive/MyDrive/Colab Notebooks/Odunola Thesis/32_MobileNet_fine_tuned_model.keras\n",
            "\u001b[1m90/90\u001b[0m \u001b[32m━━━━━━━━━━━━━━━━━━━━\u001b[0m\u001b[37m\u001b[0m \u001b[1m107s\u001b[0m 1s/step - accuracy: 0.9226 - loss: 1.1566 - val_accuracy: 0.9184 - val_loss: 1.1554 - learning_rate: 1.0000e-05\n",
            "Epoch 53/100\n",
            "\u001b[1m90/90\u001b[0m \u001b[32m━━━━━━━━━━━━━━━━━━━━\u001b[0m\u001b[37m\u001b[0m \u001b[1m0s\u001b[0m 983ms/step - accuracy: 0.9159 - loss: 1.1507\n",
            "Epoch 53: val_loss improved from 1.15544 to 1.15087, saving model to /content/drive/MyDrive/Colab Notebooks/Odunola Thesis/32_MobileNet_fine_tuned_model.keras\n",
            "\u001b[1m90/90\u001b[0m \u001b[32m━━━━━━━━━━━━━━━━━━━━\u001b[0m\u001b[37m\u001b[0m \u001b[1m103s\u001b[0m 1s/step - accuracy: 0.9159 - loss: 1.1507 - val_accuracy: 0.9207 - val_loss: 1.1509 - learning_rate: 1.0000e-05\n",
            "Epoch 54/100\n",
            "\u001b[1m90/90\u001b[0m \u001b[32m━━━━━━━━━━━━━━━━━━━━\u001b[0m\u001b[37m\u001b[0m \u001b[1m0s\u001b[0m 996ms/step - accuracy: 0.9213 - loss: 1.1529\n",
            "Epoch 54: val_loss improved from 1.15087 to 1.14742, saving model to /content/drive/MyDrive/Colab Notebooks/Odunola Thesis/32_MobileNet_fine_tuned_model.keras\n",
            "\u001b[1m90/90\u001b[0m \u001b[32m━━━━━━━━━━━━━━━━━━━━\u001b[0m\u001b[37m\u001b[0m \u001b[1m103s\u001b[0m 1s/step - accuracy: 0.9213 - loss: 1.1528 - val_accuracy: 0.9222 - val_loss: 1.1474 - learning_rate: 1.0000e-05\n",
            "Epoch 55/100\n",
            "\u001b[1m90/90\u001b[0m \u001b[32m━━━━━━━━━━━━━━━━━━━━\u001b[0m\u001b[37m\u001b[0m \u001b[1m0s\u001b[0m 980ms/step - accuracy: 0.9276 - loss: 1.1308\n",
            "Epoch 55: val_loss improved from 1.14742 to 1.14267, saving model to /content/drive/MyDrive/Colab Notebooks/Odunola Thesis/32_MobileNet_fine_tuned_model.keras\n",
            "\u001b[1m90/90\u001b[0m \u001b[32m━━━━━━━━━━━━━━━━━━━━\u001b[0m\u001b[37m\u001b[0m \u001b[1m142s\u001b[0m 1s/step - accuracy: 0.9275 - loss: 1.1310 - val_accuracy: 0.9199 - val_loss: 1.1427 - learning_rate: 1.0000e-05\n",
            "Epoch 56/100\n",
            "\u001b[1m90/90\u001b[0m \u001b[32m━━━━━━━━━━━━━━━━━━━━\u001b[0m\u001b[37m\u001b[0m \u001b[1m0s\u001b[0m 988ms/step - accuracy: 0.9211 - loss: 1.1374\n",
            "Epoch 56: val_loss improved from 1.14267 to 1.13886, saving model to /content/drive/MyDrive/Colab Notebooks/Odunola Thesis/32_MobileNet_fine_tuned_model.keras\n",
            "\u001b[1m90/90\u001b[0m \u001b[32m━━━━━━━━━━━━━━━━━━━━\u001b[0m\u001b[37m\u001b[0m \u001b[1m104s\u001b[0m 1s/step - accuracy: 0.9211 - loss: 1.1374 - val_accuracy: 0.9222 - val_loss: 1.1389 - learning_rate: 1.0000e-05\n",
            "Epoch 57/100\n",
            "\u001b[1m90/90\u001b[0m \u001b[32m━━━━━━━━━━━━━━━━━━━━\u001b[0m\u001b[37m\u001b[0m \u001b[1m0s\u001b[0m 962ms/step - accuracy: 0.9214 - loss: 1.1429\n",
            "Epoch 57: val_loss improved from 1.13886 to 1.13315, saving model to /content/drive/MyDrive/Colab Notebooks/Odunola Thesis/32_MobileNet_fine_tuned_model.keras\n",
            "\u001b[1m90/90\u001b[0m \u001b[32m━━━━━━━━━━━━━━━━━━━━\u001b[0m\u001b[37m\u001b[0m \u001b[1m101s\u001b[0m 1s/step - accuracy: 0.9214 - loss: 1.1428 - val_accuracy: 0.9252 - val_loss: 1.1332 - learning_rate: 1.0000e-05\n",
            "Epoch 58/100\n",
            "\u001b[1m90/90\u001b[0m \u001b[32m━━━━━━━━━━━━━━━━━━━━\u001b[0m\u001b[37m\u001b[0m \u001b[1m0s\u001b[0m 1s/step - accuracy: 0.9263 - loss: 1.1283\n",
            "Epoch 58: val_loss improved from 1.13315 to 1.12845, saving model to /content/drive/MyDrive/Colab Notebooks/Odunola Thesis/32_MobileNet_fine_tuned_model.keras\n",
            "\u001b[1m90/90\u001b[0m \u001b[32m━━━━━━━━━━━━━━━━━━━━\u001b[0m\u001b[37m\u001b[0m \u001b[1m150s\u001b[0m 1s/step - accuracy: 0.9264 - loss: 1.1282 - val_accuracy: 0.9291 - val_loss: 1.1285 - learning_rate: 1.0000e-05\n",
            "Epoch 59/100\n",
            "\u001b[1m90/90\u001b[0m \u001b[32m━━━━━━━━━━━━━━━━━━━━\u001b[0m\u001b[37m\u001b[0m \u001b[1m0s\u001b[0m 996ms/step - accuracy: 0.9226 - loss: 1.1362\n",
            "Epoch 59: val_loss improved from 1.12845 to 1.12688, saving model to /content/drive/MyDrive/Colab Notebooks/Odunola Thesis/32_MobileNet_fine_tuned_model.keras\n",
            "\u001b[1m90/90\u001b[0m \u001b[32m━━━━━━━━━━━━━━━━━━━━\u001b[0m\u001b[37m\u001b[0m \u001b[1m140s\u001b[0m 1s/step - accuracy: 0.9226 - loss: 1.1362 - val_accuracy: 0.9268 - val_loss: 1.1269 - learning_rate: 1.0000e-05\n",
            "Epoch 60/100\n",
            "\u001b[1m90/90\u001b[0m \u001b[32m━━━━━━━━━━━━━━━━━━━━\u001b[0m\u001b[37m\u001b[0m \u001b[1m0s\u001b[0m 1s/step - accuracy: 0.9259 - loss: 1.1236\n",
            "Epoch 60: val_loss improved from 1.12688 to 1.12303, saving model to /content/drive/MyDrive/Colab Notebooks/Odunola Thesis/32_MobileNet_fine_tuned_model.keras\n",
            "\u001b[1m90/90\u001b[0m \u001b[32m━━━━━━━━━━━━━━━━━━━━\u001b[0m\u001b[37m\u001b[0m \u001b[1m140s\u001b[0m 1s/step - accuracy: 0.9259 - loss: 1.1236 - val_accuracy: 0.9306 - val_loss: 1.1230 - learning_rate: 1.0000e-05\n",
            "Epoch 61/100\n",
            "\u001b[1m90/90\u001b[0m \u001b[32m━━━━━━━━━━━━━━━━━━━━\u001b[0m\u001b[37m\u001b[0m \u001b[1m0s\u001b[0m 972ms/step - accuracy: 0.9266 - loss: 1.1197\n",
            "Epoch 61: val_loss improved from 1.12303 to 1.12054, saving model to /content/drive/MyDrive/Colab Notebooks/Odunola Thesis/32_MobileNet_fine_tuned_model.keras\n",
            "\u001b[1m90/90\u001b[0m \u001b[32m━━━━━━━━━━━━━━━━━━━━\u001b[0m\u001b[37m\u001b[0m \u001b[1m104s\u001b[0m 1s/step - accuracy: 0.9267 - loss: 1.1196 - val_accuracy: 0.9314 - val_loss: 1.1205 - learning_rate: 1.0000e-05\n",
            "Epoch 62/100\n",
            "\u001b[1m90/90\u001b[0m \u001b[32m━━━━━━━━━━━━━━━━━━━━\u001b[0m\u001b[37m\u001b[0m \u001b[1m0s\u001b[0m 1s/step - accuracy: 0.9313 - loss: 1.1096\n",
            "Epoch 62: val_loss improved from 1.12054 to 1.11718, saving model to /content/drive/MyDrive/Colab Notebooks/Odunola Thesis/32_MobileNet_fine_tuned_model.keras\n",
            "\u001b[1m90/90\u001b[0m \u001b[32m━━━━━━━━━━━━━━━━━━━━\u001b[0m\u001b[37m\u001b[0m \u001b[1m143s\u001b[0m 1s/step - accuracy: 0.9312 - loss: 1.1097 - val_accuracy: 0.9314 - val_loss: 1.1172 - learning_rate: 1.0000e-05\n",
            "Epoch 63/100\n",
            "\u001b[1m90/90\u001b[0m \u001b[32m━━━━━━━━━━━━━━━━━━━━\u001b[0m\u001b[37m\u001b[0m \u001b[1m0s\u001b[0m 1s/step - accuracy: 0.9286 - loss: 1.1148\n",
            "Epoch 63: val_loss improved from 1.11718 to 1.11053, saving model to /content/drive/MyDrive/Colab Notebooks/Odunola Thesis/32_MobileNet_fine_tuned_model.keras\n",
            "\u001b[1m90/90\u001b[0m \u001b[32m━━━━━━━━━━━━━━━━━━━━\u001b[0m\u001b[37m\u001b[0m \u001b[1m146s\u001b[0m 1s/step - accuracy: 0.9286 - loss: 1.1149 - val_accuracy: 0.9336 - val_loss: 1.1105 - learning_rate: 1.0000e-05\n",
            "Epoch 64/100\n",
            "\u001b[1m90/90\u001b[0m \u001b[32m━━━━━━━━━━━━━━━━━━━━\u001b[0m\u001b[37m\u001b[0m \u001b[1m0s\u001b[0m 969ms/step - accuracy: 0.9304 - loss: 1.1126\n",
            "Epoch 64: val_loss improved from 1.11053 to 1.10752, saving model to /content/drive/MyDrive/Colab Notebooks/Odunola Thesis/32_MobileNet_fine_tuned_model.keras\n",
            "\u001b[1m90/90\u001b[0m \u001b[32m━━━━━━━━━━━━━━━━━━━━\u001b[0m\u001b[37m\u001b[0m \u001b[1m103s\u001b[0m 1s/step - accuracy: 0.9304 - loss: 1.1126 - val_accuracy: 0.9344 - val_loss: 1.1075 - learning_rate: 1.0000e-05\n",
            "Epoch 65/100\n",
            "\u001b[1m90/90\u001b[0m \u001b[32m━━━━━━━━━━━━━━━━━━━━\u001b[0m\u001b[37m\u001b[0m \u001b[1m0s\u001b[0m 975ms/step - accuracy: 0.9345 - loss: 1.0934\n",
            "Epoch 65: val_loss improved from 1.10752 to 1.10260, saving model to /content/drive/MyDrive/Colab Notebooks/Odunola Thesis/32_MobileNet_fine_tuned_model.keras\n",
            "\u001b[1m90/90\u001b[0m \u001b[32m━━━━━━━━━━━━━━━━━━━━\u001b[0m\u001b[37m\u001b[0m \u001b[1m142s\u001b[0m 1s/step - accuracy: 0.9345 - loss: 1.0934 - val_accuracy: 0.9344 - val_loss: 1.1026 - learning_rate: 1.0000e-05\n",
            "Epoch 66/100\n",
            "\u001b[1m90/90\u001b[0m \u001b[32m━━━━━━━━━━━━━━━━━━━━\u001b[0m\u001b[37m\u001b[0m \u001b[1m0s\u001b[0m 984ms/step - accuracy: 0.9286 - loss: 1.0967\n",
            "Epoch 66: val_loss improved from 1.10260 to 1.09908, saving model to /content/drive/MyDrive/Colab Notebooks/Odunola Thesis/32_MobileNet_fine_tuned_model.keras\n",
            "\u001b[1m90/90\u001b[0m \u001b[32m━━━━━━━━━━━━━━━━━━━━\u001b[0m\u001b[37m\u001b[0m \u001b[1m143s\u001b[0m 1s/step - accuracy: 0.9286 - loss: 1.0967 - val_accuracy: 0.9352 - val_loss: 1.0991 - learning_rate: 1.0000e-05\n",
            "Epoch 67/100\n",
            "\u001b[1m90/90\u001b[0m \u001b[32m━━━━━━━━━━━━━━━━━━━━\u001b[0m\u001b[37m\u001b[0m \u001b[1m0s\u001b[0m 971ms/step - accuracy: 0.9366 - loss: 1.0900\n",
            "Epoch 67: val_loss improved from 1.09908 to 1.09560, saving model to /content/drive/MyDrive/Colab Notebooks/Odunola Thesis/32_MobileNet_fine_tuned_model.keras\n",
            "\u001b[1m90/90\u001b[0m \u001b[32m━━━━━━━━━━━━━━━━━━━━\u001b[0m\u001b[37m\u001b[0m \u001b[1m102s\u001b[0m 1s/step - accuracy: 0.9366 - loss: 1.0900 - val_accuracy: 0.9344 - val_loss: 1.0956 - learning_rate: 1.0000e-05\n",
            "Epoch 68/100\n",
            "\u001b[1m90/90\u001b[0m \u001b[32m━━━━━━━━━━━━━━━━━━━━\u001b[0m\u001b[37m\u001b[0m \u001b[1m0s\u001b[0m 991ms/step - accuracy: 0.9356 - loss: 1.0898\n",
            "Epoch 68: val_loss improved from 1.09560 to 1.09259, saving model to /content/drive/MyDrive/Colab Notebooks/Odunola Thesis/32_MobileNet_fine_tuned_model.keras\n",
            "\u001b[1m90/90\u001b[0m \u001b[32m━━━━━━━━━━━━━━━━━━━━\u001b[0m\u001b[37m\u001b[0m \u001b[1m144s\u001b[0m 1s/step - accuracy: 0.9355 - loss: 1.0900 - val_accuracy: 0.9344 - val_loss: 1.0926 - learning_rate: 1.0000e-05\n",
            "Epoch 69/100\n",
            "\u001b[1m90/90\u001b[0m \u001b[32m━━━━━━━━━━━━━━━━━━━━\u001b[0m\u001b[37m\u001b[0m \u001b[1m0s\u001b[0m 955ms/step - accuracy: 0.9293 - loss: 1.0916\n",
            "Epoch 69: val_loss improved from 1.09259 to 1.08835, saving model to /content/drive/MyDrive/Colab Notebooks/Odunola Thesis/32_MobileNet_fine_tuned_model.keras\n",
            "\u001b[1m90/90\u001b[0m \u001b[32m━━━━━━━━━━━━━━━━━━━━\u001b[0m\u001b[37m\u001b[0m \u001b[1m101s\u001b[0m 1s/step - accuracy: 0.9293 - loss: 1.0916 - val_accuracy: 0.9336 - val_loss: 1.0883 - learning_rate: 1.0000e-05\n",
            "Epoch 70/100\n",
            "\u001b[1m90/90\u001b[0m \u001b[32m━━━━━━━━━━━━━━━━━━━━\u001b[0m\u001b[37m\u001b[0m \u001b[1m0s\u001b[0m 981ms/step - accuracy: 0.9329 - loss: 1.0892\n",
            "Epoch 70: val_loss improved from 1.08835 to 1.08422, saving model to /content/drive/MyDrive/Colab Notebooks/Odunola Thesis/32_MobileNet_fine_tuned_model.keras\n",
            "\u001b[1m90/90\u001b[0m \u001b[32m━━━━━━━━━━━━━━━━━━━━\u001b[0m\u001b[37m\u001b[0m \u001b[1m107s\u001b[0m 1s/step - accuracy: 0.9329 - loss: 1.0892 - val_accuracy: 0.9352 - val_loss: 1.0842 - learning_rate: 1.0000e-05\n",
            "Epoch 71/100\n",
            "\u001b[1m90/90\u001b[0m \u001b[32m━━━━━━━━━━━━━━━━━━━━\u001b[0m\u001b[37m\u001b[0m \u001b[1m0s\u001b[0m 969ms/step - accuracy: 0.9319 - loss: 1.0797\n",
            "Epoch 71: val_loss improved from 1.08422 to 1.08102, saving model to /content/drive/MyDrive/Colab Notebooks/Odunola Thesis/32_MobileNet_fine_tuned_model.keras\n",
            "\u001b[1m90/90\u001b[0m \u001b[32m━━━━━━━━━━━━━━━━━━━━\u001b[0m\u001b[37m\u001b[0m \u001b[1m140s\u001b[0m 1s/step - accuracy: 0.9319 - loss: 1.0797 - val_accuracy: 0.9352 - val_loss: 1.0810 - learning_rate: 1.0000e-05\n",
            "Epoch 72/100\n",
            "\u001b[1m90/90\u001b[0m \u001b[32m━━━━━━━━━━━━━━━━━━━━\u001b[0m\u001b[37m\u001b[0m \u001b[1m0s\u001b[0m 977ms/step - accuracy: 0.9273 - loss: 1.0897\n",
            "Epoch 72: val_loss improved from 1.08102 to 1.07746, saving model to /content/drive/MyDrive/Colab Notebooks/Odunola Thesis/32_MobileNet_fine_tuned_model.keras\n",
            "\u001b[1m90/90\u001b[0m \u001b[32m━━━━━━━━━━━━━━━━━━━━\u001b[0m\u001b[37m\u001b[0m \u001b[1m103s\u001b[0m 1s/step - accuracy: 0.9273 - loss: 1.0897 - val_accuracy: 0.9359 - val_loss: 1.0775 - learning_rate: 1.0000e-05\n",
            "Epoch 73/100\n",
            "\u001b[1m90/90\u001b[0m \u001b[32m━━━━━━━━━━━━━━━━━━━━\u001b[0m\u001b[37m\u001b[0m \u001b[1m0s\u001b[0m 985ms/step - accuracy: 0.9326 - loss: 1.0802\n",
            "Epoch 73: val_loss improved from 1.07746 to 1.07388, saving model to /content/drive/MyDrive/Colab Notebooks/Odunola Thesis/32_MobileNet_fine_tuned_model.keras\n",
            "\u001b[1m90/90\u001b[0m \u001b[32m━━━━━━━━━━━━━━━━━━━━\u001b[0m\u001b[37m\u001b[0m \u001b[1m105s\u001b[0m 1s/step - accuracy: 0.9326 - loss: 1.0802 - val_accuracy: 0.9352 - val_loss: 1.0739 - learning_rate: 1.0000e-05\n",
            "Epoch 74/100\n",
            "\u001b[1m90/90\u001b[0m \u001b[32m━━━━━━━━━━━━━━━━━━━━\u001b[0m\u001b[37m\u001b[0m \u001b[1m0s\u001b[0m 973ms/step - accuracy: 0.9391 - loss: 1.0673\n",
            "Epoch 74: val_loss improved from 1.07388 to 1.06987, saving model to /content/drive/MyDrive/Colab Notebooks/Odunola Thesis/32_MobileNet_fine_tuned_model.keras\n",
            "\u001b[1m90/90\u001b[0m \u001b[32m━━━━━━━━━━━━━━━━━━━━\u001b[0m\u001b[37m\u001b[0m \u001b[1m102s\u001b[0m 1s/step - accuracy: 0.9390 - loss: 1.0674 - val_accuracy: 0.9367 - val_loss: 1.0699 - learning_rate: 1.0000e-05\n",
            "Epoch 75/100\n",
            "\u001b[1m90/90\u001b[0m \u001b[32m━━━━━━━━━━━━━━━━━━━━\u001b[0m\u001b[37m\u001b[0m \u001b[1m0s\u001b[0m 955ms/step - accuracy: 0.9337 - loss: 1.0754\n",
            "Epoch 75: val_loss improved from 1.06987 to 1.06645, saving model to /content/drive/MyDrive/Colab Notebooks/Odunola Thesis/32_MobileNet_fine_tuned_model.keras\n",
            "\u001b[1m90/90\u001b[0m \u001b[32m━━━━━━━━━━━━━━━━━━━━\u001b[0m\u001b[37m\u001b[0m \u001b[1m100s\u001b[0m 1s/step - accuracy: 0.9337 - loss: 1.0754 - val_accuracy: 0.9375 - val_loss: 1.0664 - learning_rate: 1.0000e-05\n",
            "Epoch 76/100\n",
            "\u001b[1m90/90\u001b[0m \u001b[32m━━━━━━━━━━━━━━━━━━━━\u001b[0m\u001b[37m\u001b[0m \u001b[1m0s\u001b[0m 990ms/step - accuracy: 0.9329 - loss: 1.0746\n",
            "Epoch 76: val_loss improved from 1.06645 to 1.06374, saving model to /content/drive/MyDrive/Colab Notebooks/Odunola Thesis/32_MobileNet_fine_tuned_model.keras\n",
            "\u001b[1m90/90\u001b[0m \u001b[32m━━━━━━━━━━━━━━━━━━━━\u001b[0m\u001b[37m\u001b[0m \u001b[1m103s\u001b[0m 1s/step - accuracy: 0.9330 - loss: 1.0745 - val_accuracy: 0.9367 - val_loss: 1.0637 - learning_rate: 1.0000e-05\n",
            "Epoch 77/100\n",
            "\u001b[1m90/90\u001b[0m \u001b[32m━━━━━━━━━━━━━━━━━━━━\u001b[0m\u001b[37m\u001b[0m \u001b[1m0s\u001b[0m 983ms/step - accuracy: 0.9335 - loss: 1.0595\n",
            "Epoch 77: val_loss improved from 1.06374 to 1.05949, saving model to /content/drive/MyDrive/Colab Notebooks/Odunola Thesis/32_MobileNet_fine_tuned_model.keras\n",
            "\u001b[1m90/90\u001b[0m \u001b[32m━━━━━━━━━━━━━━━━━━━━\u001b[0m\u001b[37m\u001b[0m \u001b[1m142s\u001b[0m 1s/step - accuracy: 0.9335 - loss: 1.0595 - val_accuracy: 0.9382 - val_loss: 1.0595 - learning_rate: 1.0000e-05\n",
            "Epoch 78/100\n",
            "\u001b[1m90/90\u001b[0m \u001b[32m━━━━━━━━━━━━━━━━━━━━\u001b[0m\u001b[37m\u001b[0m \u001b[1m0s\u001b[0m 968ms/step - accuracy: 0.9303 - loss: 1.0746\n",
            "Epoch 78: val_loss improved from 1.05949 to 1.05460, saving model to /content/drive/MyDrive/Colab Notebooks/Odunola Thesis/32_MobileNet_fine_tuned_model.keras\n",
            "\u001b[1m90/90\u001b[0m \u001b[32m━━━━━━━━━━━━━━━━━━━━\u001b[0m\u001b[37m\u001b[0m \u001b[1m142s\u001b[0m 1s/step - accuracy: 0.9304 - loss: 1.0745 - val_accuracy: 0.9397 - val_loss: 1.0546 - learning_rate: 1.0000e-05\n",
            "Epoch 79/100\n",
            "\u001b[1m90/90\u001b[0m \u001b[32m━━━━━━━━━━━━━━━━━━━━\u001b[0m\u001b[37m\u001b[0m \u001b[1m0s\u001b[0m 968ms/step - accuracy: 0.9377 - loss: 1.0585\n",
            "Epoch 79: val_loss improved from 1.05460 to 1.05104, saving model to /content/drive/MyDrive/Colab Notebooks/Odunola Thesis/32_MobileNet_fine_tuned_model.keras\n",
            "\u001b[1m90/90\u001b[0m \u001b[32m━━━━━━━━━━━━━━━━━━━━\u001b[0m\u001b[37m\u001b[0m \u001b[1m139s\u001b[0m 1s/step - accuracy: 0.9377 - loss: 1.0585 - val_accuracy: 0.9397 - val_loss: 1.0510 - learning_rate: 1.0000e-05\n",
            "Epoch 80/100\n",
            "\u001b[1m90/90\u001b[0m \u001b[32m━━━━━━━━━━━━━━━━━━━━\u001b[0m\u001b[37m\u001b[0m \u001b[1m0s\u001b[0m 977ms/step - accuracy: 0.9311 - loss: 1.0626\n",
            "Epoch 80: val_loss improved from 1.05104 to 1.04715, saving model to /content/drive/MyDrive/Colab Notebooks/Odunola Thesis/32_MobileNet_fine_tuned_model.keras\n",
            "\u001b[1m90/90\u001b[0m \u001b[32m━━━━━━━━━━━━━━━━━━━━\u001b[0m\u001b[37m\u001b[0m \u001b[1m103s\u001b[0m 1s/step - accuracy: 0.9312 - loss: 1.0624 - val_accuracy: 0.9413 - val_loss: 1.0471 - learning_rate: 1.0000e-05\n",
            "Epoch 81/100\n",
            "\u001b[1m90/90\u001b[0m \u001b[32m━━━━━━━━━━━━━━━━━━━━\u001b[0m\u001b[37m\u001b[0m \u001b[1m0s\u001b[0m 980ms/step - accuracy: 0.9379 - loss: 1.0444\n",
            "Epoch 81: val_loss improved from 1.04715 to 1.04477, saving model to /content/drive/MyDrive/Colab Notebooks/Odunola Thesis/32_MobileNet_fine_tuned_model.keras\n",
            "\u001b[1m90/90\u001b[0m \u001b[32m━━━━━━━━━━━━━━━━━━━━\u001b[0m\u001b[37m\u001b[0m \u001b[1m107s\u001b[0m 1s/step - accuracy: 0.9379 - loss: 1.0444 - val_accuracy: 0.9405 - val_loss: 1.0448 - learning_rate: 1.0000e-05\n",
            "Epoch 82/100\n",
            "\u001b[1m90/90\u001b[0m \u001b[32m━━━━━━━━━━━━━━━━━━━━\u001b[0m\u001b[37m\u001b[0m \u001b[1m0s\u001b[0m 981ms/step - accuracy: 0.9412 - loss: 1.0401\n",
            "Epoch 82: val_loss improved from 1.04477 to 1.04090, saving model to /content/drive/MyDrive/Colab Notebooks/Odunola Thesis/32_MobileNet_fine_tuned_model.keras\n",
            "\u001b[1m90/90\u001b[0m \u001b[32m━━━━━━━━━━━━━━━━━━━━\u001b[0m\u001b[37m\u001b[0m \u001b[1m138s\u001b[0m 1s/step - accuracy: 0.9412 - loss: 1.0401 - val_accuracy: 0.9413 - val_loss: 1.0409 - learning_rate: 1.0000e-05\n",
            "Epoch 83/100\n",
            "\u001b[1m90/90\u001b[0m \u001b[32m━━━━━━━━━━━━━━━━━━━━\u001b[0m\u001b[37m\u001b[0m \u001b[1m0s\u001b[0m 981ms/step - accuracy: 0.9425 - loss: 1.0334\n",
            "Epoch 83: val_loss improved from 1.04090 to 1.03573, saving model to /content/drive/MyDrive/Colab Notebooks/Odunola Thesis/32_MobileNet_fine_tuned_model.keras\n",
            "\u001b[1m90/90\u001b[0m \u001b[32m━━━━━━━━━━━━━━━━━━━━\u001b[0m\u001b[37m\u001b[0m \u001b[1m102s\u001b[0m 1s/step - accuracy: 0.9425 - loss: 1.0335 - val_accuracy: 0.9420 - val_loss: 1.0357 - learning_rate: 1.0000e-05\n",
            "Epoch 84/100\n",
            "\u001b[1m90/90\u001b[0m \u001b[32m━━━━━━━━━━━━━━━━━━━━\u001b[0m\u001b[37m\u001b[0m \u001b[1m0s\u001b[0m 982ms/step - accuracy: 0.9401 - loss: 1.0397\n",
            "Epoch 84: val_loss improved from 1.03573 to 1.03359, saving model to /content/drive/MyDrive/Colab Notebooks/Odunola Thesis/32_MobileNet_fine_tuned_model.keras\n",
            "\u001b[1m90/90\u001b[0m \u001b[32m━━━━━━━━━━━━━━━━━━━━\u001b[0m\u001b[37m\u001b[0m \u001b[1m143s\u001b[0m 1s/step - accuracy: 0.9401 - loss: 1.0397 - val_accuracy: 0.9436 - val_loss: 1.0336 - learning_rate: 1.0000e-05\n",
            "Epoch 85/100\n",
            "\u001b[1m90/90\u001b[0m \u001b[32m━━━━━━━━━━━━━━━━━━━━\u001b[0m\u001b[37m\u001b[0m \u001b[1m0s\u001b[0m 979ms/step - accuracy: 0.9354 - loss: 1.0388\n",
            "Epoch 85: val_loss improved from 1.03359 to 1.03036, saving model to /content/drive/MyDrive/Colab Notebooks/Odunola Thesis/32_MobileNet_fine_tuned_model.keras\n",
            "\u001b[1m90/90\u001b[0m \u001b[32m━━━━━━━━━━━━━━━━━━━━\u001b[0m\u001b[37m\u001b[0m \u001b[1m141s\u001b[0m 1s/step - accuracy: 0.9354 - loss: 1.0388 - val_accuracy: 0.9443 - val_loss: 1.0304 - learning_rate: 1.0000e-05\n",
            "Epoch 86/100\n",
            "\u001b[1m90/90\u001b[0m \u001b[32m━━━━━━━━━━━━━━━━━━━━\u001b[0m\u001b[37m\u001b[0m \u001b[1m0s\u001b[0m 984ms/step - accuracy: 0.9403 - loss: 1.0327\n",
            "Epoch 86: val_loss improved from 1.03036 to 1.02742, saving model to /content/drive/MyDrive/Colab Notebooks/Odunola Thesis/32_MobileNet_fine_tuned_model.keras\n",
            "\u001b[1m90/90\u001b[0m \u001b[32m━━━━━━━━━━━━━━━━━━━━\u001b[0m\u001b[37m\u001b[0m \u001b[1m103s\u001b[0m 1s/step - accuracy: 0.9403 - loss: 1.0327 - val_accuracy: 0.9436 - val_loss: 1.0274 - learning_rate: 1.0000e-05\n",
            "Epoch 87/100\n",
            "\u001b[1m90/90\u001b[0m \u001b[32m━━━━━━━━━━━━━━━━━━━━\u001b[0m\u001b[37m\u001b[0m \u001b[1m0s\u001b[0m 974ms/step - accuracy: 0.9402 - loss: 1.0350\n",
            "Epoch 87: val_loss improved from 1.02742 to 1.02599, saving model to /content/drive/MyDrive/Colab Notebooks/Odunola Thesis/32_MobileNet_fine_tuned_model.keras\n",
            "\u001b[1m90/90\u001b[0m \u001b[32m━━━━━━━━━━━━━━━━━━━━\u001b[0m\u001b[37m\u001b[0m \u001b[1m143s\u001b[0m 1s/step - accuracy: 0.9402 - loss: 1.0349 - val_accuracy: 0.9443 - val_loss: 1.0260 - learning_rate: 1.0000e-05\n",
            "Epoch 88/100\n",
            "\u001b[1m90/90\u001b[0m \u001b[32m━━━━━━━━━━━━━━━━━━━━\u001b[0m\u001b[37m\u001b[0m \u001b[1m0s\u001b[0m 986ms/step - accuracy: 0.9458 - loss: 1.0147\n",
            "Epoch 88: val_loss improved from 1.02599 to 1.02461, saving model to /content/drive/MyDrive/Colab Notebooks/Odunola Thesis/32_MobileNet_fine_tuned_model.keras\n",
            "\u001b[1m90/90\u001b[0m \u001b[32m━━━━━━━━━━━━━━━━━━━━\u001b[0m\u001b[37m\u001b[0m \u001b[1m144s\u001b[0m 1s/step - accuracy: 0.9458 - loss: 1.0147 - val_accuracy: 0.9428 - val_loss: 1.0246 - learning_rate: 1.0000e-05\n",
            "Epoch 89/100\n",
            "\u001b[1m90/90\u001b[0m \u001b[32m━━━━━━━━━━━━━━━━━━━━\u001b[0m\u001b[37m\u001b[0m \u001b[1m0s\u001b[0m 982ms/step - accuracy: 0.9466 - loss: 1.0093\n",
            "Epoch 89: val_loss improved from 1.02461 to 1.01855, saving model to /content/drive/MyDrive/Colab Notebooks/Odunola Thesis/32_MobileNet_fine_tuned_model.keras\n",
            "\u001b[1m90/90\u001b[0m \u001b[32m━━━━━━━━━━━━━━━━━━━━\u001b[0m\u001b[37m\u001b[0m \u001b[1m142s\u001b[0m 1s/step - accuracy: 0.9466 - loss: 1.0094 - val_accuracy: 0.9436 - val_loss: 1.0186 - learning_rate: 1.0000e-05\n",
            "Epoch 90/100\n",
            "\u001b[1m90/90\u001b[0m \u001b[32m━━━━━━━━━━━━━━━━━━━━\u001b[0m\u001b[37m\u001b[0m \u001b[1m0s\u001b[0m 997ms/step - accuracy: 0.9396 - loss: 1.0208\n",
            "Epoch 90: val_loss improved from 1.01855 to 1.01613, saving model to /content/drive/MyDrive/Colab Notebooks/Odunola Thesis/32_MobileNet_fine_tuned_model.keras\n",
            "\u001b[1m90/90\u001b[0m \u001b[32m━━━━━━━━━━━━━━━━━━━━\u001b[0m\u001b[37m\u001b[0m \u001b[1m103s\u001b[0m 1s/step - accuracy: 0.9396 - loss: 1.0208 - val_accuracy: 0.9474 - val_loss: 1.0161 - learning_rate: 1.0000e-05\n",
            "Epoch 91/100\n",
            "\u001b[1m90/90\u001b[0m \u001b[32m━━━━━━━━━━━━━━━━━━━━\u001b[0m\u001b[37m\u001b[0m \u001b[1m0s\u001b[0m 960ms/step - accuracy: 0.9414 - loss: 1.0058\n",
            "Epoch 91: val_loss improved from 1.01613 to 1.01160, saving model to /content/drive/MyDrive/Colab Notebooks/Odunola Thesis/32_MobileNet_fine_tuned_model.keras\n",
            "\u001b[1m90/90\u001b[0m \u001b[32m━━━━━━━━━━━━━━━━━━━━\u001b[0m\u001b[37m\u001b[0m \u001b[1m102s\u001b[0m 1s/step - accuracy: 0.9414 - loss: 1.0058 - val_accuracy: 0.9481 - val_loss: 1.0116 - learning_rate: 1.0000e-05\n",
            "Epoch 92/100\n",
            "\u001b[1m90/90\u001b[0m \u001b[32m━━━━━━━━━━━━━━━━━━━━\u001b[0m\u001b[37m\u001b[0m \u001b[1m0s\u001b[0m 982ms/step - accuracy: 0.9407 - loss: 1.0171\n",
            "Epoch 92: val_loss improved from 1.01160 to 1.00813, saving model to /content/drive/MyDrive/Colab Notebooks/Odunola Thesis/32_MobileNet_fine_tuned_model.keras\n",
            "\u001b[1m90/90\u001b[0m \u001b[32m━━━━━━━━━━━━━━━━━━━━\u001b[0m\u001b[37m\u001b[0m \u001b[1m104s\u001b[0m 1s/step - accuracy: 0.9407 - loss: 1.0170 - val_accuracy: 0.9489 - val_loss: 1.0081 - learning_rate: 1.0000e-05\n",
            "Epoch 93/100\n",
            "\u001b[1m90/90\u001b[0m \u001b[32m━━━━━━━━━━━━━━━━━━━━\u001b[0m\u001b[37m\u001b[0m \u001b[1m0s\u001b[0m 996ms/step - accuracy: 0.9434 - loss: 1.0166\n",
            "Epoch 93: val_loss improved from 1.00813 to 1.00435, saving model to /content/drive/MyDrive/Colab Notebooks/Odunola Thesis/32_MobileNet_fine_tuned_model.keras\n",
            "\u001b[1m90/90\u001b[0m \u001b[32m━━━━━━━━━━━━━━━━━━━━\u001b[0m\u001b[37m\u001b[0m \u001b[1m104s\u001b[0m 1s/step - accuracy: 0.9433 - loss: 1.0166 - val_accuracy: 0.9481 - val_loss: 1.0043 - learning_rate: 1.0000e-05\n",
            "Epoch 94/100\n",
            "\u001b[1m90/90\u001b[0m \u001b[32m━━━━━━━━━━━━━━━━━━━━\u001b[0m\u001b[37m\u001b[0m \u001b[1m0s\u001b[0m 995ms/step - accuracy: 0.9485 - loss: 0.9917\n",
            "Epoch 94: val_loss improved from 1.00435 to 1.00152, saving model to /content/drive/MyDrive/Colab Notebooks/Odunola Thesis/32_MobileNet_fine_tuned_model.keras\n",
            "\u001b[1m90/90\u001b[0m \u001b[32m━━━━━━━━━━━━━━━━━━━━\u001b[0m\u001b[37m\u001b[0m \u001b[1m142s\u001b[0m 1s/step - accuracy: 0.9485 - loss: 0.9918 - val_accuracy: 0.9474 - val_loss: 1.0015 - learning_rate: 1.0000e-05\n",
            "Epoch 95/100\n",
            "\u001b[1m90/90\u001b[0m \u001b[32m━━━━━━━━━━━━━━━━━━━━\u001b[0m\u001b[37m\u001b[0m \u001b[1m0s\u001b[0m 995ms/step - accuracy: 0.9406 - loss: 1.0062\n",
            "Epoch 95: val_loss improved from 1.00152 to 0.99909, saving model to /content/drive/MyDrive/Colab Notebooks/Odunola Thesis/32_MobileNet_fine_tuned_model.keras\n",
            "\u001b[1m90/90\u001b[0m \u001b[32m━━━━━━━━━━━━━━━━━━━━\u001b[0m\u001b[37m\u001b[0m \u001b[1m103s\u001b[0m 1s/step - accuracy: 0.9407 - loss: 1.0062 - val_accuracy: 0.9458 - val_loss: 0.9991 - learning_rate: 1.0000e-05\n",
            "Epoch 96/100\n",
            "\u001b[1m90/90\u001b[0m \u001b[32m━━━━━━━━━━━━━━━━━━━━\u001b[0m\u001b[37m\u001b[0m \u001b[1m0s\u001b[0m 1s/step - accuracy: 0.9454 - loss: 1.0033\n",
            "Epoch 96: val_loss improved from 0.99909 to 0.99682, saving model to /content/drive/MyDrive/Colab Notebooks/Odunola Thesis/32_MobileNet_fine_tuned_model.keras\n",
            "\u001b[1m90/90\u001b[0m \u001b[32m━━━━━━━━━━━━━━━━━━━━\u001b[0m\u001b[37m\u001b[0m \u001b[1m106s\u001b[0m 1s/step - accuracy: 0.9454 - loss: 1.0034 - val_accuracy: 0.9474 - val_loss: 0.9968 - learning_rate: 1.0000e-05\n",
            "Epoch 97/100\n",
            "\u001b[1m90/90\u001b[0m \u001b[32m━━━━━━━━━━━━━━━━━━━━\u001b[0m\u001b[37m\u001b[0m \u001b[1m0s\u001b[0m 998ms/step - accuracy: 0.9453 - loss: 0.9901\n",
            "Epoch 97: val_loss improved from 0.99682 to 0.99545, saving model to /content/drive/MyDrive/Colab Notebooks/Odunola Thesis/32_MobileNet_fine_tuned_model.keras\n",
            "\u001b[1m90/90\u001b[0m \u001b[32m━━━━━━━━━━━━━━━━━━━━\u001b[0m\u001b[37m\u001b[0m \u001b[1m141s\u001b[0m 1s/step - accuracy: 0.9453 - loss: 0.9901 - val_accuracy: 0.9474 - val_loss: 0.9955 - learning_rate: 1.0000e-05\n",
            "Epoch 98/100\n",
            "\u001b[1m90/90\u001b[0m \u001b[32m━━━━━━━━━━━━━━━━━━━━\u001b[0m\u001b[37m\u001b[0m \u001b[1m0s\u001b[0m 972ms/step - accuracy: 0.9471 - loss: 0.9866\n",
            "Epoch 98: val_loss improved from 0.99545 to 0.99244, saving model to /content/drive/MyDrive/Colab Notebooks/Odunola Thesis/32_MobileNet_fine_tuned_model.keras\n",
            "\u001b[1m90/90\u001b[0m \u001b[32m━━━━━━━━━━━━━━━━━━━━\u001b[0m\u001b[37m\u001b[0m \u001b[1m102s\u001b[0m 1s/step - accuracy: 0.9471 - loss: 0.9866 - val_accuracy: 0.9474 - val_loss: 0.9924 - learning_rate: 1.0000e-05\n",
            "Epoch 99/100\n",
            "\u001b[1m90/90\u001b[0m \u001b[32m━━━━━━━━━━━━━━━━━━━━\u001b[0m\u001b[37m\u001b[0m \u001b[1m0s\u001b[0m 971ms/step - accuracy: 0.9494 - loss: 0.9791\n",
            "Epoch 99: val_loss improved from 0.99244 to 0.99024, saving model to /content/drive/MyDrive/Colab Notebooks/Odunola Thesis/32_MobileNet_fine_tuned_model.keras\n",
            "\u001b[1m90/90\u001b[0m \u001b[32m━━━━━━━━━━━━━━━━━━━━\u001b[0m\u001b[37m\u001b[0m \u001b[1m144s\u001b[0m 1s/step - accuracy: 0.9494 - loss: 0.9792 - val_accuracy: 0.9458 - val_loss: 0.9902 - learning_rate: 1.0000e-05\n",
            "Epoch 100/100\n",
            "\u001b[1m90/90\u001b[0m \u001b[32m━━━━━━━━━━━━━━━━━━━━\u001b[0m\u001b[37m\u001b[0m \u001b[1m0s\u001b[0m 1s/step - accuracy: 0.9475 - loss: 0.9860\n",
            "Epoch 100: val_loss improved from 0.99024 to 0.98776, saving model to /content/drive/MyDrive/Colab Notebooks/Odunola Thesis/32_MobileNet_fine_tuned_model.keras\n",
            "\u001b[1m90/90\u001b[0m \u001b[32m━━━━━━━━━━━━━━━━━━━━\u001b[0m\u001b[37m\u001b[0m \u001b[1m142s\u001b[0m 1s/step - accuracy: 0.9475 - loss: 0.9859 - val_accuracy: 0.9497 - val_loss: 0.9878 - learning_rate: 1.0000e-05\n",
            "Restoring model weights from the end of the best epoch: 100.\n"
          ]
        }
      ]
    },
    {
      "cell_type": "code",
      "source": [
        "# Plot the training and validation accuracy and loss curves\n",
        "acc = history_mobilenet.history['accuracy']\n",
        "val_acc = history_mobilenet.history['val_accuracy']\n",
        "loss = history_mobilenet.history['loss']\n",
        "val_loss = history_mobilenet.history['val_loss']\n",
        "\n",
        "epochs_range = range(len(acc))\n",
        "\n",
        "plt.figure(figsize=(12, 6))\n",
        "\n",
        "plt.subplot(1, 2, 1)\n",
        "plt.plot(epochs_range, acc, label='Training Accuracy')\n",
        "plt.plot(epochs_range, val_acc, label='Validation Accuracy')\n",
        "plt.legend(loc='lower right')\n",
        "plt.title('Training and Validation Accuracy')\n",
        "\n",
        "plt.subplot(1, 2, 2)\n",
        "plt.plot(epochs_range, loss, label='Training Loss')\n",
        "plt.plot(epochs_range, val_loss, label='Validation Loss')\n",
        "plt.legend(loc='upper right')\n",
        "plt.title('Training and Validation Loss')\n",
        "\n",
        "plt.show()"
      ],
      "metadata": {
        "colab": {
          "base_uri": "https://localhost:8080/",
          "height": 407
        },
        "id": "TG5ogLf9Gvm1",
        "outputId": "b062e6a6-56a1-4bcb-9323-962b48c60ae5"
      },
      "execution_count": null,
      "outputs": [
        {
          "output_type": "display_data",
          "data": {
            "text/plain": [
              "<Figure size 1200x600 with 2 Axes>"
            ],
            "image/png": "[encoded data removed]"
          },
          "metadata": {}
        }
      ]
    },
    {
      "cell_type": "code",
      "source": [
        "# Load the best model\n",
        "best_model_path = '/content/drive/MyDrive/MSC Project/64_MobileNet_fine_tuned_model.keras'\n",
        "\n",
        "mobilenet_model_64 = tf.keras.models.load_model(best_model_path)"
      ],
      "metadata": {
        "id": "lAr3qqZZMPyH"
      },
      "execution_count": null,
      "outputs": []
    },
    {
      "cell_type": "code",
      "source": [
        "# Evaluate the best model\n",
        "test_loss, test_accuracy = mobilenet_model_64.evaluate(test_generator)\n",
        "print(f'Test Accuracy: {test_accuracy}')"
      ],
      "metadata": {
        "colab": {
          "base_uri": "https://localhost:8080/"
        },
        "id": "4caaUM_JMxZf",
        "outputId": "e65ec865-38a8-4a04-8cc4-616fe06d15fd"
      },
      "execution_count": null,
      "outputs": [
        {
          "output_type": "stream",
          "name": "stdout",
          "text": [
            "\u001b[1m21/21\u001b[0m \u001b[32m━━━━━━━━━━━━━━━━━━━━\u001b[0m\u001b[37m\u001b[0m \u001b[1m10s\u001b[0m 383ms/step - accuracy: 0.9482 - loss: 0.9942\n",
            "Test Accuracy: 0.9496567249298096\n"
          ]
        }
      ]
    },
    {
      "cell_type": "code",
      "source": [
        "import os\n",
        "import glob\n",
        "\n",
        "def get_number(path):\n",
        "  if not os.path.exists(path):\n",
        "    return 0\n",
        "  count = 0\n",
        "\n",
        "  for current_path, dirs, files in os.walk(path):\n",
        "    for dr in dirs:\n",
        "      count += len(glob.glob(os.path.join(current_path,dr + \"/*\")))\n",
        "  return count"
      ],
      "metadata": {
        "id": "Yj6okZRrOCEi"
      },
      "execution_count": null,
      "outputs": []
    },
    {
      "cell_type": "code",
      "source": [
        "testing_images = get_number(test_dir)\n",
        "\n",
        "print(\"Number of testing samples is\", testing_images)"
      ],
      "metadata": {
        "colab": {
          "base_uri": "https://localhost:8080/"
        },
        "id": "SSbhkU0LOHO6",
        "outputId": "4c380543-962d-418f-a75f-9f185eb2ebb0"
      },
      "execution_count": null,
      "outputs": [
        {
          "output_type": "stream",
          "name": "stdout",
          "text": [
            "Number of testing samples is 1311\n"
          ]
        }
      ]
    },
    {
      "cell_type": "code",
      "source": [
        "Classes = ['Glioma', 'Meningioma', 'No Tumour', 'Pituitary']"
      ],
      "metadata": {
        "id": "i7DL1qNaOcfh"
      },
      "execution_count": null,
      "outputs": []
    },
    {
      "cell_type": "code",
      "source": [
        "from sklearn.metrics import classification_report,confusion_matrix\n",
        "y_test = test_generator.classes\n",
        "\n",
        "# predicting our model with test dataset i.e. unseen dataset\n",
        "pred = mobilenet_model_64.predict(test_generator, testing_images//batch_size+1,verbose=1,).argmax(axis=1)\n",
        "#print(y_test)\n",
        "print(pred)\n",
        "#Classification report of every label\n",
        "print(classification_report(y_test, pred, target_names = Classes))"
      ],
      "metadata": {
        "colab": {
          "base_uri": "https://localhost:8080/"
        },
        "id": "Z1-cLsHIOB3j",
        "outputId": "5c9eef54-6399-4c1d-87e7-9fe7ac910e42"
      },
      "execution_count": null,
      "outputs": [
        {
          "output_type": "stream",
          "name": "stderr",
          "text": [
            "/usr/local/lib/python3.10/dist-packages/keras/src/trainers/data_adapters/py_dataset_adapter.py:121: UserWarning: Your `PyDataset` class should call `super().__init__(**kwargs)` in its constructor. `**kwargs` can include `workers`, `use_multiprocessing`, `max_queue_size`. Do not pass these arguments to `fit()`, as they will be ignored.\n",
            "  self._warn_if_super_not_called()\n"
          ]
        },
        {
          "output_type": "stream",
          "name": "stdout",
          "text": [
            "\u001b[1m21/21\u001b[0m \u001b[32m━━━━━━━━━━━━━━━━━━━━\u001b[0m\u001b[37m\u001b[0m \u001b[1m7s\u001b[0m 312ms/step\n",
            "[0 0 0 ... 3 3 3]\n",
            "              precision    recall  f1-score   support\n",
            "\n",
            "      Glioma       0.96      0.92      0.94       300\n",
            "  Meningioma       0.92      0.88      0.90       306\n",
            "   No Tumour       0.98      1.00      0.99       405\n",
            "   Pituitary       0.92      1.00      0.96       300\n",
            "\n",
            "    accuracy                           0.95      1311\n",
            "   macro avg       0.95      0.95      0.95      1311\n",
            "weighted avg       0.95      0.95      0.95      1311\n",
            "\n"
          ]
        }
      ]
    },
    {
      "cell_type": "code",
      "source": [
        "correct = 0\n",
        "incorrect = 0\n",
        "for i in range(len(y_test)):\n",
        "\n",
        "    #print(\"Test Sample is: \", y_test[i], \"while predicted sample is: \", pred[i])\n",
        "\n",
        "    if y_test[i] != pred[i]:\n",
        "        incorrect += 1\n",
        "    else:\n",
        "        correct += 1\n",
        "\n",
        "print('Total number of test cases', ((len(y_test))))\n",
        "print('Number of correct predictions', correct)\n",
        "print('Number of incorrect predictions', incorrect)"
      ],
      "metadata": {
        "colab": {
          "base_uri": "https://localhost:8080/"
        },
        "id": "DeQyFnQyOUc7",
        "outputId": "41f10e3e-8866-43c8-8756-260c85918f42"
      },
      "execution_count": null,
      "outputs": [
        {
          "output_type": "stream",
          "name": "stdout",
          "text": [
            "Total number of test cases 1311\n",
            "Number of correct predictions 1245\n",
            "Number of incorrect predictions 66\n"
          ]
        }
      ]
    },
    {
      "cell_type": "code",
      "source": [
        "# Compute the confusion matrix\n",
        "cm = confusion_matrix(y_test, pred)\n",
        "\n",
        "# Plot the confusion matrix\n",
        "plt.figure(figsize=(10, 7))\n",
        "sns.heatmap(cm, annot=True, fmt='d', cmap='Blues', xticklabels=Classes, yticklabels=Classes)\n",
        "plt.title('Confusion Matrix for MobileNet_64')\n",
        "plt.xlabel('Predicted')\n",
        "plt.ylabel('True')\n",
        "plt.show()"
      ],
      "metadata": {
        "colab": {
          "base_uri": "https://localhost:8080/",
          "height": 593
        },
        "id": "09kCdzcmQB50",
        "outputId": "60afe5fc-3eec-474a-8eff-7d24204dbda4"
      },
      "execution_count": null,
      "outputs": [
        {
          "output_type": "display_data",
          "data": {
            "text/plain": [
              "<Figure size 1000x700 with 2 Axes>"
            ],
            "image/png": "[encoded data removed]"
          },
          "metadata": {}
        }
      ]
    },
    {
      "cell_type": "code",
      "source": [],
      "metadata": {
        "id": "15Bgplj4OUN6"
      },
      "execution_count": null,
      "outputs": []
    }
  ]
}
